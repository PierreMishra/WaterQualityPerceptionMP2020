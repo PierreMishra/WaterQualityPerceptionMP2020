{
 "cells": [
  {
   "cell_type": "code",
   "execution_count": 3,
   "metadata": {},
   "outputs": [],
   "source": [
    "import tweepy\n",
    "import csv\n",
    "import pandas as pd\n",
    "import sys"
   ]
  },
  {
   "cell_type": "code",
   "execution_count": 4,
   "metadata": {},
   "outputs": [],
   "source": [
    "# API credentials here\n",
    "consumer_key = 'A3koB4EuhkEfST1fcYizS2CHY'\n",
    "consumer_secret = 'WHo7GMPKTCJWNDmgaMBfsfZNFuLFR4Kp16aBwQJS7tKaSsnBHQ'\n",
    "access_token = '1119973522435035136-6FjyeGe4XlblWuaNNTIzwhjoNBxsrA'\n",
    "access_token_secret = 'NNYIIsZtlZc6YJpgbEbPWl9ecPfotympspjIIjrXVjWEp'\n",
    "\n",
    "auth = tweepy.OAuthHandler(consumer_key, consumer_secret)\n",
    "auth.set_access_token(access_token, access_token_secret)\n",
    "api = tweepy.API(auth,wait_on_rate_limit=True,wait_on_rate_limit_notify=True)"
   ]
  },
  {
   "cell_type": "code",
   "execution_count": 5,
   "metadata": {},
   "outputs": [
    {
     "name": "stdout",
     "output_type": "stream",
     "text": [
      "enter the hashtag here:Utah lake;water quality\n",
      "enter the starting date here (yyyy-mm-dd):2020-10-20\n",
      "2020-10-24 13:50:37 RT @uWaterCenter: \"With population growth and warmer and drier summers in general, what's the dilution effect on how much water enters the…\n",
      "2020-10-23 20:29:05 \"With population growth and warmer and drier summers in general, what's the dilution effect on how much water enters the system? Our goal is smart development to protect water quality and flow.\" Read article here. #UofUWater\n",
      "\n",
      "https://t.co/SDk1VgHRRh\n",
      "Scraping finished and saved to Utah lake;water quality.csv\n"
     ]
    }
   ],
   "source": [
    "# Search word/hashtag value \n",
    "HashValue = \"\"\n",
    "\n",
    "# search start date value. the search will start from this date to the current date.\n",
    "StartDate = \"\"\n",
    "\n",
    "# getting the search word/hashtag and date range from user\n",
    "HashValue = input(\"enter the hashtag here:\")\n",
    "HashValueList = HashValue.split(\";\")\n",
    "StartDate = input(\"enter the starting date here (yyyy-mm-dd):\")\n",
    "\n",
    "# Open/Create a file to append data\n",
    "csvFile = open(HashValue+'_'+StartDate+'.csv', 'a')\n",
    "\n",
    "#Use csv Writer\n",
    "csvWriter = csv.writer(csvFile)\n",
    "\n",
    "for tweet in tweepy.Cursor(api.search,q=HashValueList,count=5,lang=\"en\",since=StartDate, tweet_mode='extended').items():\n",
    "    print (tweet.created_at, tweet.full_text)\n",
    "    csvWriter.writerow([tweet.created_at, tweet.full_text.encode('utf-8')])\n",
    "\n",
    "print (\"Scraping finished and saved to \"+HashValue+\".csv\")\n",
    "#sys.exit()"
   ]
  },
  {
   "cell_type": "code",
   "execution_count": null,
   "metadata": {},
   "outputs": [],
   "source": []
  }
 ],
 "metadata": {
  "kernelspec": {
   "display_name": "Python 3",
   "language": "python",
   "name": "python3"
  },
  "language_info": {
   "codemirror_mode": {
    "name": "ipython",
    "version": 3
   },
   "file_extension": ".py",
   "mimetype": "text/x-python",
   "name": "python",
   "nbconvert_exporter": "python",
   "pygments_lexer": "ipython3",
   "version": "3.7.6"
  }
 },
 "nbformat": 4,
 "nbformat_minor": 4
}
