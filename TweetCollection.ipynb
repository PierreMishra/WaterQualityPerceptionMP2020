{
 "cells": [
  {
   "cell_type": "markdown",
   "metadata": {},
   "source": [
    "# Collecting Tweets using Tweepy"
   ]
  },
  {
   "cell_type": "code",
   "execution_count": 1,
   "metadata": {},
   "outputs": [],
   "source": [
    "# Load packages\n",
    "import tweepy as tw\n",
    "import pandas as pd\n",
    "import numpy as np\n",
    "from preprocessor import api as p #to clean tweets"
   ]
  },
  {
   "cell_type": "code",
   "execution_count": 2,
   "metadata": {},
   "outputs": [],
   "source": [
    "# Credentials\n",
    "access_token = \"1119973522435035136-6FjyeGe4XlblWuaNNTIzwhjoNBxsrA\"\n",
    "access_token_secret = \"NNYIIsZtlZc6YJpgbEbPWl9ecPfotympspjIIjrXVjWEp\"\n",
    "api_key = \"A3koB4EuhkEfST1fcYizS2CHY\"\n",
    "api_key_secret = \"WHo7GMPKTCJWNDmgaMBfsfZNFuLFR4Kp16aBwQJS7tKaSsnBHQ\""
   ]
  },
  {
   "cell_type": "code",
   "execution_count": 3,
   "metadata": {},
   "outputs": [],
   "source": [
    "# Authentication app\n",
    "auth = tw.OAuthHandler(api_key, api_key_secret)\n",
    "auth.set_access_token(access_token, access_token_secret)\n",
    "api = tw.API(auth)"
   ]
  },
  {
   "cell_type": "code",
   "execution_count": 21,
   "metadata": {},
   "outputs": [],
   "source": [
    "# Find by phrase or keywords within a specified time\n",
    "search_words = '\"utah lake\" -filter:links -filter:retweets' #filter out retweets and tweets with links\n",
    "\n",
    "# advanced search in Twitter search box \n",
    "# utah lake (#utahlake) until:2020-12-03 since:2020-11-28 -filter:links -filter:replies\n",
    "# If I include hashtag in search, it wouldn't show the ones without hashtag\n",
    "# May be we can have a separate search by #utahlake and then combine both the dataframes\n",
    "\n",
    "# From date to date (YYYY-MM-DD)\n",
    "date_since = '2020-11-28'\n",
    "date_until = '2020-12-3'\n",
    "\n",
    "# Create a cursor object that iterates over the requested information\n",
    "tweets = tw.Cursor(api.search, q=search_words, lang=\"en\",\n",
    "                  since=date_since, until=date_until, \n",
    "                  tweet_mode='extended').items()\n",
    "\n",
    "#when we have premium subscription we will use this\n",
    "#API.search_full_archive(environment_name, query[, tag][, fromDate][, toDate][, maxResults][, next])\n",
    "\n",
    "# Parse the cursor object into rows of lists using list comprehension\n",
    "rows = [[tweet.user.location, tweet.full_text, tweet.created_at, tweet.coordinates] for tweet in tweets]"
   ]
  },
  {
   "cell_type": "code",
   "execution_count": 22,
   "metadata": {},
   "outputs": [],
   "source": [
    "# Create dataframe from the rows of lists\n",
    "df_tweet = pd.DataFrame(data=rows, columns=['location', 'tweet', 'time', 'coordinates'])"
   ]
  },
  {
   "cell_type": "code",
   "execution_count": 23,
   "metadata": {},
   "outputs": [],
   "source": [
    "# Add ID column (because we removed user information)\n",
    "unique_id = np.arange(len(df_tweet))\n",
    "df_tweet['id'] = unique_id + 1\n",
    "df_tweet = df_tweet[['id', 'location', 'tweet', 'time', 'coordinates']]"
   ]
  },
  {
   "cell_type": "code",
   "execution_count": 24,
   "metadata": {},
   "outputs": [
    {
     "data": {
      "text/html": [
       "<div>\n",
       "<style scoped>\n",
       "    .dataframe tbody tr th:only-of-type {\n",
       "        vertical-align: middle;\n",
       "    }\n",
       "\n",
       "    .dataframe tbody tr th {\n",
       "        vertical-align: top;\n",
       "    }\n",
       "\n",
       "    .dataframe thead th {\n",
       "        text-align: right;\n",
       "    }\n",
       "</style>\n",
       "<table border=\"1\" class=\"dataframe\">\n",
       "  <thead>\n",
       "    <tr style=\"text-align: right;\">\n",
       "      <th></th>\n",
       "      <th>id</th>\n",
       "      <th>location</th>\n",
       "      <th>tweet</th>\n",
       "      <th>time</th>\n",
       "      <th>coordinates</th>\n",
       "    </tr>\n",
       "  </thead>\n",
       "  <tbody>\n",
       "  </tbody>\n",
       "</table>\n",
       "</div>"
      ],
      "text/plain": [
       "Empty DataFrame\n",
       "Columns: [id, location, tweet, time, coordinates]\n",
       "Index: []"
      ]
     },
     "execution_count": 24,
     "metadata": {},
     "output_type": "execute_result"
    }
   ],
   "source": [
    "df_tweet.head()"
   ]
  },
  {
   "cell_type": "code",
   "execution_count": 19,
   "metadata": {},
   "outputs": [
    {
     "data": {
      "text/html": [
       "<div>\n",
       "<style scoped>\n",
       "    .dataframe tbody tr th:only-of-type {\n",
       "        vertical-align: middle;\n",
       "    }\n",
       "\n",
       "    .dataframe tbody tr th {\n",
       "        vertical-align: top;\n",
       "    }\n",
       "\n",
       "    .dataframe thead th {\n",
       "        text-align: right;\n",
       "    }\n",
       "</style>\n",
       "<table border=\"1\" class=\"dataframe\">\n",
       "  <thead>\n",
       "    <tr style=\"text-align: right;\">\n",
       "      <th></th>\n",
       "      <th>id</th>\n",
       "      <th>location</th>\n",
       "      <th>tweet</th>\n",
       "      <th>time</th>\n",
       "      <th>coordinates</th>\n",
       "    </tr>\n",
       "  </thead>\n",
       "  <tbody>\n",
       "    <tr>\n",
       "      <td>0</td>\n",
       "      <td>1</td>\n",
       "      <td>Western USA</td>\n",
       "      <td>@senatorshoshana It is beautiful. I used to dr...</td>\n",
       "      <td>2020-12-01 03:44:56</td>\n",
       "      <td>None</td>\n",
       "    </tr>\n",
       "    <tr>\n",
       "      <td>1</td>\n",
       "      <td>2</td>\n",
       "      <td>Seattle, WA</td>\n",
       "      <td>I asked about how UW compensates for the loss ...</td>\n",
       "      <td>2020-11-30 19:50:02</td>\n",
       "      <td>None</td>\n",
       "    </tr>\n",
       "    <tr>\n",
       "      <td>2</td>\n",
       "      <td>3</td>\n",
       "      <td>BYU</td>\n",
       "      <td>@bayoulejeune Provo river trail is actually so...</td>\n",
       "      <td>2020-11-30 01:49:52</td>\n",
       "      <td>None</td>\n",
       "    </tr>\n",
       "    <tr>\n",
       "      <td>3</td>\n",
       "      <td>4</td>\n",
       "      <td>Provo, UT</td>\n",
       "      <td>@bayoulejeune Hopefully the Utah Lake trail in...</td>\n",
       "      <td>2020-11-30 01:36:28</td>\n",
       "      <td>None</td>\n",
       "    </tr>\n",
       "    <tr>\n",
       "      <td>4</td>\n",
       "      <td>5</td>\n",
       "      <td></td>\n",
       "      <td>@RonPlacone Patience.  While the current trend...</td>\n",
       "      <td>2020-11-29 03:08:27</td>\n",
       "      <td>None</td>\n",
       "    </tr>\n",
       "  </tbody>\n",
       "</table>\n",
       "</div>"
      ],
      "text/plain": [
       "   id     location                                              tweet  \\\n",
       "0   1  Western USA  @senatorshoshana It is beautiful. I used to dr...   \n",
       "1   2  Seattle, WA  I asked about how UW compensates for the loss ...   \n",
       "2   3          BYU  @bayoulejeune Provo river trail is actually so...   \n",
       "3   4    Provo, UT  @bayoulejeune Hopefully the Utah Lake trail in...   \n",
       "4   5               @RonPlacone Patience.  While the current trend...   \n",
       "\n",
       "                 time coordinates  \n",
       "0 2020-12-01 03:44:56        None  \n",
       "1 2020-11-30 19:50:02        None  \n",
       "2 2020-11-30 01:49:52        None  \n",
       "3 2020-11-30 01:36:28        None  \n",
       "4 2020-11-29 03:08:27        None  "
      ]
     },
     "execution_count": 19,
     "metadata": {},
     "output_type": "execute_result"
    }
   ],
   "source": [
    "df_tweet.tail()"
   ]
  },
  {
   "cell_type": "code",
   "execution_count": 13,
   "metadata": {},
   "outputs": [
    {
     "ename": "AttributeError",
     "evalue": "module 'tweepy' has no attribute 'coordinates'",
     "output_type": "error",
     "traceback": [
      "\u001b[1;31m---------------------------------------------------------------------------\u001b[0m",
      "\u001b[1;31mAttributeError\u001b[0m                            Traceback (most recent call last)",
      "\u001b[1;32m<ipython-input-13-5dfcf8b9719f>\u001b[0m in \u001b[0;36m<module>\u001b[1;34m\u001b[0m\n\u001b[1;32m----> 1\u001b[1;33m \u001b[0mtw\u001b[0m\u001b[1;33m.\u001b[0m\u001b[0mcoordinates\u001b[0m\u001b[1;33m\u001b[0m\u001b[1;33m\u001b[0m\u001b[0m\n\u001b[0m",
      "\u001b[1;31mAttributeError\u001b[0m: module 'tweepy' has no attribute 'coordinates'"
     ]
    }
   ],
   "source": [
    "tw.coordinates"
   ]
  },
  {
   "cell_type": "code",
   "execution_count": 9,
   "metadata": {},
   "outputs": [
    {
     "data": {
      "text/plain": [
       "tweepy.cursor.ItemIterator"
      ]
     },
     "execution_count": 9,
     "metadata": {},
     "output_type": "execute_result"
    }
   ],
   "source": [
    "type(tweets)"
   ]
  },
  {
   "cell_type": "markdown",
   "metadata": {},
   "source": [
    "# Cleaning tweets in the dataframe "
   ]
  },
  {
   "cell_type": "code",
   "execution_count": 10,
   "metadata": {},
   "outputs": [],
   "source": [
    "# Clean each tweet in our dataframe using the preprocessor module\n",
    "tweet_clean = []\n",
    "for tweet in df_tweet['tweet']:\n",
    "    cleaned = p.clean(tweet)\n",
    "    tweet_clean.append(cleaned)"
   ]
  },
  {
   "cell_type": "code",
   "execution_count": 11,
   "metadata": {},
   "outputs": [],
   "source": [
    "# Store as a new dataframe\n",
    "df_tweet_clean = df_tweet.copy()\n",
    "df_tweet_clean['tweet'] = tweet_clean"
   ]
  },
  {
   "cell_type": "code",
   "execution_count": 12,
   "metadata": {},
   "outputs": [
    {
     "data": {
      "text/html": [
       "<div>\n",
       "<style scoped>\n",
       "    .dataframe tbody tr th:only-of-type {\n",
       "        vertical-align: middle;\n",
       "    }\n",
       "\n",
       "    .dataframe tbody tr th {\n",
       "        vertical-align: top;\n",
       "    }\n",
       "\n",
       "    .dataframe thead th {\n",
       "        text-align: right;\n",
       "    }\n",
       "</style>\n",
       "<table border=\"1\" class=\"dataframe\">\n",
       "  <thead>\n",
       "    <tr style=\"text-align: right;\">\n",
       "      <th></th>\n",
       "      <th>id</th>\n",
       "      <th>location</th>\n",
       "      <th>tweet</th>\n",
       "      <th>time</th>\n",
       "    </tr>\n",
       "  </thead>\n",
       "  <tbody>\n",
       "    <tr>\n",
       "      <td>0</td>\n",
       "      <td>1</td>\n",
       "      <td></td>\n",
       "      <td>Damn I was really disrespecting Utah once you ...</td>\n",
       "      <td>2020-11-25 23:37:16</td>\n",
       "    </tr>\n",
       "    <tr>\n",
       "      <td>1</td>\n",
       "      <td>2</td>\n",
       "      <td></td>\n",
       "      <td>'35.09\"N '58.26\"W based on the October data, i...</td>\n",
       "      <td>2020-11-25 23:04:02</td>\n",
       "    </tr>\n",
       "    <tr>\n",
       "      <td>2</td>\n",
       "      <td>3</td>\n",
       "      <td>Salt Lake City, UT</td>\n",
       "      <td>Utah County from what I have had is kind of th...</td>\n",
       "      <td>2020-11-25 22:41:20</td>\n",
       "    </tr>\n",
       "    <tr>\n",
       "      <td>3</td>\n",
       "      <td>4</td>\n",
       "      <td>Salt Lake City, UT</td>\n",
       "      <td>Called earlier today: I just wanted to call to...</td>\n",
       "      <td>2020-11-25 22:30:53</td>\n",
       "    </tr>\n",
       "    <tr>\n",
       "      <td>4</td>\n",
       "      <td>5</td>\n",
       "      <td></td>\n",
       "      <td>I can see the dashboard now in an investor pre...</td>\n",
       "      <td>2020-11-25 22:28:59</td>\n",
       "    </tr>\n",
       "  </tbody>\n",
       "</table>\n",
       "</div>"
      ],
      "text/plain": [
       "   id            location                                              tweet  \\\n",
       "0   1                      Damn I was really disrespecting Utah once you ...   \n",
       "1   2                      '35.09\"N '58.26\"W based on the October data, i...   \n",
       "2   3  Salt Lake City, UT  Utah County from what I have had is kind of th...   \n",
       "3   4  Salt Lake City, UT  Called earlier today: I just wanted to call to...   \n",
       "4   5                      I can see the dashboard now in an investor pre...   \n",
       "\n",
       "                 time  \n",
       "0 2020-11-25 23:37:16  \n",
       "1 2020-11-25 23:04:02  \n",
       "2 2020-11-25 22:41:20  \n",
       "3 2020-11-25 22:30:53  \n",
       "4 2020-11-25 22:28:59  "
      ]
     },
     "execution_count": 12,
     "metadata": {},
     "output_type": "execute_result"
    }
   ],
   "source": [
    "df_tweet_clean.head()"
   ]
  },
  {
   "cell_type": "markdown",
   "metadata": {},
   "source": [
    "# Save the dataframe as a CSV"
   ]
  },
  {
   "cell_type": "code",
   "execution_count": 24,
   "metadata": {},
   "outputs": [
    {
     "data": {
      "text/plain": [
       "'C:\\\\Users\\\\Peaceful Pierre\\\\Documents\\\\Academics\\\\Masters Project\\\\code'"
      ]
     },
     "execution_count": 24,
     "metadata": {},
     "output_type": "execute_result"
    }
   ],
   "source": [
    "# Checking current working directory\n",
    "import os\n",
    "os.getcwd()"
   ]
  },
  {
   "cell_type": "code",
   "execution_count": 26,
   "metadata": {},
   "outputs": [],
   "source": [
    "# Store as CSV to a relative path\n",
    "df_tweet_clean.to_csv(\"scraped_tweets_test.csv\")"
   ]
  }
 ],
 "metadata": {
  "kernelspec": {
   "display_name": "Python 3",
   "language": "python",
   "name": "python3"
  },
  "language_info": {
   "codemirror_mode": {
    "name": "ipython",
    "version": 3
   },
   "file_extension": ".py",
   "mimetype": "text/x-python",
   "name": "python",
   "nbconvert_exporter": "python",
   "pygments_lexer": "ipython3",
   "version": "3.7.4"
  }
 },
 "nbformat": 4,
 "nbformat_minor": 2
}
