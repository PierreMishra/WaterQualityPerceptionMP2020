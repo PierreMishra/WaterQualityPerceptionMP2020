{
 "cells": [
  {
   "cell_type": "code",
   "execution_count": null,
   "metadata": {},
   "outputs": [],
   "source": [
    "import tweepy"
   ]
  },
  {
   "cell_type": "code",
   "execution_count": null,
   "metadata": {},
   "outputs": [],
   "source": [
    "#First we need to set authentications to get access to the tweets\n",
    "\n",
    "# API variables \n",
    "access_token = \"1119973522435035136-6FjyeGe4XlblWuaNNTIzwhjoNBxsrA\"\n",
    "access_token_secret = \"NNYIIsZtlZc6YJpgbEbPWl9ecPfotympspjIIjrXVjWEp\"\n",
    "api_key = \"A3koB4EuhkEfST1fcYizS2CHY\"\n",
    "api_key_secret = \"WHo7GMPKTCJWNDmgaMBfsfZNFuLFR4Kp16aBwQJS7tKaSsnBHQ\"\n",
    "\n",
    "# set authentications for later use\n",
    "\n",
    "auth = tweepy.OAuthHandler(api_key,api_key_secret)\n",
    "auth.set_access_token(access_token,access_token_secret)\n",
    "api = tweepy.API(auth)\n"
   ]
  },
  {
   "cell_type": "code",
   "execution_count": null,
   "metadata": {},
   "outputs": [],
   "source": [
    "#(this one is just a test of streaming code, and it works well)\n",
    "\n",
    "#create a streamlistener\n",
    "class MyStreamListener(tweepy.StreamListener):\n",
    "    \n",
    "    def on_data(self,data):\n",
    "        print(data)\n",
    "        return True\n",
    "    \n",
    "    def on_error(self,status):\n",
    "        print(status)\n",
    "\n",
    "if __name__ == \"__main__\":\n",
    "#create a stream\n",
    "    myStreamListener = MyStreamListener()\n",
    "    myStream = tweepy.Stream(auth, myStreamListener)\n",
    "    \n",
    "#apply filters\n",
    "    myStream.filter(track=[\"water\",\"algal\"])"
   ]
  },
  {
   "cell_type": "code",
   "execution_count": null,
   "metadata": {},
   "outputs": [],
   "source": [
    "# This code allows to save the tweets into a file\n",
    "## This class is for streaming and processing live tweets.\n",
    "class TwitterStreamer():\n",
    "    \n",
    "    def stream_tweets(self,fetched_tweets_file,hash_tag_list):\n",
    "        #create a stream\n",
    "        myStreamListener = MyStreamListener()\n",
    "        myStream = tweepy.Stream(auth, myStreamListener)\n",
    "    \n",
    "        #apply filters\n",
    "        myStream.filter(track= hash_tag_list)\n",
    "        \n",
    "##This class creates a listener to get tweets and print them out\n",
    "class MyStreamListener(tweepy.StreamListener):\n",
    "    \n",
    "    def __int__(self,fetched_tweets_file):\n",
    "        self.fetched_tweets_file = fetched_tweets_file\n",
    "\n",
    "    def on_data(self,data):\n",
    "        try:\n",
    "            print(data)\n",
    "            with open(self.fetched_tweets_file,\"a\") as tf:\n",
    "                tf.write(data)\n",
    "                \n",
    "            return True\n",
    "        except BaseException as e:\n",
    "            print (\"Error on data: %s\" % str(e))\n",
    "        return True\n",
    "    \n",
    "    def on_error(self,status):\n",
    "        if status == 420:\n",
    "            return False\n",
    "        print(status)\n",
    "        \n",
    "if __name__ == \"__main__\":\n",
    "    #here we can add the key words we want to look at\n",
    "    hash_tag_list = [\"water\",\"algal\"]\n",
    "    fetched_tweets_file = \"fetched_tweets.json\"\n",
    "    \n",
    "    twitter_streamer = TwitterStreamer()\n",
    "    twitter_streamer.stream_tweets(fetched_tweets_file,hash_tag_list)"
   ]
  },
  {
   "cell_type": "code",
   "execution_count": null,
   "metadata": {},
   "outputs": [],
   "source": []
  }
 ],
 "metadata": {
  "kernelspec": {
   "display_name": "Python 3",
   "language": "python",
   "name": "python3"
  },
  "language_info": {
   "codemirror_mode": {
    "name": "ipython",
    "version": 3
   },
   "file_extension": ".py",
   "mimetype": "text/x-python",
   "name": "python",
   "nbconvert_exporter": "python",
   "pygments_lexer": "ipython3",
   "version": "3.7.6"
  }
 },
 "nbformat": 4,
 "nbformat_minor": 4
}
