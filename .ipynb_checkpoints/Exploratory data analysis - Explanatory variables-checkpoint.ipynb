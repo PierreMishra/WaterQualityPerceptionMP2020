{
 "cells": [
  {
   "cell_type": "markdown",
   "metadata": {},
   "source": [
    "# Exploratory Data Analysis"
   ]
  },
  {
   "cell_type": "markdown",
   "metadata": {},
   "source": [
    "Explanatory variables:\n",
    "* Chlorophyll\n",
    "* Secchi depth\n",
    "* Total cell count\n",
    "* Total biovolume\n",
    "* Cyanobacterial cell count\n",
    "* Cyanobacterial biovolume"
   ]
  },
  {
   "cell_type": "code",
   "execution_count": 5,
   "metadata": {},
   "outputs": [],
   "source": [
    "# Import libraries\n",
    "import pandas as pd\n",
    "import numpy as np\n",
    "import seaborn as sns #use sns.__version__ to see version should be 0.11.1\n",
    "import matplotlib.pyplot as plt\n",
    "import datetime as dt\n",
    "\n",
    "# turn off top and rigt axis line in matplotlib\n",
    "plt.rcParams[\"axes.spines.right\"] = False\n",
    "plt.rcParams[\"axes.spines.top\"] = False\n",
    "\n",
    "# change font size in matplolib\n",
    "plt.rcParams.update({'font.size': 14})\n",
    "\n",
    "# increasing the deafult DPI to improve resolution\n",
    "#plt.rcParams['figure.dpi']= 50 # for preview\n",
    "plt.rc(\"savefig\", dpi = 300) # for saving"
   ]
  },
  {
   "cell_type": "markdown",
   "metadata": {},
   "source": [
    "# Routine water quality data"
   ]
  },
  {
   "cell_type": "code",
   "execution_count": 6,
   "metadata": {},
   "outputs": [],
   "source": [
    "# Import Kateri's processed water quality data\n",
    "df = pd.read_csv(\"../../Data/ul_data_wqp_processed_2020-03-05.csv\")"
   ]
  },
  {
   "cell_type": "code",
   "execution_count": 7,
   "metadata": {},
   "outputs": [],
   "source": [
    "# Selecting relevant columns\n",
    "df = df.loc[:,[\"MonitoringLocationIdentifier\",\"datetime\",\n",
    "               \"CharacteristicName\", \n",
    "               \"ResultMeasureValue\"]].copy()"
   ]
  },
  {
   "cell_type": "code",
   "execution_count": 8,
   "metadata": {},
   "outputs": [],
   "source": [
    "# Transform table\n",
    "wq = df.pivot_table(\"ResultMeasureValue\", ['MonitoringLocationIdentifier','datetime'],'CharacteristicName') \n",
    "wq.columns.name = ''"
   ]
  },
  {
   "cell_type": "code",
   "execution_count": 9,
   "metadata": {},
   "outputs": [],
   "source": [
    "# Make datetime column datetime type\n",
    "wq = wq.reset_index()\n",
    "wq.datetime = pd.to_datetime(wq['datetime'])"
   ]
  },
  {
   "cell_type": "code",
   "execution_count": 10,
   "metadata": {},
   "outputs": [],
   "source": [
    "# Take average to get daily values\n",
    "# used this to groupby https://pbpython.com/pandas-grouper-agg.html \n",
    "# https://pandas.pydata.org/pandas-docs/stable/user_guide/timeseries.html#dateoffset-objects\n",
    "wq = wq.groupby(['MonitoringLocationIdentifier',\n",
    "                 pd.Grouper(key='datetime', freq='D')])[wq.columns[2:]].mean()\n",
    "wq = wq.reset_index()\n",
    "wq.datetime = pd.to_datetime(wq['datetime'])"
   ]
  },
  {
   "cell_type": "code",
   "execution_count": 11,
   "metadata": {},
   "outputs": [
    {
     "data": {
      "text/html": [
       "<div>\n",
       "<style scoped>\n",
       "    .dataframe tbody tr th:only-of-type {\n",
       "        vertical-align: middle;\n",
       "    }\n",
       "\n",
       "    .dataframe tbody tr th {\n",
       "        vertical-align: top;\n",
       "    }\n",
       "\n",
       "    .dataframe thead th {\n",
       "        text-align: right;\n",
       "    }\n",
       "</style>\n",
       "<table border=\"1\" class=\"dataframe\">\n",
       "  <thead>\n",
       "    <tr style=\"text-align: right;\">\n",
       "      <th></th>\n",
       "      <th>MonitoringLocationIdentifier</th>\n",
       "      <th>datetime</th>\n",
       "      <th>Alkalinity, total</th>\n",
       "      <th>Aluminum</th>\n",
       "      <th>Ammonia-nitrogen</th>\n",
       "      <th>Arsenic</th>\n",
       "      <th>Barium</th>\n",
       "      <th>Bicarbonate</th>\n",
       "      <th>Biochemical oxygen demand, standard conditions</th>\n",
       "      <th>Boron</th>\n",
       "      <th>...</th>\n",
       "      <th>Total Kjeldahl nitrogen</th>\n",
       "      <th>Total dissolved solids</th>\n",
       "      <th>Total fixed solids</th>\n",
       "      <th>Total suspended solids</th>\n",
       "      <th>Total volatile solids</th>\n",
       "      <th>Turbidity</th>\n",
       "      <th>Volatile suspended solids</th>\n",
       "      <th>Weather condition (WMO code 4501) (choice list)</th>\n",
       "      <th>Zinc</th>\n",
       "      <th>pH</th>\n",
       "    </tr>\n",
       "  </thead>\n",
       "  <tbody>\n",
       "    <tr>\n",
       "      <th>0</th>\n",
       "      <td>NALMS-7458</td>\n",
       "      <td>2012-06-27</td>\n",
       "      <td>NaN</td>\n",
       "      <td>NaN</td>\n",
       "      <td>NaN</td>\n",
       "      <td>NaN</td>\n",
       "      <td>NaN</td>\n",
       "      <td>NaN</td>\n",
       "      <td>NaN</td>\n",
       "      <td>NaN</td>\n",
       "      <td>...</td>\n",
       "      <td>NaN</td>\n",
       "      <td>NaN</td>\n",
       "      <td>NaN</td>\n",
       "      <td>NaN</td>\n",
       "      <td>NaN</td>\n",
       "      <td>NaN</td>\n",
       "      <td>NaN</td>\n",
       "      <td>0.0</td>\n",
       "      <td>NaN</td>\n",
       "      <td>NaN</td>\n",
       "    </tr>\n",
       "    <tr>\n",
       "      <th>1</th>\n",
       "      <td>NALMS-7458</td>\n",
       "      <td>2015-07-03</td>\n",
       "      <td>NaN</td>\n",
       "      <td>NaN</td>\n",
       "      <td>NaN</td>\n",
       "      <td>NaN</td>\n",
       "      <td>NaN</td>\n",
       "      <td>NaN</td>\n",
       "      <td>NaN</td>\n",
       "      <td>NaN</td>\n",
       "      <td>...</td>\n",
       "      <td>NaN</td>\n",
       "      <td>NaN</td>\n",
       "      <td>NaN</td>\n",
       "      <td>NaN</td>\n",
       "      <td>NaN</td>\n",
       "      <td>NaN</td>\n",
       "      <td>NaN</td>\n",
       "      <td>0.0</td>\n",
       "      <td>NaN</td>\n",
       "      <td>8.0</td>\n",
       "    </tr>\n",
       "    <tr>\n",
       "      <th>2</th>\n",
       "      <td>USGS-401327111462601</td>\n",
       "      <td>2016-08-10</td>\n",
       "      <td>163.0</td>\n",
       "      <td>NaN</td>\n",
       "      <td>NaN</td>\n",
       "      <td>NaN</td>\n",
       "      <td>NaN</td>\n",
       "      <td>NaN</td>\n",
       "      <td>NaN</td>\n",
       "      <td>NaN</td>\n",
       "      <td>...</td>\n",
       "      <td>NaN</td>\n",
       "      <td>1037.386667</td>\n",
       "      <td>NaN</td>\n",
       "      <td>NaN</td>\n",
       "      <td>NaN</td>\n",
       "      <td>110.0</td>\n",
       "      <td>NaN</td>\n",
       "      <td>NaN</td>\n",
       "      <td>NaN</td>\n",
       "      <td>NaN</td>\n",
       "    </tr>\n",
       "    <tr>\n",
       "      <th>3</th>\n",
       "      <td>USGS-401432111454301</td>\n",
       "      <td>2016-08-10</td>\n",
       "      <td>165.0</td>\n",
       "      <td>NaN</td>\n",
       "      <td>NaN</td>\n",
       "      <td>NaN</td>\n",
       "      <td>NaN</td>\n",
       "      <td>NaN</td>\n",
       "      <td>NaN</td>\n",
       "      <td>NaN</td>\n",
       "      <td>...</td>\n",
       "      <td>NaN</td>\n",
       "      <td>1034.040000</td>\n",
       "      <td>NaN</td>\n",
       "      <td>NaN</td>\n",
       "      <td>NaN</td>\n",
       "      <td>74.0</td>\n",
       "      <td>NaN</td>\n",
       "      <td>NaN</td>\n",
       "      <td>NaN</td>\n",
       "      <td>NaN</td>\n",
       "    </tr>\n",
       "    <tr>\n",
       "      <th>4</th>\n",
       "      <td>USGS-401613111463301</td>\n",
       "      <td>2016-08-10</td>\n",
       "      <td>164.0</td>\n",
       "      <td>NaN</td>\n",
       "      <td>NaN</td>\n",
       "      <td>NaN</td>\n",
       "      <td>NaN</td>\n",
       "      <td>NaN</td>\n",
       "      <td>NaN</td>\n",
       "      <td>NaN</td>\n",
       "      <td>...</td>\n",
       "      <td>NaN</td>\n",
       "      <td>980.683333</td>\n",
       "      <td>NaN</td>\n",
       "      <td>NaN</td>\n",
       "      <td>NaN</td>\n",
       "      <td>100.0</td>\n",
       "      <td>NaN</td>\n",
       "      <td>NaN</td>\n",
       "      <td>NaN</td>\n",
       "      <td>NaN</td>\n",
       "    </tr>\n",
       "    <tr>\n",
       "      <th>5</th>\n",
       "      <td>USGS-401658111491601</td>\n",
       "      <td>2016-08-10</td>\n",
       "      <td>166.0</td>\n",
       "      <td>NaN</td>\n",
       "      <td>NaN</td>\n",
       "      <td>NaN</td>\n",
       "      <td>NaN</td>\n",
       "      <td>NaN</td>\n",
       "      <td>NaN</td>\n",
       "      <td>NaN</td>\n",
       "      <td>...</td>\n",
       "      <td>NaN</td>\n",
       "      <td>1050.723333</td>\n",
       "      <td>NaN</td>\n",
       "      <td>NaN</td>\n",
       "      <td>NaN</td>\n",
       "      <td>59.0</td>\n",
       "      <td>NaN</td>\n",
       "      <td>NaN</td>\n",
       "      <td>NaN</td>\n",
       "      <td>NaN</td>\n",
       "    </tr>\n",
       "    <tr>\n",
       "      <th>6</th>\n",
       "      <td>UTAHDWQ_WQX-4917300</td>\n",
       "      <td>1978-08-31</td>\n",
       "      <td>NaN</td>\n",
       "      <td>NaN</td>\n",
       "      <td>0.5</td>\n",
       "      <td>23.0</td>\n",
       "      <td>90.00</td>\n",
       "      <td>200.0</td>\n",
       "      <td>10.0</td>\n",
       "      <td>385.0</td>\n",
       "      <td>...</td>\n",
       "      <td>NaN</td>\n",
       "      <td>955.000000</td>\n",
       "      <td>NaN</td>\n",
       "      <td>80.0</td>\n",
       "      <td>NaN</td>\n",
       "      <td>52.0</td>\n",
       "      <td>NaN</td>\n",
       "      <td>NaN</td>\n",
       "      <td>25.0</td>\n",
       "      <td>8.7</td>\n",
       "    </tr>\n",
       "    <tr>\n",
       "      <th>7</th>\n",
       "      <td>UTAHDWQ_WQX-4917300</td>\n",
       "      <td>1989-07-11</td>\n",
       "      <td>NaN</td>\n",
       "      <td>NaN</td>\n",
       "      <td>NaN</td>\n",
       "      <td>10.0</td>\n",
       "      <td>0.11</td>\n",
       "      <td>202.0</td>\n",
       "      <td>NaN</td>\n",
       "      <td>NaN</td>\n",
       "      <td>...</td>\n",
       "      <td>NaN</td>\n",
       "      <td>1010.000000</td>\n",
       "      <td>NaN</td>\n",
       "      <td>87.0</td>\n",
       "      <td>NaN</td>\n",
       "      <td>61.0</td>\n",
       "      <td>NaN</td>\n",
       "      <td>NaN</td>\n",
       "      <td>NaN</td>\n",
       "      <td>8.6</td>\n",
       "    </tr>\n",
       "    <tr>\n",
       "      <th>8</th>\n",
       "      <td>UTAHDWQ_WQX-4917300</td>\n",
       "      <td>1990-08-14</td>\n",
       "      <td>NaN</td>\n",
       "      <td>NaN</td>\n",
       "      <td>NaN</td>\n",
       "      <td>NaN</td>\n",
       "      <td>NaN</td>\n",
       "      <td>194.0</td>\n",
       "      <td>NaN</td>\n",
       "      <td>NaN</td>\n",
       "      <td>...</td>\n",
       "      <td>NaN</td>\n",
       "      <td>1240.000000</td>\n",
       "      <td>NaN</td>\n",
       "      <td>84.0</td>\n",
       "      <td>NaN</td>\n",
       "      <td>62.0</td>\n",
       "      <td>NaN</td>\n",
       "      <td>NaN</td>\n",
       "      <td>NaN</td>\n",
       "      <td>NaN</td>\n",
       "    </tr>\n",
       "    <tr>\n",
       "      <th>9</th>\n",
       "      <td>UTAHDWQ_WQX-4917300</td>\n",
       "      <td>1993-07-28</td>\n",
       "      <td>NaN</td>\n",
       "      <td>NaN</td>\n",
       "      <td>NaN</td>\n",
       "      <td>NaN</td>\n",
       "      <td>NaN</td>\n",
       "      <td>NaN</td>\n",
       "      <td>4.0</td>\n",
       "      <td>NaN</td>\n",
       "      <td>...</td>\n",
       "      <td>NaN</td>\n",
       "      <td>NaN</td>\n",
       "      <td>NaN</td>\n",
       "      <td>NaN</td>\n",
       "      <td>NaN</td>\n",
       "      <td>NaN</td>\n",
       "      <td>NaN</td>\n",
       "      <td>NaN</td>\n",
       "      <td>NaN</td>\n",
       "      <td>7.9</td>\n",
       "    </tr>\n",
       "  </tbody>\n",
       "</table>\n",
       "<p>10 rows × 77 columns</p>\n",
       "</div>"
      ],
      "text/plain": [
       "  MonitoringLocationIdentifier   datetime  Alkalinity, total  Aluminum  \\\n",
       "0                   NALMS-7458 2012-06-27                NaN       NaN   \n",
       "1                   NALMS-7458 2015-07-03                NaN       NaN   \n",
       "2         USGS-401327111462601 2016-08-10              163.0       NaN   \n",
       "3         USGS-401432111454301 2016-08-10              165.0       NaN   \n",
       "4         USGS-401613111463301 2016-08-10              164.0       NaN   \n",
       "5         USGS-401658111491601 2016-08-10              166.0       NaN   \n",
       "6          UTAHDWQ_WQX-4917300 1978-08-31                NaN       NaN   \n",
       "7          UTAHDWQ_WQX-4917300 1989-07-11                NaN       NaN   \n",
       "8          UTAHDWQ_WQX-4917300 1990-08-14                NaN       NaN   \n",
       "9          UTAHDWQ_WQX-4917300 1993-07-28                NaN       NaN   \n",
       "\n",
       "   Ammonia-nitrogen  Arsenic  Barium  Bicarbonate  \\\n",
       "0               NaN      NaN     NaN          NaN   \n",
       "1               NaN      NaN     NaN          NaN   \n",
       "2               NaN      NaN     NaN          NaN   \n",
       "3               NaN      NaN     NaN          NaN   \n",
       "4               NaN      NaN     NaN          NaN   \n",
       "5               NaN      NaN     NaN          NaN   \n",
       "6               0.5     23.0   90.00        200.0   \n",
       "7               NaN     10.0    0.11        202.0   \n",
       "8               NaN      NaN     NaN        194.0   \n",
       "9               NaN      NaN     NaN          NaN   \n",
       "\n",
       "   Biochemical oxygen demand, standard conditions  Boron  ...  \\\n",
       "0                                             NaN    NaN  ...   \n",
       "1                                             NaN    NaN  ...   \n",
       "2                                             NaN    NaN  ...   \n",
       "3                                             NaN    NaN  ...   \n",
       "4                                             NaN    NaN  ...   \n",
       "5                                             NaN    NaN  ...   \n",
       "6                                            10.0  385.0  ...   \n",
       "7                                             NaN    NaN  ...   \n",
       "8                                             NaN    NaN  ...   \n",
       "9                                             4.0    NaN  ...   \n",
       "\n",
       "   Total Kjeldahl nitrogen  Total dissolved solids  Total fixed solids  \\\n",
       "0                      NaN                     NaN                 NaN   \n",
       "1                      NaN                     NaN                 NaN   \n",
       "2                      NaN             1037.386667                 NaN   \n",
       "3                      NaN             1034.040000                 NaN   \n",
       "4                      NaN              980.683333                 NaN   \n",
       "5                      NaN             1050.723333                 NaN   \n",
       "6                      NaN              955.000000                 NaN   \n",
       "7                      NaN             1010.000000                 NaN   \n",
       "8                      NaN             1240.000000                 NaN   \n",
       "9                      NaN                     NaN                 NaN   \n",
       "\n",
       "   Total suspended solids  Total volatile solids  Turbidity  \\\n",
       "0                     NaN                    NaN        NaN   \n",
       "1                     NaN                    NaN        NaN   \n",
       "2                     NaN                    NaN      110.0   \n",
       "3                     NaN                    NaN       74.0   \n",
       "4                     NaN                    NaN      100.0   \n",
       "5                     NaN                    NaN       59.0   \n",
       "6                    80.0                    NaN       52.0   \n",
       "7                    87.0                    NaN       61.0   \n",
       "8                    84.0                    NaN       62.0   \n",
       "9                     NaN                    NaN        NaN   \n",
       "\n",
       "   Volatile suspended solids  Weather condition (WMO code 4501) (choice list)  \\\n",
       "0                        NaN                                              0.0   \n",
       "1                        NaN                                              0.0   \n",
       "2                        NaN                                              NaN   \n",
       "3                        NaN                                              NaN   \n",
       "4                        NaN                                              NaN   \n",
       "5                        NaN                                              NaN   \n",
       "6                        NaN                                              NaN   \n",
       "7                        NaN                                              NaN   \n",
       "8                        NaN                                              NaN   \n",
       "9                        NaN                                              NaN   \n",
       "\n",
       "   Zinc   pH  \n",
       "0   NaN  NaN  \n",
       "1   NaN  8.0  \n",
       "2   NaN  NaN  \n",
       "3   NaN  NaN  \n",
       "4   NaN  NaN  \n",
       "5   NaN  NaN  \n",
       "6  25.0  8.7  \n",
       "7   NaN  8.6  \n",
       "8   NaN  NaN  \n",
       "9   NaN  7.9  \n",
       "\n",
       "[10 rows x 77 columns]"
      ]
     },
     "execution_count": 11,
     "metadata": {},
     "output_type": "execute_result"
    }
   ],
   "source": [
    "wq.head(10)"
   ]
  },
  {
   "cell_type": "code",
   "execution_count": 12,
   "metadata": {},
   "outputs": [
    {
     "data": {
      "text/plain": [
       "(1243, 77)"
      ]
     },
     "execution_count": 12,
     "metadata": {},
     "output_type": "execute_result"
    }
   ],
   "source": [
    "wq.shape"
   ]
  },
  {
   "cell_type": "code",
   "execution_count": 13,
   "metadata": {},
   "outputs": [
    {
     "name": "stderr",
     "output_type": "stream",
     "text": [
      "<ipython-input-13-fadbabde9f56>:1: FutureWarning: Treating datetime data as categorical rather than numeric in `.describe` is deprecated and will be removed in a future version of pandas. Specify `datetime_is_numeric=True` to silence this warning and adopt the future behavior now.\n",
      "  wq.datetime.describe()\n"
     ]
    },
    {
     "data": {
      "text/plain": [
       "count                    1243\n",
       "unique                    214\n",
       "top       2018-05-16 00:00:00\n",
       "freq                       20\n",
       "first     1978-08-31 00:00:00\n",
       "last      2019-09-23 00:00:00\n",
       "Name: datetime, dtype: object"
      ]
     },
     "execution_count": 13,
     "metadata": {},
     "output_type": "execute_result"
    }
   ],
   "source": [
    "wq.datetime.describe()"
   ]
  },
  {
   "cell_type": "markdown",
   "metadata": {},
   "source": [
    "Two reasons to collapse spatial variability\n",
    "* Social media data does not have spatial information\n",
    "* Water quality parameters do not have a consistent temporal or spatial pattern of measuremnts"
   ]
  },
  {
   "cell_type": "code",
   "execution_count": 14,
   "metadata": {},
   "outputs": [
    {
     "name": "stderr",
     "output_type": "stream",
     "text": [
      "<ipython-input-14-b82afb971c43>:3: FutureWarning: Treating datetime data as categorical rather than numeric in `.describe` is deprecated and will be removed in a future version of pandas. Specify `datetime_is_numeric=True` to silence this warning and adopt the future behavior now.\n",
      "  wq.datetime.describe()\n"
     ]
    },
    {
     "data": {
      "text/plain": [
       "count                    1243\n",
       "unique                    214\n",
       "top       2018-05-16 00:00:00\n",
       "freq                       20\n",
       "first     1978-08-31 00:00:00\n",
       "last      2019-09-23 00:00:00\n",
       "Name: datetime, dtype: object"
      ]
     },
     "execution_count": 14,
     "metadata": {},
     "output_type": "execute_result"
    }
   ],
   "source": [
    "# Collapse spatial variability by dropping location and averaging (or taking maximum) of daily values\n",
    "# First see how many unique observations\n",
    "wq.datetime.describe()"
   ]
  },
  {
   "cell_type": "code",
   "execution_count": 15,
   "metadata": {},
   "outputs": [
    {
     "name": "stderr",
     "output_type": "stream",
     "text": [
      "<ipython-input-15-1d5b72bb5bf2>:3: FutureWarning: Treating datetime data as categorical rather than numeric in `.describe` is deprecated and will be removed in a future version of pandas. Specify `datetime_is_numeric=True` to silence this warning and adopt the future behavior now.\n",
      "  wq_16.datetime.describe()\n"
     ]
    },
    {
     "data": {
      "text/plain": [
       "count                     611\n",
       "unique                    118\n",
       "top       2018-05-16 00:00:00\n",
       "freq                       20\n",
       "first     2016-01-07 00:00:00\n",
       "last      2019-09-23 00:00:00\n",
       "Name: datetime, dtype: object"
      ]
     },
     "execution_count": 15,
     "metadata": {},
     "output_type": "execute_result"
    }
   ],
   "source": [
    "# Select all rows after 2016\n",
    "wq_16 = wq.loc[wq['datetime'] > '2015-12-31']\n",
    "wq_16.datetime.describe()"
   ]
  },
  {
   "cell_type": "code",
   "execution_count": 16,
   "metadata": {},
   "outputs": [],
   "source": [
    "# Drop locations column\n",
    "wq_16 = wq_16.iloc[:,1:]"
   ]
  },
  {
   "cell_type": "code",
   "execution_count": 17,
   "metadata": {},
   "outputs": [
    {
     "data": {
      "text/html": [
       "<div>\n",
       "<style scoped>\n",
       "    .dataframe tbody tr th:only-of-type {\n",
       "        vertical-align: middle;\n",
       "    }\n",
       "\n",
       "    .dataframe tbody tr th {\n",
       "        vertical-align: top;\n",
       "    }\n",
       "\n",
       "    .dataframe thead th {\n",
       "        text-align: right;\n",
       "    }\n",
       "</style>\n",
       "<table border=\"1\" class=\"dataframe\">\n",
       "  <thead>\n",
       "    <tr style=\"text-align: right;\">\n",
       "      <th></th>\n",
       "      <th>datetime</th>\n",
       "      <th>Alkalinity, total</th>\n",
       "      <th>Aluminum</th>\n",
       "      <th>Ammonia-nitrogen</th>\n",
       "      <th>Arsenic</th>\n",
       "      <th>Barium</th>\n",
       "      <th>Bicarbonate</th>\n",
       "      <th>Biochemical oxygen demand, standard conditions</th>\n",
       "      <th>Boron</th>\n",
       "      <th>Bromide</th>\n",
       "      <th>...</th>\n",
       "      <th>Total Kjeldahl nitrogen</th>\n",
       "      <th>Total dissolved solids</th>\n",
       "      <th>Total fixed solids</th>\n",
       "      <th>Total suspended solids</th>\n",
       "      <th>Total volatile solids</th>\n",
       "      <th>Turbidity</th>\n",
       "      <th>Volatile suspended solids</th>\n",
       "      <th>Weather condition (WMO code 4501) (choice list)</th>\n",
       "      <th>Zinc</th>\n",
       "      <th>pH</th>\n",
       "    </tr>\n",
       "  </thead>\n",
       "  <tbody>\n",
       "    <tr>\n",
       "      <th>2</th>\n",
       "      <td>2016-08-10</td>\n",
       "      <td>163.0</td>\n",
       "      <td>NaN</td>\n",
       "      <td>NaN</td>\n",
       "      <td>NaN</td>\n",
       "      <td>NaN</td>\n",
       "      <td>NaN</td>\n",
       "      <td>NaN</td>\n",
       "      <td>NaN</td>\n",
       "      <td>0.398</td>\n",
       "      <td>...</td>\n",
       "      <td>NaN</td>\n",
       "      <td>1037.386667</td>\n",
       "      <td>NaN</td>\n",
       "      <td>NaN</td>\n",
       "      <td>NaN</td>\n",
       "      <td>110.0</td>\n",
       "      <td>NaN</td>\n",
       "      <td>NaN</td>\n",
       "      <td>NaN</td>\n",
       "      <td>NaN</td>\n",
       "    </tr>\n",
       "    <tr>\n",
       "      <th>3</th>\n",
       "      <td>2016-08-10</td>\n",
       "      <td>165.0</td>\n",
       "      <td>NaN</td>\n",
       "      <td>NaN</td>\n",
       "      <td>NaN</td>\n",
       "      <td>NaN</td>\n",
       "      <td>NaN</td>\n",
       "      <td>NaN</td>\n",
       "      <td>NaN</td>\n",
       "      <td>0.395</td>\n",
       "      <td>...</td>\n",
       "      <td>NaN</td>\n",
       "      <td>1034.040000</td>\n",
       "      <td>NaN</td>\n",
       "      <td>NaN</td>\n",
       "      <td>NaN</td>\n",
       "      <td>74.0</td>\n",
       "      <td>NaN</td>\n",
       "      <td>NaN</td>\n",
       "      <td>NaN</td>\n",
       "      <td>NaN</td>\n",
       "    </tr>\n",
       "    <tr>\n",
       "      <th>4</th>\n",
       "      <td>2016-08-10</td>\n",
       "      <td>164.0</td>\n",
       "      <td>NaN</td>\n",
       "      <td>NaN</td>\n",
       "      <td>NaN</td>\n",
       "      <td>NaN</td>\n",
       "      <td>NaN</td>\n",
       "      <td>NaN</td>\n",
       "      <td>NaN</td>\n",
       "      <td>0.379</td>\n",
       "      <td>...</td>\n",
       "      <td>NaN</td>\n",
       "      <td>980.683333</td>\n",
       "      <td>NaN</td>\n",
       "      <td>NaN</td>\n",
       "      <td>NaN</td>\n",
       "      <td>100.0</td>\n",
       "      <td>NaN</td>\n",
       "      <td>NaN</td>\n",
       "      <td>NaN</td>\n",
       "      <td>NaN</td>\n",
       "    </tr>\n",
       "    <tr>\n",
       "      <th>5</th>\n",
       "      <td>2016-08-10</td>\n",
       "      <td>166.0</td>\n",
       "      <td>NaN</td>\n",
       "      <td>NaN</td>\n",
       "      <td>NaN</td>\n",
       "      <td>NaN</td>\n",
       "      <td>NaN</td>\n",
       "      <td>NaN</td>\n",
       "      <td>NaN</td>\n",
       "      <td>0.395</td>\n",
       "      <td>...</td>\n",
       "      <td>NaN</td>\n",
       "      <td>1050.723333</td>\n",
       "      <td>NaN</td>\n",
       "      <td>NaN</td>\n",
       "      <td>NaN</td>\n",
       "      <td>59.0</td>\n",
       "      <td>NaN</td>\n",
       "      <td>NaN</td>\n",
       "      <td>NaN</td>\n",
       "      <td>NaN</td>\n",
       "    </tr>\n",
       "    <tr>\n",
       "      <th>13</th>\n",
       "      <td>2016-09-26</td>\n",
       "      <td>NaN</td>\n",
       "      <td>NaN</td>\n",
       "      <td>NaN</td>\n",
       "      <td>NaN</td>\n",
       "      <td>NaN</td>\n",
       "      <td>NaN</td>\n",
       "      <td>NaN</td>\n",
       "      <td>NaN</td>\n",
       "      <td>NaN</td>\n",
       "      <td>...</td>\n",
       "      <td>NaN</td>\n",
       "      <td>NaN</td>\n",
       "      <td>NaN</td>\n",
       "      <td>NaN</td>\n",
       "      <td>NaN</td>\n",
       "      <td>NaN</td>\n",
       "      <td>NaN</td>\n",
       "      <td>NaN</td>\n",
       "      <td>NaN</td>\n",
       "      <td>NaN</td>\n",
       "    </tr>\n",
       "  </tbody>\n",
       "</table>\n",
       "<p>5 rows × 76 columns</p>\n",
       "</div>"
      ],
      "text/plain": [
       "     datetime  Alkalinity, total  Aluminum  Ammonia-nitrogen  Arsenic  Barium  \\\n",
       "2  2016-08-10              163.0       NaN               NaN      NaN     NaN   \n",
       "3  2016-08-10              165.0       NaN               NaN      NaN     NaN   \n",
       "4  2016-08-10              164.0       NaN               NaN      NaN     NaN   \n",
       "5  2016-08-10              166.0       NaN               NaN      NaN     NaN   \n",
       "13 2016-09-26                NaN       NaN               NaN      NaN     NaN   \n",
       "\n",
       "    Bicarbonate  Biochemical oxygen demand, standard conditions  Boron  \\\n",
       "2           NaN                                             NaN    NaN   \n",
       "3           NaN                                             NaN    NaN   \n",
       "4           NaN                                             NaN    NaN   \n",
       "5           NaN                                             NaN    NaN   \n",
       "13          NaN                                             NaN    NaN   \n",
       "\n",
       "    Bromide  ...  Total Kjeldahl nitrogen  Total dissolved solids  \\\n",
       "2     0.398  ...                      NaN             1037.386667   \n",
       "3     0.395  ...                      NaN             1034.040000   \n",
       "4     0.379  ...                      NaN              980.683333   \n",
       "5     0.395  ...                      NaN             1050.723333   \n",
       "13      NaN  ...                      NaN                     NaN   \n",
       "\n",
       "    Total fixed solids  Total suspended solids  Total volatile solids  \\\n",
       "2                  NaN                     NaN                    NaN   \n",
       "3                  NaN                     NaN                    NaN   \n",
       "4                  NaN                     NaN                    NaN   \n",
       "5                  NaN                     NaN                    NaN   \n",
       "13                 NaN                     NaN                    NaN   \n",
       "\n",
       "    Turbidity  Volatile suspended solids  \\\n",
       "2       110.0                        NaN   \n",
       "3        74.0                        NaN   \n",
       "4       100.0                        NaN   \n",
       "5        59.0                        NaN   \n",
       "13        NaN                        NaN   \n",
       "\n",
       "    Weather condition (WMO code 4501) (choice list)  Zinc  pH  \n",
       "2                                               NaN   NaN NaN  \n",
       "3                                               NaN   NaN NaN  \n",
       "4                                               NaN   NaN NaN  \n",
       "5                                               NaN   NaN NaN  \n",
       "13                                              NaN   NaN NaN  \n",
       "\n",
       "[5 rows x 76 columns]"
      ]
     },
     "execution_count": 17,
     "metadata": {},
     "output_type": "execute_result"
    }
   ],
   "source": [
    "wq_16.head()"
   ]
  },
  {
   "cell_type": "code",
   "execution_count": 18,
   "metadata": {},
   "outputs": [],
   "source": [
    "# Take daily average\n",
    "wq_16 = wq_16.groupby([\n",
    "                 pd.Grouper(key='datetime', freq='D')])[wq.columns[1:]].mean()"
   ]
  },
  {
   "cell_type": "code",
   "execution_count": 19,
   "metadata": {
    "scrolled": true
   },
   "outputs": [
    {
     "data": {
      "text/html": [
       "<div>\n",
       "<style scoped>\n",
       "    .dataframe tbody tr th:only-of-type {\n",
       "        vertical-align: middle;\n",
       "    }\n",
       "\n",
       "    .dataframe tbody tr th {\n",
       "        vertical-align: top;\n",
       "    }\n",
       "\n",
       "    .dataframe thead th {\n",
       "        text-align: right;\n",
       "    }\n",
       "</style>\n",
       "<table border=\"1\" class=\"dataframe\">\n",
       "  <thead>\n",
       "    <tr style=\"text-align: right;\">\n",
       "      <th></th>\n",
       "      <th>Alkalinity, total</th>\n",
       "      <th>Aluminum</th>\n",
       "      <th>Ammonia-nitrogen</th>\n",
       "      <th>Arsenic</th>\n",
       "      <th>Barium</th>\n",
       "      <th>Bicarbonate</th>\n",
       "      <th>Biochemical oxygen demand, standard conditions</th>\n",
       "      <th>Boron</th>\n",
       "      <th>Bromide</th>\n",
       "      <th>Cadmium</th>\n",
       "      <th>...</th>\n",
       "      <th>Total Kjeldahl nitrogen</th>\n",
       "      <th>Total dissolved solids</th>\n",
       "      <th>Total fixed solids</th>\n",
       "      <th>Total suspended solids</th>\n",
       "      <th>Total volatile solids</th>\n",
       "      <th>Turbidity</th>\n",
       "      <th>Volatile suspended solids</th>\n",
       "      <th>Weather condition (WMO code 4501) (choice list)</th>\n",
       "      <th>Zinc</th>\n",
       "      <th>pH</th>\n",
       "    </tr>\n",
       "  </thead>\n",
       "  <tbody>\n",
       "    <tr>\n",
       "      <th>count</th>\n",
       "      <td>41.000000</td>\n",
       "      <td>14.000000</td>\n",
       "      <td>53.000000</td>\n",
       "      <td>27.000000</td>\n",
       "      <td>26.000000</td>\n",
       "      <td>3.000000</td>\n",
       "      <td>0.0</td>\n",
       "      <td>35.000000</td>\n",
       "      <td>1.00000</td>\n",
       "      <td>4.000000</td>\n",
       "      <td>...</td>\n",
       "      <td>20.000000</td>\n",
       "      <td>64.000000</td>\n",
       "      <td>0.0</td>\n",
       "      <td>63.000000</td>\n",
       "      <td>39.000000</td>\n",
       "      <td>38.000000</td>\n",
       "      <td>24.000000</td>\n",
       "      <td>0.0</td>\n",
       "      <td>11.000000</td>\n",
       "      <td>42.000000</td>\n",
       "    </tr>\n",
       "    <tr>\n",
       "      <th>mean</th>\n",
       "      <td>196.534002</td>\n",
       "      <td>450.118152</td>\n",
       "      <td>0.137085</td>\n",
       "      <td>9.505821</td>\n",
       "      <td>86.302973</td>\n",
       "      <td>225.177778</td>\n",
       "      <td>NaN</td>\n",
       "      <td>321.041172</td>\n",
       "      <td>0.39175</td>\n",
       "      <td>0.081125</td>\n",
       "      <td>...</td>\n",
       "      <td>2.418558</td>\n",
       "      <td>1136.164226</td>\n",
       "      <td>NaN</td>\n",
       "      <td>69.300348</td>\n",
       "      <td>12.542847</td>\n",
       "      <td>56.815465</td>\n",
       "      <td>25.958808</td>\n",
       "      <td>NaN</td>\n",
       "      <td>9.288606</td>\n",
       "      <td>8.507930</td>\n",
       "    </tr>\n",
       "    <tr>\n",
       "      <th>std</th>\n",
       "      <td>23.029922</td>\n",
       "      <td>292.484772</td>\n",
       "      <td>0.206261</td>\n",
       "      <td>3.832338</td>\n",
       "      <td>13.355922</td>\n",
       "      <td>11.426350</td>\n",
       "      <td>NaN</td>\n",
       "      <td>96.127825</td>\n",
       "      <td>NaN</td>\n",
       "      <td>0.036456</td>\n",
       "      <td>...</td>\n",
       "      <td>2.672706</td>\n",
       "      <td>275.475429</td>\n",
       "      <td>NaN</td>\n",
       "      <td>46.341656</td>\n",
       "      <td>10.444600</td>\n",
       "      <td>30.049953</td>\n",
       "      <td>14.828525</td>\n",
       "      <td>NaN</td>\n",
       "      <td>3.007211</td>\n",
       "      <td>0.183380</td>\n",
       "    </tr>\n",
       "    <tr>\n",
       "      <th>min</th>\n",
       "      <td>159.000000</td>\n",
       "      <td>7.275000</td>\n",
       "      <td>0.010000</td>\n",
       "      <td>2.280000</td>\n",
       "      <td>60.550000</td>\n",
       "      <td>212.000000</td>\n",
       "      <td>NaN</td>\n",
       "      <td>109.000000</td>\n",
       "      <td>0.39175</td>\n",
       "      <td>0.058500</td>\n",
       "      <td>...</td>\n",
       "      <td>0.310167</td>\n",
       "      <td>386.000000</td>\n",
       "      <td>NaN</td>\n",
       "      <td>7.000000</td>\n",
       "      <td>3.120000</td>\n",
       "      <td>6.400000</td>\n",
       "      <td>11.023699</td>\n",
       "      <td>NaN</td>\n",
       "      <td>5.040000</td>\n",
       "      <td>8.210972</td>\n",
       "    </tr>\n",
       "    <tr>\n",
       "      <th>25%</th>\n",
       "      <td>179.500000</td>\n",
       "      <td>331.246429</td>\n",
       "      <td>0.024500</td>\n",
       "      <td>7.472250</td>\n",
       "      <td>79.409091</td>\n",
       "      <td>221.600000</td>\n",
       "      <td>NaN</td>\n",
       "      <td>277.150000</td>\n",
       "      <td>0.39175</td>\n",
       "      <td>0.058875</td>\n",
       "      <td>...</td>\n",
       "      <td>1.006500</td>\n",
       "      <td>1027.290720</td>\n",
       "      <td>NaN</td>\n",
       "      <td>35.391250</td>\n",
       "      <td>6.460167</td>\n",
       "      <td>34.516667</td>\n",
       "      <td>15.418086</td>\n",
       "      <td>NaN</td>\n",
       "      <td>6.344000</td>\n",
       "      <td>8.385891</td>\n",
       "    </tr>\n",
       "    <tr>\n",
       "      <th>50%</th>\n",
       "      <td>193.181818</td>\n",
       "      <td>410.403409</td>\n",
       "      <td>0.041500</td>\n",
       "      <td>9.239091</td>\n",
       "      <td>85.658766</td>\n",
       "      <td>231.200000</td>\n",
       "      <td>NaN</td>\n",
       "      <td>337.375000</td>\n",
       "      <td>0.39175</td>\n",
       "      <td>0.065500</td>\n",
       "      <td>...</td>\n",
       "      <td>1.478292</td>\n",
       "      <td>1203.392857</td>\n",
       "      <td>NaN</td>\n",
       "      <td>60.866667</td>\n",
       "      <td>8.270625</td>\n",
       "      <td>56.325000</td>\n",
       "      <td>17.804320</td>\n",
       "      <td>NaN</td>\n",
       "      <td>9.980000</td>\n",
       "      <td>8.478534</td>\n",
       "    </tr>\n",
       "    <tr>\n",
       "      <th>75%</th>\n",
       "      <td>204.000000</td>\n",
       "      <td>682.583333</td>\n",
       "      <td>0.184875</td>\n",
       "      <td>11.543636</td>\n",
       "      <td>91.529545</td>\n",
       "      <td>231.766667</td>\n",
       "      <td>NaN</td>\n",
       "      <td>378.450000</td>\n",
       "      <td>0.39175</td>\n",
       "      <td>0.087750</td>\n",
       "      <td>...</td>\n",
       "      <td>1.812906</td>\n",
       "      <td>1289.308141</td>\n",
       "      <td>NaN</td>\n",
       "      <td>93.216667</td>\n",
       "      <td>14.159091</td>\n",
       "      <td>68.544097</td>\n",
       "      <td>34.145894</td>\n",
       "      <td>NaN</td>\n",
       "      <td>11.350000</td>\n",
       "      <td>8.604687</td>\n",
       "    </tr>\n",
       "    <tr>\n",
       "      <th>max</th>\n",
       "      <td>257.000000</td>\n",
       "      <td>904.250000</td>\n",
       "      <td>0.998667</td>\n",
       "      <td>17.650000</td>\n",
       "      <td>131.496667</td>\n",
       "      <td>232.333333</td>\n",
       "      <td>NaN</td>\n",
       "      <td>475.000000</td>\n",
       "      <td>0.39175</td>\n",
       "      <td>0.135000</td>\n",
       "      <td>...</td>\n",
       "      <td>10.776667</td>\n",
       "      <td>1770.000000</td>\n",
       "      <td>NaN</td>\n",
       "      <td>237.000000</td>\n",
       "      <td>52.000000</td>\n",
       "      <td>160.000000</td>\n",
       "      <td>71.462264</td>\n",
       "      <td>NaN</td>\n",
       "      <td>13.900000</td>\n",
       "      <td>8.992857</td>\n",
       "    </tr>\n",
       "  </tbody>\n",
       "</table>\n",
       "<p>8 rows × 75 columns</p>\n",
       "</div>"
      ],
      "text/plain": [
       "       Alkalinity, total    Aluminum  Ammonia-nitrogen    Arsenic      Barium  \\\n",
       "count          41.000000   14.000000         53.000000  27.000000   26.000000   \n",
       "mean          196.534002  450.118152          0.137085   9.505821   86.302973   \n",
       "std            23.029922  292.484772          0.206261   3.832338   13.355922   \n",
       "min           159.000000    7.275000          0.010000   2.280000   60.550000   \n",
       "25%           179.500000  331.246429          0.024500   7.472250   79.409091   \n",
       "50%           193.181818  410.403409          0.041500   9.239091   85.658766   \n",
       "75%           204.000000  682.583333          0.184875  11.543636   91.529545   \n",
       "max           257.000000  904.250000          0.998667  17.650000  131.496667   \n",
       "\n",
       "       Bicarbonate  Biochemical oxygen demand, standard conditions  \\\n",
       "count     3.000000                                             0.0   \n",
       "mean    225.177778                                             NaN   \n",
       "std      11.426350                                             NaN   \n",
       "min     212.000000                                             NaN   \n",
       "25%     221.600000                                             NaN   \n",
       "50%     231.200000                                             NaN   \n",
       "75%     231.766667                                             NaN   \n",
       "max     232.333333                                             NaN   \n",
       "\n",
       "            Boron  Bromide   Cadmium  ...  Total Kjeldahl nitrogen  \\\n",
       "count   35.000000  1.00000  4.000000  ...                20.000000   \n",
       "mean   321.041172  0.39175  0.081125  ...                 2.418558   \n",
       "std     96.127825      NaN  0.036456  ...                 2.672706   \n",
       "min    109.000000  0.39175  0.058500  ...                 0.310167   \n",
       "25%    277.150000  0.39175  0.058875  ...                 1.006500   \n",
       "50%    337.375000  0.39175  0.065500  ...                 1.478292   \n",
       "75%    378.450000  0.39175  0.087750  ...                 1.812906   \n",
       "max    475.000000  0.39175  0.135000  ...                10.776667   \n",
       "\n",
       "       Total dissolved solids  Total fixed solids  Total suspended solids  \\\n",
       "count               64.000000                 0.0               63.000000   \n",
       "mean              1136.164226                 NaN               69.300348   \n",
       "std                275.475429                 NaN               46.341656   \n",
       "min                386.000000                 NaN                7.000000   \n",
       "25%               1027.290720                 NaN               35.391250   \n",
       "50%               1203.392857                 NaN               60.866667   \n",
       "75%               1289.308141                 NaN               93.216667   \n",
       "max               1770.000000                 NaN              237.000000   \n",
       "\n",
       "       Total volatile solids   Turbidity  Volatile suspended solids  \\\n",
       "count              39.000000   38.000000                  24.000000   \n",
       "mean               12.542847   56.815465                  25.958808   \n",
       "std                10.444600   30.049953                  14.828525   \n",
       "min                 3.120000    6.400000                  11.023699   \n",
       "25%                 6.460167   34.516667                  15.418086   \n",
       "50%                 8.270625   56.325000                  17.804320   \n",
       "75%                14.159091   68.544097                  34.145894   \n",
       "max                52.000000  160.000000                  71.462264   \n",
       "\n",
       "       Weather condition (WMO code 4501) (choice list)       Zinc         pH  \n",
       "count                                              0.0  11.000000  42.000000  \n",
       "mean                                               NaN   9.288606   8.507930  \n",
       "std                                                NaN   3.007211   0.183380  \n",
       "min                                                NaN   5.040000   8.210972  \n",
       "25%                                                NaN   6.344000   8.385891  \n",
       "50%                                                NaN   9.980000   8.478534  \n",
       "75%                                                NaN  11.350000   8.604687  \n",
       "max                                                NaN  13.900000   8.992857  \n",
       "\n",
       "[8 rows x 75 columns]"
      ]
     },
     "execution_count": 19,
     "metadata": {},
     "output_type": "execute_result"
    }
   ],
   "source": [
    "wq_16 = wq_16.reset_index()\n",
    "wq_16.describe()"
   ]
  },
  {
   "cell_type": "code",
   "execution_count": 20,
   "metadata": {},
   "outputs": [],
   "source": [
    "# Select variables of interest\n",
    "pred = wq_16.loc[:,[\"datetime\",\"Depth, Secchi disk depth\", \"Turbidity\",\n",
    "                    \"Total suspended solids\",\n",
    "                    \"Chlorophyll a, uncorrected for pheophytin\", \n",
    "                     \"Chlorophyll a, corrected for pheophytin\",\n",
    "                    \"Chlorophyll a, free of pheophytin\"]].copy()"
   ]
  },
  {
   "cell_type": "code",
   "execution_count": 159,
   "metadata": {},
   "outputs": [
    {
     "data": {
      "text/html": [
       "<div>\n",
       "<style scoped>\n",
       "    .dataframe tbody tr th:only-of-type {\n",
       "        vertical-align: middle;\n",
       "    }\n",
       "\n",
       "    .dataframe tbody tr th {\n",
       "        vertical-align: top;\n",
       "    }\n",
       "\n",
       "    .dataframe thead th {\n",
       "        text-align: right;\n",
       "    }\n",
       "</style>\n",
       "<table border=\"1\" class=\"dataframe\">\n",
       "  <thead>\n",
       "    <tr style=\"text-align: right;\">\n",
       "      <th></th>\n",
       "      <th>Depth, Secchi disk depth</th>\n",
       "      <th>Turbidity</th>\n",
       "      <th>Total suspended solids</th>\n",
       "      <th>Chlorophyll a, uncorrected for pheophytin</th>\n",
       "      <th>Chlorophyll a, corrected for pheophytin</th>\n",
       "      <th>Chlorophyll a, free of pheophytin</th>\n",
       "    </tr>\n",
       "  </thead>\n",
       "  <tbody>\n",
       "    <tr>\n",
       "      <th>count</th>\n",
       "      <td>38.00</td>\n",
       "      <td>38.00</td>\n",
       "      <td>63.00</td>\n",
       "      <td>38.00</td>\n",
       "      <td>37.00</td>\n",
       "      <td>24.00</td>\n",
       "    </tr>\n",
       "    <tr>\n",
       "      <th>mean</th>\n",
       "      <td>0.26</td>\n",
       "      <td>56.82</td>\n",
       "      <td>69.30</td>\n",
       "      <td>53.50</td>\n",
       "      <td>44.06</td>\n",
       "      <td>48.58</td>\n",
       "    </tr>\n",
       "    <tr>\n",
       "      <th>std</th>\n",
       "      <td>0.12</td>\n",
       "      <td>30.05</td>\n",
       "      <td>46.34</td>\n",
       "      <td>68.25</td>\n",
       "      <td>51.63</td>\n",
       "      <td>49.54</td>\n",
       "    </tr>\n",
       "    <tr>\n",
       "      <th>min</th>\n",
       "      <td>0.10</td>\n",
       "      <td>6.40</td>\n",
       "      <td>7.00</td>\n",
       "      <td>2.51</td>\n",
       "      <td>2.80</td>\n",
       "      <td>4.92</td>\n",
       "    </tr>\n",
       "    <tr>\n",
       "      <th>25%</th>\n",
       "      <td>0.20</td>\n",
       "      <td>34.52</td>\n",
       "      <td>35.39</td>\n",
       "      <td>14.70</td>\n",
       "      <td>13.24</td>\n",
       "      <td>12.57</td>\n",
       "    </tr>\n",
       "    <tr>\n",
       "      <th>50%</th>\n",
       "      <td>0.24</td>\n",
       "      <td>56.33</td>\n",
       "      <td>60.87</td>\n",
       "      <td>27.69</td>\n",
       "      <td>23.65</td>\n",
       "      <td>33.34</td>\n",
       "    </tr>\n",
       "    <tr>\n",
       "      <th>75%</th>\n",
       "      <td>0.29</td>\n",
       "      <td>68.54</td>\n",
       "      <td>93.22</td>\n",
       "      <td>50.51</td>\n",
       "      <td>48.40</td>\n",
       "      <td>64.62</td>\n",
       "    </tr>\n",
       "    <tr>\n",
       "      <th>max</th>\n",
       "      <td>0.71</td>\n",
       "      <td>160.00</td>\n",
       "      <td>237.00</td>\n",
       "      <td>294.90</td>\n",
       "      <td>222.30</td>\n",
       "      <td>181.00</td>\n",
       "    </tr>\n",
       "  </tbody>\n",
       "</table>\n",
       "</div>"
      ],
      "text/plain": [
       "      Depth, Secchi disk depth Turbidity Total suspended solids  \\\n",
       "count                    38.00     38.00                  63.00   \n",
       "mean                      0.26     56.82                  69.30   \n",
       "std                       0.12     30.05                  46.34   \n",
       "min                       0.10      6.40                   7.00   \n",
       "25%                       0.20     34.52                  35.39   \n",
       "50%                       0.24     56.33                  60.87   \n",
       "75%                       0.29     68.54                  93.22   \n",
       "max                       0.71    160.00                 237.00   \n",
       "\n",
       "      Chlorophyll a, uncorrected for pheophytin  \\\n",
       "count                                     38.00   \n",
       "mean                                      53.50   \n",
       "std                                       68.25   \n",
       "min                                        2.51   \n",
       "25%                                       14.70   \n",
       "50%                                       27.69   \n",
       "75%                                       50.51   \n",
       "max                                      294.90   \n",
       "\n",
       "      Chlorophyll a, corrected for pheophytin  \\\n",
       "count                                   37.00   \n",
       "mean                                    44.06   \n",
       "std                                     51.63   \n",
       "min                                      2.80   \n",
       "25%                                     13.24   \n",
       "50%                                     23.65   \n",
       "75%                                     48.40   \n",
       "max                                    222.30   \n",
       "\n",
       "      Chlorophyll a, free of pheophytin  \n",
       "count                             24.00  \n",
       "mean                              48.58  \n",
       "std                               49.54  \n",
       "min                                4.92  \n",
       "25%                               12.57  \n",
       "50%                               33.34  \n",
       "75%                               64.62  \n",
       "max                              181.00  "
      ]
     },
     "execution_count": 159,
     "metadata": {},
     "output_type": "execute_result"
    }
   ],
   "source": [
    "pred.describe().apply(lambda s: s.apply('{0:.2f}'.format))"
   ]
  },
  {
   "cell_type": "markdown",
   "metadata": {},
   "source": [
    "## Secchi Depth"
   ]
  },
  {
   "cell_type": "code",
   "execution_count": 24,
   "metadata": {},
   "outputs": [],
   "source": [
    "# Select date and depth columns\n",
    "d = pred.iloc[:,[0,1]]"
   ]
  },
  {
   "cell_type": "code",
   "execution_count": 25,
   "metadata": {},
   "outputs": [],
   "source": [
    "# Drop null values\n",
    "d = d.dropna(axis=0)"
   ]
  },
  {
   "cell_type": "code",
   "execution_count": 26,
   "metadata": {},
   "outputs": [
    {
     "data": {
      "text/plain": [
       "(38, 2)"
      ]
     },
     "execution_count": 26,
     "metadata": {},
     "output_type": "execute_result"
    }
   ],
   "source": [
    "# Check number of rows\n",
    "d.shape"
   ]
  },
  {
   "cell_type": "code",
   "execution_count": 27,
   "metadata": {},
   "outputs": [],
   "source": [
    "#plt.hist(depth.iloc[:,1], bins=30);"
   ]
  },
  {
   "cell_type": "code",
   "execution_count": 33,
   "metadata": {},
   "outputs": [
    {
     "data": {
      "image/png": "[encoded data removed]",
      "text/plain": [
       "<Figure size 720x360 with 1 Axes>"
      ]
     },
     "metadata": {
      "needs_background": "light"
     },
     "output_type": "display_data"
    }
   ],
   "source": [
    "# Time series\n",
    "fig, ax = plt.subplots(figsize=(10, 5))\n",
    "ax.scatter(d.iloc[:,0], d.iloc[:,1], color='sandybrown', alpha=0.5, s=100 )\n",
    "ax.set(xlabel='Date', ylabel='Secchi disk depth (m)')\n",
    "\n",
    "plt.savefig(\"../3 depth_ts\", bbox_inches = 'tight');\n",
    "#ax.set_xticklabels(d.iloc[:,0], rotation = 90);\n",
    "# see for improving ticks https://unidata.github.io/python-training/workshop/Time_Series/basic-time-series-plotting/"
   ]
  },
  {
   "cell_type": "code",
   "execution_count": 34,
   "metadata": {},
   "outputs": [
    {
     "data": {
      "image/png": "[encoded data removed]",
      "text/plain": [
       "<Figure size 576x360 with 1 Axes>"
      ]
     },
     "metadata": {
      "needs_background": "light"
     },
     "output_type": "display_data"
    }
   ],
   "source": [
    "# Plot histogram to see distribution\n",
    "fig, ax = plt.subplots(figsize=(8, 5))\n",
    "ax.hist(d.iloc[:,1], bins=25, color='lightskyblue', linewidth=1, edgecolor=\"white\")\n",
    "ax.set(xlabel='Secchi disk depth (m)', ylabel=f'Number of observations (n={len(d)})')\n",
    "ax.set_ylim([0,10])\n",
    "\n",
    "plt.savefig(\"../3 depth_dis\", bbox_inches = 'tight');"
   ]
  },
  {
   "cell_type": "code",
   "execution_count": 24,
   "metadata": {},
   "outputs": [],
   "source": [
    "# Plot histogram of distribution\n",
    "# ax = sns.distplot(d.iloc[:,1], bins=25, hist_kws=dict(edgecolor=\"white\", linewidth=1))\n",
    "# ax.set(xlabel='Secchi disk depth (m)', ylabel='Number of observations');"
   ]
  },
  {
   "cell_type": "markdown",
   "metadata": {},
   "source": [
    "## Turbidity"
   ]
  },
  {
   "cell_type": "code",
   "execution_count": 35,
   "metadata": {},
   "outputs": [],
   "source": [
    "# Select date and depth columns\n",
    "t = pred.iloc[:,[0,2]]"
   ]
  },
  {
   "cell_type": "code",
   "execution_count": 36,
   "metadata": {},
   "outputs": [],
   "source": [
    "# Drop null values\n",
    "t = t.dropna(axis=0)"
   ]
  },
  {
   "cell_type": "code",
   "execution_count": 37,
   "metadata": {},
   "outputs": [
    {
     "data": {
      "text/html": [
       "<div>\n",
       "<style scoped>\n",
       "    .dataframe tbody tr th:only-of-type {\n",
       "        vertical-align: middle;\n",
       "    }\n",
       "\n",
       "    .dataframe tbody tr th {\n",
       "        vertical-align: top;\n",
       "    }\n",
       "\n",
       "    .dataframe thead th {\n",
       "        text-align: right;\n",
       "    }\n",
       "</style>\n",
       "<table border=\"1\" class=\"dataframe\">\n",
       "  <thead>\n",
       "    <tr style=\"text-align: right;\">\n",
       "      <th></th>\n",
       "      <th>datetime</th>\n",
       "      <th>Turbidity</th>\n",
       "    </tr>\n",
       "  </thead>\n",
       "  <tbody>\n",
       "    <tr>\n",
       "      <th>0</th>\n",
       "      <td>2016-01-07</td>\n",
       "      <td>6.400000</td>\n",
       "    </tr>\n",
       "    <tr>\n",
       "      <th>216</th>\n",
       "      <td>2016-08-10</td>\n",
       "      <td>85.750000</td>\n",
       "    </tr>\n",
       "    <tr>\n",
       "      <th>489</th>\n",
       "      <td>2017-05-10</td>\n",
       "      <td>57.016667</td>\n",
       "    </tr>\n",
       "    <tr>\n",
       "      <th>490</th>\n",
       "      <td>2017-05-11</td>\n",
       "      <td>39.460000</td>\n",
       "    </tr>\n",
       "    <tr>\n",
       "      <th>525</th>\n",
       "      <td>2017-06-15</td>\n",
       "      <td>34.081818</td>\n",
       "    </tr>\n",
       "  </tbody>\n",
       "</table>\n",
       "</div>"
      ],
      "text/plain": [
       "      datetime  Turbidity\n",
       "0   2016-01-07   6.400000\n",
       "216 2016-08-10  85.750000\n",
       "489 2017-05-10  57.016667\n",
       "490 2017-05-11  39.460000\n",
       "525 2017-06-15  34.081818"
      ]
     },
     "execution_count": 37,
     "metadata": {},
     "output_type": "execute_result"
    }
   ],
   "source": [
    "t.head()"
   ]
  },
  {
   "cell_type": "code",
   "execution_count": 38,
   "metadata": {},
   "outputs": [
    {
     "data": {
      "text/plain": [
       "(38, 2)"
      ]
     },
     "execution_count": 38,
     "metadata": {},
     "output_type": "execute_result"
    }
   ],
   "source": [
    "# Check number of rows\n",
    "t.shape"
   ]
  },
  {
   "cell_type": "code",
   "execution_count": 39,
   "metadata": {},
   "outputs": [],
   "source": [
    "#plt.hist(depth.iloc[:,1], bins=30);\n",
    "# Nephelometric Turbidity Ratio Unit"
   ]
  },
  {
   "cell_type": "code",
   "execution_count": 41,
   "metadata": {},
   "outputs": [
    {
     "data": {
      "image/png": "[encoded data removed]",
      "text/plain": [
       "<Figure size 720x360 with 1 Axes>"
      ]
     },
     "metadata": {
      "needs_background": "light"
     },
     "output_type": "display_data"
    }
   ],
   "source": [
    "# Time series\n",
    "fig, ax = plt.subplots(figsize=(10, 5))\n",
    "ax.scatter(t.iloc[:,0], t.iloc[:,1], color='sandybrown', alpha=0.5, s=100 )\n",
    "ax.set(xlabel='Date', ylabel='Turbidity (NTRU)')\n",
    "\n",
    "plt.savefig(\"../4 turbidity_ts\", bbox_inches = 'tight');"
   ]
  },
  {
   "cell_type": "code",
   "execution_count": 42,
   "metadata": {},
   "outputs": [
    {
     "data": {
      "image/png": "[encoded data removed]",
      "text/plain": [
       "<Figure size 576x360 with 1 Axes>"
      ]
     },
     "metadata": {
      "needs_background": "light"
     },
     "output_type": "display_data"
    }
   ],
   "source": [
    "fig, ax = plt.subplots(figsize=(8, 5))\n",
    "ax.hist(t.iloc[:,1], bins=25, color='lightskyblue', linewidth=1, edgecolor=\"white\")\n",
    "ax.set(xlabel='Turbidity (NTRU)', ylabel=f'Number of observations (n={len(t)})')\n",
    "\n",
    "plt.savefig(\"../4 turbidity_dis\", bbox_inches = 'tight');"
   ]
  },
  {
   "cell_type": "markdown",
   "metadata": {},
   "source": [
    "# Total suspended solids"
   ]
  },
  {
   "cell_type": "code",
   "execution_count": 43,
   "metadata": {},
   "outputs": [],
   "source": [
    "# Select date and depth columns\n",
    "tss = pred.iloc[:,[0,3]]"
   ]
  },
  {
   "cell_type": "code",
   "execution_count": 44,
   "metadata": {},
   "outputs": [],
   "source": [
    "# Drop null values\n",
    "tss = tss.dropna(axis=0)"
   ]
  },
  {
   "cell_type": "code",
   "execution_count": 45,
   "metadata": {},
   "outputs": [
    {
     "data": {
      "text/html": [
       "<div>\n",
       "<style scoped>\n",
       "    .dataframe tbody tr th:only-of-type {\n",
       "        vertical-align: middle;\n",
       "    }\n",
       "\n",
       "    .dataframe tbody tr th {\n",
       "        vertical-align: top;\n",
       "    }\n",
       "\n",
       "    .dataframe thead th {\n",
       "        text-align: right;\n",
       "    }\n",
       "</style>\n",
       "<table border=\"1\" class=\"dataframe\">\n",
       "  <thead>\n",
       "    <tr style=\"text-align: right;\">\n",
       "      <th></th>\n",
       "      <th>datetime</th>\n",
       "      <th>Total suspended solids</th>\n",
       "    </tr>\n",
       "  </thead>\n",
       "  <tbody>\n",
       "    <tr>\n",
       "      <th>0</th>\n",
       "      <td>2016-01-07</td>\n",
       "      <td>7.000000</td>\n",
       "    </tr>\n",
       "    <tr>\n",
       "      <th>28</th>\n",
       "      <td>2016-02-04</td>\n",
       "      <td>10.000000</td>\n",
       "    </tr>\n",
       "    <tr>\n",
       "      <th>34</th>\n",
       "      <td>2016-02-10</td>\n",
       "      <td>7.917638</td>\n",
       "    </tr>\n",
       "    <tr>\n",
       "      <th>62</th>\n",
       "      <td>2016-03-09</td>\n",
       "      <td>90.380658</td>\n",
       "    </tr>\n",
       "    <tr>\n",
       "      <th>63</th>\n",
       "      <td>2016-03-10</td>\n",
       "      <td>108.641065</td>\n",
       "    </tr>\n",
       "  </tbody>\n",
       "</table>\n",
       "</div>"
      ],
      "text/plain": [
       "     datetime  Total suspended solids\n",
       "0  2016-01-07                7.000000\n",
       "28 2016-02-04               10.000000\n",
       "34 2016-02-10                7.917638\n",
       "62 2016-03-09               90.380658\n",
       "63 2016-03-10              108.641065"
      ]
     },
     "execution_count": 45,
     "metadata": {},
     "output_type": "execute_result"
    }
   ],
   "source": [
    "tss.head()"
   ]
  },
  {
   "cell_type": "code",
   "execution_count": 46,
   "metadata": {},
   "outputs": [
    {
     "data": {
      "text/plain": [
       "(63, 2)"
      ]
     },
     "execution_count": 46,
     "metadata": {},
     "output_type": "execute_result"
    }
   ],
   "source": [
    "# Check number of rows\n",
    "tss.shape"
   ]
  },
  {
   "cell_type": "code",
   "execution_count": 47,
   "metadata": {},
   "outputs": [],
   "source": [
    "#plt.hist(depth.iloc[:,1], bins=30);"
   ]
  },
  {
   "cell_type": "code",
   "execution_count": 49,
   "metadata": {},
   "outputs": [
    {
     "data": {
      "image/png": "[encoded data removed]",
      "text/plain": [
       "<Figure size 720x360 with 1 Axes>"
      ]
     },
     "metadata": {
      "needs_background": "light"
     },
     "output_type": "display_data"
    }
   ],
   "source": [
    "fig, ax = plt.subplots(figsize=(10, 5))\n",
    "ax.scatter(tss.iloc[:,0], tss.iloc[:,1], color='sandybrown', alpha=0.5, s=100 )\n",
    "ax.set(xlabel='Date', ylabel='Total suspended solids (mg/L)')\n",
    "\n",
    "plt.savefig(\"../5 tss_ts\", bbox_inches = 'tight');"
   ]
  },
  {
   "cell_type": "code",
   "execution_count": 50,
   "metadata": {},
   "outputs": [
    {
     "data": {
      "image/png": "[encoded data removed]",
      "text/plain": [
       "<Figure size 576x360 with 1 Axes>"
      ]
     },
     "metadata": {
      "needs_background": "light"
     },
     "output_type": "display_data"
    }
   ],
   "source": [
    "# Plot histogram of distribution\n",
    "fig, ax = plt.subplots(figsize=(8, 5))\n",
    "ax.hist(tss.iloc[:,1], bins=25, color='lightskyblue', linewidth=1, edgecolor=\"white\")\n",
    "ax.set(xlabel='Total suspended solids (mg/L)', ylabel=f'Number of observations (n={len(tss)})')\n",
    "\n",
    "plt.savefig(\"../5 tss_dis\", bbox_inches = 'tight');"
   ]
  },
  {
   "cell_type": "code",
   "execution_count": 52,
   "metadata": {},
   "outputs": [
    {
     "data": {
      "image/png": "[encoded data removed]",
      "text/plain": [
       "<Figure size 576x360 with 1 Axes>"
      ]
     },
     "metadata": {
      "needs_background": "light"
     },
     "output_type": "display_data"
    }
   ],
   "source": [
    "# Plot logged histogram of distribution\n",
    "fig, ax = plt.subplots(figsize=(8, 5))\n",
    "ax.hist(np.log(tss.iloc[:,1]), bins=25, color='lightskyblue', linewidth=1, edgecolor=\"white\")\n",
    "ax.set(xlabel='Log total suspended solids (mg/L)', ylabel=f'Number of observations (n={len(tss)})')\n",
    "\n",
    "plt.savefig(\"../5 tss_dis_log\", bbox_inches = 'tight');"
   ]
  },
  {
   "cell_type": "markdown",
   "metadata": {},
   "source": [
    "## Chlorophyll a"
   ]
  },
  {
   "cell_type": "markdown",
   "metadata": {},
   "source": [
    "c1: uncorrected for pheophytin\n",
    "\n",
    "c2: corrected for pheophytin\n",
    "\n",
    "c3: free of pheophytin"
   ]
  },
  {
   "cell_type": "code",
   "execution_count": 53,
   "metadata": {},
   "outputs": [],
   "source": [
    "# Select date and depth columns\n",
    "c1 = pred.iloc[:,[0,4]]\n",
    "c2 = pred.iloc[:,[0,5]]\n",
    "c3 = pred.iloc[:,[0,6]]"
   ]
  },
  {
   "cell_type": "code",
   "execution_count": 54,
   "metadata": {},
   "outputs": [],
   "source": [
    "# Drop null values\n",
    "c1 = c1.dropna(axis=0)\n",
    "c2 = c2.dropna(axis=0)\n",
    "c3 = c3.dropna(axis=0)"
   ]
  },
  {
   "cell_type": "code",
   "execution_count": 55,
   "metadata": {},
   "outputs": [
    {
     "data": {
      "text/html": [
       "<div>\n",
       "<style scoped>\n",
       "    .dataframe tbody tr th:only-of-type {\n",
       "        vertical-align: middle;\n",
       "    }\n",
       "\n",
       "    .dataframe tbody tr th {\n",
       "        vertical-align: top;\n",
       "    }\n",
       "\n",
       "    .dataframe thead th {\n",
       "        text-align: right;\n",
       "    }\n",
       "</style>\n",
       "<table border=\"1\" class=\"dataframe\">\n",
       "  <thead>\n",
       "    <tr style=\"text-align: right;\">\n",
       "      <th></th>\n",
       "      <th>datetime</th>\n",
       "      <th>Chlorophyll a, uncorrected for pheophytin</th>\n",
       "    </tr>\n",
       "  </thead>\n",
       "  <tbody>\n",
       "    <tr>\n",
       "      <th>139</th>\n",
       "      <td>2016-05-25</td>\n",
       "      <td>16.760000</td>\n",
       "    </tr>\n",
       "    <tr>\n",
       "      <th>175</th>\n",
       "      <td>2016-06-30</td>\n",
       "      <td>25.870000</td>\n",
       "    </tr>\n",
       "    <tr>\n",
       "      <th>489</th>\n",
       "      <td>2017-05-10</td>\n",
       "      <td>28.751833</td>\n",
       "    </tr>\n",
       "    <tr>\n",
       "      <th>490</th>\n",
       "      <td>2017-05-11</td>\n",
       "      <td>5.833333</td>\n",
       "    </tr>\n",
       "    <tr>\n",
       "      <th>525</th>\n",
       "      <td>2017-06-15</td>\n",
       "      <td>19.370963</td>\n",
       "    </tr>\n",
       "  </tbody>\n",
       "</table>\n",
       "</div>"
      ],
      "text/plain": [
       "      datetime  Chlorophyll a, uncorrected for pheophytin\n",
       "139 2016-05-25                                  16.760000\n",
       "175 2016-06-30                                  25.870000\n",
       "489 2017-05-10                                  28.751833\n",
       "490 2017-05-11                                   5.833333\n",
       "525 2017-06-15                                  19.370963"
      ]
     },
     "metadata": {},
     "output_type": "display_data"
    },
    {
     "data": {
      "text/html": [
       "<div>\n",
       "<style scoped>\n",
       "    .dataframe tbody tr th:only-of-type {\n",
       "        vertical-align: middle;\n",
       "    }\n",
       "\n",
       "    .dataframe tbody tr th {\n",
       "        vertical-align: top;\n",
       "    }\n",
       "\n",
       "    .dataframe thead th {\n",
       "        text-align: right;\n",
       "    }\n",
       "</style>\n",
       "<table border=\"1\" class=\"dataframe\">\n",
       "  <thead>\n",
       "    <tr style=\"text-align: right;\">\n",
       "      <th></th>\n",
       "      <th>datetime</th>\n",
       "      <th>Chlorophyll a, corrected for pheophytin</th>\n",
       "    </tr>\n",
       "  </thead>\n",
       "  <tbody>\n",
       "    <tr>\n",
       "      <th>139</th>\n",
       "      <td>2016-05-25</td>\n",
       "      <td>22.280000</td>\n",
       "    </tr>\n",
       "    <tr>\n",
       "      <th>175</th>\n",
       "      <td>2016-06-30</td>\n",
       "      <td>22.480000</td>\n",
       "    </tr>\n",
       "    <tr>\n",
       "      <th>489</th>\n",
       "      <td>2017-05-10</td>\n",
       "      <td>22.644333</td>\n",
       "    </tr>\n",
       "    <tr>\n",
       "      <th>490</th>\n",
       "      <td>2017-05-11</td>\n",
       "      <td>4.600000</td>\n",
       "    </tr>\n",
       "    <tr>\n",
       "      <th>525</th>\n",
       "      <td>2017-06-15</td>\n",
       "      <td>19.315571</td>\n",
       "    </tr>\n",
       "  </tbody>\n",
       "</table>\n",
       "</div>"
      ],
      "text/plain": [
       "      datetime  Chlorophyll a, corrected for pheophytin\n",
       "139 2016-05-25                                22.280000\n",
       "175 2016-06-30                                22.480000\n",
       "489 2017-05-10                                22.644333\n",
       "490 2017-05-11                                 4.600000\n",
       "525 2017-06-15                                19.315571"
      ]
     },
     "metadata": {},
     "output_type": "display_data"
    },
    {
     "data": {
      "text/html": [
       "<div>\n",
       "<style scoped>\n",
       "    .dataframe tbody tr th:only-of-type {\n",
       "        vertical-align: middle;\n",
       "    }\n",
       "\n",
       "    .dataframe tbody tr th {\n",
       "        vertical-align: top;\n",
       "    }\n",
       "\n",
       "    .dataframe thead th {\n",
       "        text-align: right;\n",
       "    }\n",
       "</style>\n",
       "<table border=\"1\" class=\"dataframe\">\n",
       "  <thead>\n",
       "    <tr style=\"text-align: right;\">\n",
       "      <th></th>\n",
       "      <th>datetime</th>\n",
       "      <th>Chlorophyll a, free of pheophytin</th>\n",
       "    </tr>\n",
       "  </thead>\n",
       "  <tbody>\n",
       "    <tr>\n",
       "      <th>525</th>\n",
       "      <td>2017-06-15</td>\n",
       "      <td>13.438630</td>\n",
       "    </tr>\n",
       "    <tr>\n",
       "      <th>551</th>\n",
       "      <td>2017-07-11</td>\n",
       "      <td>80.520741</td>\n",
       "    </tr>\n",
       "    <tr>\n",
       "      <th>578</th>\n",
       "      <td>2017-08-07</td>\n",
       "      <td>61.419667</td>\n",
       "    </tr>\n",
       "    <tr>\n",
       "      <th>579</th>\n",
       "      <td>2017-08-08</td>\n",
       "      <td>6.925067</td>\n",
       "    </tr>\n",
       "    <tr>\n",
       "      <th>613</th>\n",
       "      <td>2017-09-11</td>\n",
       "      <td>29.641000</td>\n",
       "    </tr>\n",
       "  </tbody>\n",
       "</table>\n",
       "</div>"
      ],
      "text/plain": [
       "      datetime  Chlorophyll a, free of pheophytin\n",
       "525 2017-06-15                          13.438630\n",
       "551 2017-07-11                          80.520741\n",
       "578 2017-08-07                          61.419667\n",
       "579 2017-08-08                           6.925067\n",
       "613 2017-09-11                          29.641000"
      ]
     },
     "metadata": {},
     "output_type": "display_data"
    }
   ],
   "source": [
    "display(c1.head())\n",
    "display(c2.head())\n",
    "display(c3.head())"
   ]
  },
  {
   "cell_type": "code",
   "execution_count": 56,
   "metadata": {},
   "outputs": [
    {
     "data": {
      "text/plain": [
       "(38, 2)"
      ]
     },
     "metadata": {},
     "output_type": "display_data"
    },
    {
     "data": {
      "text/plain": [
       "(37, 2)"
      ]
     },
     "metadata": {},
     "output_type": "display_data"
    },
    {
     "data": {
      "text/plain": [
       "(24, 2)"
      ]
     },
     "metadata": {},
     "output_type": "display_data"
    }
   ],
   "source": [
    "# Check number of rows\n",
    "display(c1.shape)\n",
    "display(c2.shape)\n",
    "display(c3.shape)"
   ]
  },
  {
   "cell_type": "code",
   "execution_count": 44,
   "metadata": {},
   "outputs": [],
   "source": [
    "#plt.hist(depth.iloc[:,1], bins=30);"
   ]
  },
  {
   "cell_type": "code",
   "execution_count": 62,
   "metadata": {},
   "outputs": [
    {
     "data": {
      "image/png": "[encoded data removed]",
      "text/plain": [
       "<Figure size 1080x360 with 1 Axes>"
      ]
     },
     "metadata": {
      "needs_background": "light"
     },
     "output_type": "display_data"
    }
   ],
   "source": [
    "fig, ax = plt.subplots(figsize=(15, 5))\n",
    "ax1 = ax.scatter(c1.iloc[:,0], c1.iloc[:,1], color='sandybrown', alpha=0.6, s=100, label='Uncorrected for pheophytin')\n",
    "ax2 = ax.scatter(c2.iloc[:,0], c2.iloc[:,1], color='palegreen', alpha=0.6, s=100, label='Corrected for pheophytin')\n",
    "ax3 = ax.scatter(c3.iloc[:,0], c3.iloc[:,1], color='lightpink', alpha=0.6, s=100, label='Free of pheophytin' )\n",
    "ax.set(xlabel='Date', ylabel='Chlorophyll a ($ \\mu g / L$)')\n",
    "ax.legend()\n",
    "#legend((ax1, ax2, ax3), ('label1', 'label2', 'label3'))\n",
    "\n",
    "plt.savefig(\"../6 chloro_ts\", bbox_inches = 'tight');"
   ]
  },
  {
   "cell_type": "code",
   "execution_count": 63,
   "metadata": {},
   "outputs": [
    {
     "data": {
      "image/png": "[encoded data removed]",
      "text/plain": [
       "<Figure size 504x864 with 3 Axes>"
      ]
     },
     "metadata": {
      "needs_background": "light"
     },
     "output_type": "display_data"
    }
   ],
   "source": [
    "# Plot histogram of distribution\n",
    "fig = plt.figure(figsize=(7,12))\n",
    "\n",
    "ax1 = fig.add_subplot(3,1,1)\n",
    "ax1.hist(c1.iloc[:,1], bins=25, color='lightskyblue', linewidth=1, edgecolor=\"white\")\n",
    "ax1.set(xlabel='Chlorophyll a, uncorrected for pheophytin ($ \\mu g / L$)', ylabel=f'Number of observations (n={len(c1)})');\n",
    "\n",
    "ax2 = fig.add_subplot(3,1,2)\n",
    "ax2.hist(c2.iloc[:,1], bins=25, color='lightskyblue', linewidth=1, edgecolor=\"white\")\n",
    "ax2.set(xlabel='Chlorophyll a, corrected for pheophytin ($ \\mu g / L$)', ylabel=f'Number of observations (n={len(c2)})');\n",
    "\n",
    "ax3 = fig.add_subplot(3,1,3)\n",
    "ax3.hist(c3.iloc[:,1], bins=25, color='lightskyblue', linewidth=1, edgecolor=\"white\")\n",
    "ax3.set(xlabel='Chlorophyll a, free of pheophytin ($ \\mu g / L$)', ylabel=f'Number of observations (n={len(c3)})')\n",
    "\n",
    "plt.tight_layout()\n",
    "\n",
    "plt.savefig(\"../6 chloro_dis\", bbox_inches = 'tight');"
   ]
  },
  {
   "cell_type": "code",
   "execution_count": 161,
   "metadata": {},
   "outputs": [
    {
     "data": {
      "image/png": "[encoded data removed]",
      "text/plain": [
       "<Figure size 504x864 with 3 Axes>"
      ]
     },
     "metadata": {
      "needs_background": "light"
     },
     "output_type": "display_data"
    }
   ],
   "source": [
    "# Plot log histogram of distribution\n",
    "fig = plt.figure(figsize=(7,12))\n",
    "\n",
    "ax1 = fig.add_subplot(3,1,1)\n",
    "ax1.hist(np.log(c1.iloc[:,1]), bins=25, color='lightskyblue', linewidth=1, edgecolor=\"white\")\n",
    "ax1.set(xlabel='Log Chlorophyll a, uncorrected for pheophytin ($ \\mu g / L$)', ylabel=f'Number of observations (n={len(c1)})');\n",
    "\n",
    "ax2 = fig.add_subplot(3,1,2)\n",
    "ax2.hist(np.log(c2.iloc[:,1]), bins=25, color='lightskyblue', linewidth=1, edgecolor=\"white\")\n",
    "ax2.set(xlabel='Log Chlorophyll a, corrected for pheophytin ($ \\mu g / L$)', ylabel=f'Number of observations (n={len(c2)})');\n",
    "\n",
    "ax3 = fig.add_subplot(3,1,3)\n",
    "ax3.hist(np.log(c3.iloc[:,1]), bins=25, color='lightskyblue', linewidth=1, edgecolor=\"white\")\n",
    "ax3.set(xlabel='Log Chlorophyll a, free of pheophytin ($ \\mu g / L$)', ylabel=f'Number of observations (n={len(c3)})')\n",
    "\n",
    "plt.tight_layout()\n",
    "\n",
    "plt.savefig(\"../6 chloro_dis_log\", bbox_inches = 'tight');"
   ]
  },
  {
   "cell_type": "markdown",
   "metadata": {},
   "source": [
    "# Advisory data"
   ]
  },
  {
   "cell_type": "markdown",
   "metadata": {},
   "source": [
    "df1: Total taxanomy\n",
    "\n",
    "df2: Cyano taxanomy"
   ]
  },
  {
   "cell_type": "code",
   "execution_count": 66,
   "metadata": {},
   "outputs": [],
   "source": [
    "# Import Kateri's advisory program data for cyanotoxins\n",
    "df1 = pd.read_csv(\"../../Data/ULAdvisoryProgram_TotalTaxa_Toxins.csv\")\n",
    "df2 = pd.read_csv(\"../../Data/ULAdvisoryProgram_CyanoTaxa_Toxins.csv\")"
   ]
  },
  {
   "cell_type": "code",
   "execution_count": 67,
   "metadata": {},
   "outputs": [],
   "source": [
    "# Selecting relevant columns\n",
    "df1 = df1.loc[:,[\"Depth\",\"Date_Sampled\",\n",
    "                \"Year\", \"Month\",\n",
    "                \"Cells_per_mL\", \"IFCB_Biovolume_um3_per_mL\"]].copy()\n",
    "\n",
    "df2 = df2.loc[:,[\"Depth\",\"Date_Sampled\",\n",
    "                \"Year\", \"Month\",\n",
    "                \"Cells_per_mL\", \"IFCB_Biovolume_um3_per_mL\"]].copy()"
   ]
  },
  {
   "cell_type": "code",
   "execution_count": 68,
   "metadata": {},
   "outputs": [],
   "source": [
    "# rename columns\n",
    "df1 = df1.rename(columns={'Date_Sampled':'date',\n",
    "                          'Cells_per_mL':'cell_count',\n",
    "                          'IFCB_Biovolume_um3_per_mL':'biovolume',\n",
    "                          'Microcystin.avg':'microcystin_avg',\n",
    "                          'Anatoxin.avg':'anatoxin_Avg'\n",
    "                         }, inplace=False)\n",
    "df1.columns = df1.columns.str.lower()\n",
    "\n",
    "df2 = df2.rename(columns={'Date_Sampled':'date',\n",
    "                          'Cells_per_mL':'cell_count',\n",
    "                          'IFCB_Biovolume_um3_per_mL':'biovolume',\n",
    "                          'Microcystin.avg':'microcystin_avg',\n",
    "                          'Anatoxin.avg':'anatoxin_Avg'\n",
    "                         }, inplace=False)\n",
    "df2.columns = df2.columns.str.lower()"
   ]
  },
  {
   "cell_type": "code",
   "execution_count": 69,
   "metadata": {},
   "outputs": [],
   "source": [
    "# Change date column to datetime object\n",
    "df1.date = pd.to_datetime(df1['date'])\n",
    "df2.date = pd.to_datetime(df2['date'])"
   ]
  },
  {
   "cell_type": "code",
   "execution_count": 70,
   "metadata": {},
   "outputs": [
    {
     "data": {
      "text/html": [
       "<div>\n",
       "<style scoped>\n",
       "    .dataframe tbody tr th:only-of-type {\n",
       "        vertical-align: middle;\n",
       "    }\n",
       "\n",
       "    .dataframe tbody tr th {\n",
       "        vertical-align: top;\n",
       "    }\n",
       "\n",
       "    .dataframe thead th {\n",
       "        text-align: right;\n",
       "    }\n",
       "</style>\n",
       "<table border=\"1\" class=\"dataframe\">\n",
       "  <thead>\n",
       "    <tr style=\"text-align: right;\">\n",
       "      <th></th>\n",
       "      <th>depth</th>\n",
       "      <th>date</th>\n",
       "      <th>year</th>\n",
       "      <th>month</th>\n",
       "      <th>cell_count</th>\n",
       "      <th>biovolume</th>\n",
       "    </tr>\n",
       "  </thead>\n",
       "  <tbody>\n",
       "    <tr>\n",
       "      <th>0</th>\n",
       "      <td>Composite</td>\n",
       "      <td>2016-07-26</td>\n",
       "      <td>2016</td>\n",
       "      <td>7</td>\n",
       "      <td>7.162994e+03</td>\n",
       "      <td>NaN</td>\n",
       "    </tr>\n",
       "    <tr>\n",
       "      <th>1</th>\n",
       "      <td>Composite</td>\n",
       "      <td>2016-08-02</td>\n",
       "      <td>2016</td>\n",
       "      <td>8</td>\n",
       "      <td>2.956425e+02</td>\n",
       "      <td>NaN</td>\n",
       "    </tr>\n",
       "    <tr>\n",
       "      <th>2</th>\n",
       "      <td>Composite</td>\n",
       "      <td>2016-08-23</td>\n",
       "      <td>2016</td>\n",
       "      <td>8</td>\n",
       "      <td>1.140335e+06</td>\n",
       "      <td>NaN</td>\n",
       "    </tr>\n",
       "    <tr>\n",
       "      <th>3</th>\n",
       "      <td>Composite</td>\n",
       "      <td>2016-07-20</td>\n",
       "      <td>2016</td>\n",
       "      <td>7</td>\n",
       "      <td>0.000000e+00</td>\n",
       "      <td>NaN</td>\n",
       "    </tr>\n",
       "    <tr>\n",
       "      <th>4</th>\n",
       "      <td>Composite</td>\n",
       "      <td>2016-07-26</td>\n",
       "      <td>2016</td>\n",
       "      <td>7</td>\n",
       "      <td>0.000000e+00</td>\n",
       "      <td>NaN</td>\n",
       "    </tr>\n",
       "  </tbody>\n",
       "</table>\n",
       "</div>"
      ],
      "text/plain": [
       "       depth       date  year  month    cell_count  biovolume\n",
       "0  Composite 2016-07-26  2016      7  7.162994e+03        NaN\n",
       "1  Composite 2016-08-02  2016      8  2.956425e+02        NaN\n",
       "2  Composite 2016-08-23  2016      8  1.140335e+06        NaN\n",
       "3  Composite 2016-07-20  2016      7  0.000000e+00        NaN\n",
       "4  Composite 2016-07-26  2016      7  0.000000e+00        NaN"
      ]
     },
     "execution_count": 70,
     "metadata": {},
     "output_type": "execute_result"
    }
   ],
   "source": [
    "df1.head()"
   ]
  },
  {
   "cell_type": "code",
   "execution_count": 71,
   "metadata": {},
   "outputs": [
    {
     "data": {
      "text/plain": [
       "(364, 6)"
      ]
     },
     "metadata": {},
     "output_type": "display_data"
    },
    {
     "data": {
      "text/plain": [
       "(445, 6)"
      ]
     },
     "metadata": {},
     "output_type": "display_data"
    }
   ],
   "source": [
    "display(df1.shape)\n",
    "display(df2.shape)"
   ]
  },
  {
   "cell_type": "code",
   "execution_count": 72,
   "metadata": {},
   "outputs": [
    {
     "data": {
      "text/plain": [
       "78"
      ]
     },
     "metadata": {},
     "output_type": "display_data"
    },
    {
     "data": {
      "text/plain": [
       "98"
      ]
     },
     "metadata": {},
     "output_type": "display_data"
    }
   ],
   "source": [
    "display(df1.date.nunique())\n",
    "display(df2.date.nunique())"
   ]
  },
  {
   "cell_type": "code",
   "execution_count": 73,
   "metadata": {},
   "outputs": [
    {
     "name": "stderr",
     "output_type": "stream",
     "text": [
      "<ipython-input-73-0cd23b95937a>:6: UserWarning: Pandas doesn't allow columns to be created via a new attribute name - see https://pandas.pydata.org/pandas-docs/stable/indexing.html#attribute-access\n",
      "  df1.datetime = pd.to_datetime(df1['date'])\n",
      "<ipython-input-73-0cd23b95937a>:10: UserWarning: Pandas doesn't allow columns to be created via a new attribute name - see https://pandas.pydata.org/pandas-docs/stable/indexing.html#attribute-access\n",
      "  df2.datetime = pd.to_datetime(df2['date'])\n"
     ]
    }
   ],
   "source": [
    "# Take average to get daily values\n",
    "# used this to groupby https://pbpython.com/pandas-grouper-agg.html \n",
    "# https://pandas.pydata.org/pandas-docs/stable/user_guide/timeseries.html#dateoffset-objects\n",
    "df1 = df1.groupby([pd.Grouper(key='date', freq='D')])[df1.columns[4:]].mean()\n",
    "df1 = df1.reset_index()\n",
    "df1.datetime = pd.to_datetime(df1['date'])\n",
    "\n",
    "df2 = df2.groupby([pd.Grouper(key='date', freq='D')])[df2.columns[4:]].mean()\n",
    "df2 = df2.reset_index()\n",
    "df2.datetime = pd.to_datetime(df2['date'])"
   ]
  },
  {
   "cell_type": "code",
   "execution_count": 74,
   "metadata": {},
   "outputs": [
    {
     "data": {
      "text/plain": [
       "(1154, 3)"
      ]
     },
     "execution_count": 74,
     "metadata": {},
     "output_type": "execute_result"
    }
   ],
   "source": [
    "df1.shape"
   ]
  },
  {
   "cell_type": "code",
   "execution_count": 78,
   "metadata": {},
   "outputs": [
    {
     "data": {
      "text/html": [
       "<div>\n",
       "<style scoped>\n",
       "    .dataframe tbody tr th:only-of-type {\n",
       "        vertical-align: middle;\n",
       "    }\n",
       "\n",
       "    .dataframe tbody tr th {\n",
       "        vertical-align: top;\n",
       "    }\n",
       "\n",
       "    .dataframe thead th {\n",
       "        text-align: right;\n",
       "    }\n",
       "</style>\n",
       "<table border=\"1\" class=\"dataframe\">\n",
       "  <thead>\n",
       "    <tr style=\"text-align: right;\">\n",
       "      <th></th>\n",
       "      <th>cell_count</th>\n",
       "      <th>biovolume</th>\n",
       "    </tr>\n",
       "  </thead>\n",
       "  <tbody>\n",
       "    <tr>\n",
       "      <th>count</th>\n",
       "      <td>78.00</td>\n",
       "      <td>49.00</td>\n",
       "    </tr>\n",
       "    <tr>\n",
       "      <th>mean</th>\n",
       "      <td>2336445.80</td>\n",
       "      <td>768817141.23</td>\n",
       "    </tr>\n",
       "    <tr>\n",
       "      <th>std</th>\n",
       "      <td>5886112.34</td>\n",
       "      <td>1696319303.48</td>\n",
       "    </tr>\n",
       "    <tr>\n",
       "      <th>min</th>\n",
       "      <td>474.64</td>\n",
       "      <td>899563.42</td>\n",
       "    </tr>\n",
       "    <tr>\n",
       "      <th>25%</th>\n",
       "      <td>45698.56</td>\n",
       "      <td>13515572.91</td>\n",
       "    </tr>\n",
       "    <tr>\n",
       "      <th>50%</th>\n",
       "      <td>207466.04</td>\n",
       "      <td>110690605.09</td>\n",
       "    </tr>\n",
       "    <tr>\n",
       "      <th>75%</th>\n",
       "      <td>1239275.35</td>\n",
       "      <td>476492882.17</td>\n",
       "    </tr>\n",
       "    <tr>\n",
       "      <th>max</th>\n",
       "      <td>30097458.83</td>\n",
       "      <td>7851218574.81</td>\n",
       "    </tr>\n",
       "  </tbody>\n",
       "</table>\n",
       "</div>"
      ],
      "text/plain": [
       "        cell_count      biovolume\n",
       "count        78.00          49.00\n",
       "mean    2336445.80   768817141.23\n",
       "std     5886112.34  1696319303.48\n",
       "min         474.64      899563.42\n",
       "25%       45698.56    13515572.91\n",
       "50%      207466.04   110690605.09\n",
       "75%     1239275.35   476492882.17\n",
       "max    30097458.83  7851218574.81"
      ]
     },
     "execution_count": 78,
     "metadata": {},
     "output_type": "execute_result"
    }
   ],
   "source": [
    "df1.describe().apply(lambda s: s.apply('{0:.2f}'.format))"
   ]
  },
  {
   "cell_type": "code",
   "execution_count": 79,
   "metadata": {},
   "outputs": [
    {
     "data": {
      "text/html": [
       "<div>\n",
       "<style scoped>\n",
       "    .dataframe tbody tr th:only-of-type {\n",
       "        vertical-align: middle;\n",
       "    }\n",
       "\n",
       "    .dataframe tbody tr th {\n",
       "        vertical-align: top;\n",
       "    }\n",
       "\n",
       "    .dataframe thead th {\n",
       "        text-align: right;\n",
       "    }\n",
       "</style>\n",
       "<table border=\"1\" class=\"dataframe\">\n",
       "  <thead>\n",
       "    <tr style=\"text-align: right;\">\n",
       "      <th></th>\n",
       "      <th>cell_count</th>\n",
       "      <th>biovolume</th>\n",
       "    </tr>\n",
       "  </thead>\n",
       "  <tbody>\n",
       "    <tr>\n",
       "      <th>count</th>\n",
       "      <td>98.00</td>\n",
       "      <td>69.00</td>\n",
       "    </tr>\n",
       "    <tr>\n",
       "      <th>mean</th>\n",
       "      <td>2428420.58</td>\n",
       "      <td>556628039.30</td>\n",
       "    </tr>\n",
       "    <tr>\n",
       "      <th>std</th>\n",
       "      <td>7921859.70</td>\n",
       "      <td>1240324315.28</td>\n",
       "    </tr>\n",
       "    <tr>\n",
       "      <th>min</th>\n",
       "      <td>123.84</td>\n",
       "      <td>4411.50</td>\n",
       "    </tr>\n",
       "    <tr>\n",
       "      <th>25%</th>\n",
       "      <td>23692.52</td>\n",
       "      <td>3879704.86</td>\n",
       "    </tr>\n",
       "    <tr>\n",
       "      <th>50%</th>\n",
       "      <td>127573.83</td>\n",
       "      <td>38591636.41</td>\n",
       "    </tr>\n",
       "    <tr>\n",
       "      <th>75%</th>\n",
       "      <td>1335304.97</td>\n",
       "      <td>420339426.59</td>\n",
       "    </tr>\n",
       "    <tr>\n",
       "      <th>max</th>\n",
       "      <td>69069343.54</td>\n",
       "      <td>6318719622.64</td>\n",
       "    </tr>\n",
       "  </tbody>\n",
       "</table>\n",
       "</div>"
      ],
      "text/plain": [
       "        cell_count      biovolume\n",
       "count        98.00          69.00\n",
       "mean    2428420.58   556628039.30\n",
       "std     7921859.70  1240324315.28\n",
       "min         123.84        4411.50\n",
       "25%       23692.52     3879704.86\n",
       "50%      127573.83    38591636.41\n",
       "75%     1335304.97   420339426.59\n",
       "max    69069343.54  6318719622.64"
      ]
     },
     "execution_count": 79,
     "metadata": {},
     "output_type": "execute_result"
    }
   ],
   "source": [
    "df2.describe().apply(lambda s: s.apply('{0:.2f}'.format))"
   ]
  },
  {
   "cell_type": "code",
   "execution_count": 138,
   "metadata": {},
   "outputs": [
    {
     "data": {
      "text/html": [
       "<div>\n",
       "<style scoped>\n",
       "    .dataframe tbody tr th:only-of-type {\n",
       "        vertical-align: middle;\n",
       "    }\n",
       "\n",
       "    .dataframe tbody tr th {\n",
       "        vertical-align: top;\n",
       "    }\n",
       "\n",
       "    .dataframe thead th {\n",
       "        text-align: right;\n",
       "    }\n",
       "</style>\n",
       "<table border=\"1\" class=\"dataframe\">\n",
       "  <thead>\n",
       "    <tr style=\"text-align: right;\">\n",
       "      <th></th>\n",
       "      <th>date</th>\n",
       "      <th>cell_count</th>\n",
       "      <th>biovolume</th>\n",
       "    </tr>\n",
       "  </thead>\n",
       "  <tbody>\n",
       "    <tr>\n",
       "      <td>0</td>\n",
       "      <td>2016-07-13</td>\n",
       "      <td>2.373906e+07</td>\n",
       "      <td>NaN</td>\n",
       "    </tr>\n",
       "    <tr>\n",
       "      <td>1</td>\n",
       "      <td>2016-07-14</td>\n",
       "      <td>2.698017e+05</td>\n",
       "      <td>NaN</td>\n",
       "    </tr>\n",
       "    <tr>\n",
       "      <td>2</td>\n",
       "      <td>2016-07-15</td>\n",
       "      <td>4.604392e+06</td>\n",
       "      <td>NaN</td>\n",
       "    </tr>\n",
       "    <tr>\n",
       "      <td>3</td>\n",
       "      <td>2016-07-16</td>\n",
       "      <td>NaN</td>\n",
       "      <td>NaN</td>\n",
       "    </tr>\n",
       "    <tr>\n",
       "      <td>4</td>\n",
       "      <td>2016-07-17</td>\n",
       "      <td>NaN</td>\n",
       "      <td>NaN</td>\n",
       "    </tr>\n",
       "  </tbody>\n",
       "</table>\n",
       "</div>"
      ],
      "text/plain": [
       "        date    cell_count  biovolume\n",
       "0 2016-07-13  2.373906e+07        NaN\n",
       "1 2016-07-14  2.698017e+05        NaN\n",
       "2 2016-07-15  4.604392e+06        NaN\n",
       "3 2016-07-16           NaN        NaN\n",
       "4 2016-07-17           NaN        NaN"
      ]
     },
     "execution_count": 138,
     "metadata": {},
     "output_type": "execute_result"
    }
   ],
   "source": [
    "df1.head()"
   ]
  },
  {
   "cell_type": "markdown",
   "metadata": {},
   "source": [
    "# Cell count (total)"
   ]
  },
  {
   "cell_type": "code",
   "execution_count": 127,
   "metadata": {},
   "outputs": [],
   "source": [
    "# Select date and depth columns\n",
    "cct = df1.iloc[:,[0,1]]"
   ]
  },
  {
   "cell_type": "code",
   "execution_count": 128,
   "metadata": {},
   "outputs": [],
   "source": [
    "# Drop null values\n",
    "cct = cct.dropna(axis=0)"
   ]
  },
  {
   "cell_type": "code",
   "execution_count": 129,
   "metadata": {},
   "outputs": [
    {
     "data": {
      "text/html": [
       "<div>\n",
       "<style scoped>\n",
       "    .dataframe tbody tr th:only-of-type {\n",
       "        vertical-align: middle;\n",
       "    }\n",
       "\n",
       "    .dataframe tbody tr th {\n",
       "        vertical-align: top;\n",
       "    }\n",
       "\n",
       "    .dataframe thead th {\n",
       "        text-align: right;\n",
       "    }\n",
       "</style>\n",
       "<table border=\"1\" class=\"dataframe\">\n",
       "  <thead>\n",
       "    <tr style=\"text-align: right;\">\n",
       "      <th></th>\n",
       "      <th>date</th>\n",
       "      <th>cell_count</th>\n",
       "    </tr>\n",
       "  </thead>\n",
       "  <tbody>\n",
       "    <tr>\n",
       "      <th>0</th>\n",
       "      <td>2016-07-13</td>\n",
       "      <td>2.373906e+07</td>\n",
       "    </tr>\n",
       "    <tr>\n",
       "      <th>1</th>\n",
       "      <td>2016-07-14</td>\n",
       "      <td>2.698017e+05</td>\n",
       "    </tr>\n",
       "    <tr>\n",
       "      <th>2</th>\n",
       "      <td>2016-07-15</td>\n",
       "      <td>4.604392e+06</td>\n",
       "    </tr>\n",
       "    <tr>\n",
       "      <th>7</th>\n",
       "      <td>2016-07-20</td>\n",
       "      <td>1.589423e+06</td>\n",
       "    </tr>\n",
       "    <tr>\n",
       "      <th>13</th>\n",
       "      <td>2016-07-26</td>\n",
       "      <td>2.865135e+04</td>\n",
       "    </tr>\n",
       "  </tbody>\n",
       "</table>\n",
       "</div>"
      ],
      "text/plain": [
       "         date    cell_count\n",
       "0  2016-07-13  2.373906e+07\n",
       "1  2016-07-14  2.698017e+05\n",
       "2  2016-07-15  4.604392e+06\n",
       "7  2016-07-20  1.589423e+06\n",
       "13 2016-07-26  2.865135e+04"
      ]
     },
     "execution_count": 129,
     "metadata": {},
     "output_type": "execute_result"
    }
   ],
   "source": [
    "cct.head()"
   ]
  },
  {
   "cell_type": "code",
   "execution_count": 130,
   "metadata": {},
   "outputs": [
    {
     "data": {
      "text/plain": [
       "(78, 2)"
      ]
     },
     "execution_count": 130,
     "metadata": {},
     "output_type": "execute_result"
    }
   ],
   "source": [
    "# Check number of rows\n",
    "cct.shape"
   ]
  },
  {
   "cell_type": "code",
   "execution_count": 131,
   "metadata": {},
   "outputs": [],
   "source": [
    "#plt.hist(depth.iloc[:,1], bins=30);"
   ]
  },
  {
   "cell_type": "code",
   "execution_count": 132,
   "metadata": {},
   "outputs": [
    {
     "data": {
      "image/png": "[encoded data removed]",
      "text/plain": [
       "<Figure size 936x360 with 1 Axes>"
      ]
     },
     "metadata": {
      "needs_background": "light"
     },
     "output_type": "display_data"
    }
   ],
   "source": [
    "fig, ax = plt.subplots(figsize=(13, 5))\n",
    "ax.scatter(cct.iloc[:,0], cct.iloc[:,1], color='sandybrown', alpha=0.5, s=100)\n",
    "#ax.plot(cct.iloc[:,0], cct.iloc[:,1], color='sandybrown', alpha=0.7)\n",
    "\n",
    "ax.set(xlabel='Date', ylabel='Total phytoplankton cell count (cells/mL)')\n",
    "\n",
    "plt.savefig(\"../8 total cell count_ts\", bbox_inches = 'tight');"
   ]
  },
  {
   "cell_type": "code",
   "execution_count": 133,
   "metadata": {},
   "outputs": [
    {
     "data": {
      "image/png": "[encoded data removed]",
      "text/plain": [
       "<Figure size 576x360 with 1 Axes>"
      ]
     },
     "metadata": {
      "needs_background": "light"
     },
     "output_type": "display_data"
    }
   ],
   "source": [
    "# Plot histogram of distribution\n",
    "fig, ax = plt.subplots(figsize=(8, 5))\n",
    "ax.hist(cct.iloc[:,1], bins=25, color='lightskyblue', linewidth=1, edgecolor=\"white\")\n",
    "ax.set(xlabel='Total phytoplankton cell count (cells/mL)', ylabel=f'Number of observations (n={len(cct)})')\n",
    "\n",
    "plt.savefig(\"../8 total cell count_dis\", bbox_inches = 'tight');"
   ]
  },
  {
   "cell_type": "code",
   "execution_count": 134,
   "metadata": {},
   "outputs": [
    {
     "data": {
      "image/png": "[encoded data removed]",
      "text/plain": [
       "<Figure size 576x360 with 1 Axes>"
      ]
     },
     "metadata": {
      "needs_background": "light"
     },
     "output_type": "display_data"
    }
   ],
   "source": [
    "# Plot logged histogram of distribution\n",
    "fig, ax = plt.subplots(figsize=(8, 5))\n",
    "ax.hist(np.log(cct.iloc[:,1]), bins=25, color='lightskyblue', linewidth=1, edgecolor=\"white\")\n",
    "ax.set(xlabel='Log Total phytoplankton cell count (cells/mL)', ylabel=f'Number of observations (n={len(cct)})')\n",
    "\n",
    "plt.savefig(\"../8 total cell count_dis_log\", bbox_inches = 'tight');"
   ]
  },
  {
   "cell_type": "code",
   "execution_count": null,
   "metadata": {},
   "outputs": [],
   "source": []
  },
  {
   "cell_type": "markdown",
   "metadata": {},
   "source": [
    "# Biovolume (total)"
   ]
  },
  {
   "cell_type": "code",
   "execution_count": 135,
   "metadata": {},
   "outputs": [],
   "source": [
    "# Select date and depth columns\n",
    "bt = df1.iloc[:,[0,2]]"
   ]
  },
  {
   "cell_type": "code",
   "execution_count": 136,
   "metadata": {},
   "outputs": [],
   "source": [
    "# Drop null values\n",
    "bt = bt.dropna(axis=0)"
   ]
  },
  {
   "cell_type": "code",
   "execution_count": 137,
   "metadata": {},
   "outputs": [
    {
     "data": {
      "text/html": [
       "<div>\n",
       "<style scoped>\n",
       "    .dataframe tbody tr th:only-of-type {\n",
       "        vertical-align: middle;\n",
       "    }\n",
       "\n",
       "    .dataframe tbody tr th {\n",
       "        vertical-align: top;\n",
       "    }\n",
       "\n",
       "    .dataframe thead th {\n",
       "        text-align: right;\n",
       "    }\n",
       "</style>\n",
       "<table border=\"1\" class=\"dataframe\">\n",
       "  <thead>\n",
       "    <tr style=\"text-align: right;\">\n",
       "      <th></th>\n",
       "      <th>date</th>\n",
       "      <th>biovolume</th>\n",
       "    </tr>\n",
       "  </thead>\n",
       "  <tbody>\n",
       "    <tr>\n",
       "      <th>659</th>\n",
       "      <td>2018-05-03</td>\n",
       "      <td>5.572982e+06</td>\n",
       "    </tr>\n",
       "    <tr>\n",
       "      <th>672</th>\n",
       "      <td>2018-05-16</td>\n",
       "      <td>1.395221e+07</td>\n",
       "    </tr>\n",
       "    <tr>\n",
       "      <th>679</th>\n",
       "      <td>2018-05-23</td>\n",
       "      <td>6.561005e+06</td>\n",
       "    </tr>\n",
       "    <tr>\n",
       "      <th>687</th>\n",
       "      <td>2018-05-31</td>\n",
       "      <td>4.346729e+07</td>\n",
       "    </tr>\n",
       "    <tr>\n",
       "      <th>693</th>\n",
       "      <td>2018-06-06</td>\n",
       "      <td>3.299544e+09</td>\n",
       "    </tr>\n",
       "  </tbody>\n",
       "</table>\n",
       "</div>"
      ],
      "text/plain": [
       "          date     biovolume\n",
       "659 2018-05-03  5.572982e+06\n",
       "672 2018-05-16  1.395221e+07\n",
       "679 2018-05-23  6.561005e+06\n",
       "687 2018-05-31  4.346729e+07\n",
       "693 2018-06-06  3.299544e+09"
      ]
     },
     "execution_count": 137,
     "metadata": {},
     "output_type": "execute_result"
    }
   ],
   "source": [
    "bt.head()"
   ]
  },
  {
   "cell_type": "code",
   "execution_count": 138,
   "metadata": {},
   "outputs": [
    {
     "data": {
      "text/plain": [
       "(49, 2)"
      ]
     },
     "execution_count": 138,
     "metadata": {},
     "output_type": "execute_result"
    }
   ],
   "source": [
    "# Check number of rows\n",
    "bt.shape"
   ]
  },
  {
   "cell_type": "code",
   "execution_count": 139,
   "metadata": {},
   "outputs": [],
   "source": [
    "#plt.hist(depth.iloc[:,1], bins=30);"
   ]
  },
  {
   "cell_type": "code",
   "execution_count": 140,
   "metadata": {},
   "outputs": [
    {
     "data": {
      "image/png": "[encoded data removed]",
      "text/plain": [
       "<Figure size 936x360 with 1 Axes>"
      ]
     },
     "metadata": {
      "needs_background": "light"
     },
     "output_type": "display_data"
    }
   ],
   "source": [
    "fig, ax = plt.subplots(figsize=(13, 5))\n",
    "ax.scatter(bt.iloc[:,0], bt.iloc[:,1], color='sandybrown', alpha=0.5, s=100)\n",
    "#ax.plot(bt.iloc[:,0], bt.iloc[:,1], color='sandybrown', alpha=0.7)\n",
    "ax.set(xlabel='Date', ylabel='Total phytoplankton biovolume ($ \\mu m^3 / mL$)')\n",
    "\n",
    "plt.savefig(\"../8 total biovolume_ts\", bbox_inches = 'tight');"
   ]
  },
  {
   "cell_type": "code",
   "execution_count": 141,
   "metadata": {},
   "outputs": [
    {
     "data": {
      "image/png": "[encoded data removed]",
      "text/plain": [
       "<Figure size 576x360 with 1 Axes>"
      ]
     },
     "metadata": {
      "needs_background": "light"
     },
     "output_type": "display_data"
    }
   ],
   "source": [
    "# Plot histogram of distribution\n",
    "fig, ax = plt.subplots(figsize=(8, 5))\n",
    "ax.hist(bt.iloc[:,1], bins=25, color='lightskyblue', linewidth=1, edgecolor=\"white\")\n",
    "ax.set(xlabel='Total phytoplankton biovolume ($ \\mu m^3 / mL$)', ylabel=f'Number of observations (n={len(bt)})')\n",
    "\n",
    "plt.savefig(\"../8 total biovolume_dis\", bbox_inches = 'tight');"
   ]
  },
  {
   "cell_type": "code",
   "execution_count": 142,
   "metadata": {},
   "outputs": [
    {
     "data": {
      "image/png": "[encoded data removed]",
      "text/plain": [
       "<Figure size 576x360 with 1 Axes>"
      ]
     },
     "metadata": {
      "needs_background": "light"
     },
     "output_type": "display_data"
    }
   ],
   "source": [
    "# Plot histogram of distribution\n",
    "fig, ax = plt.subplots(figsize=(8, 5))\n",
    "ax.hist(np.log(bt.iloc[:,1]), bins=25, color='lightskyblue', linewidth=1, edgecolor=\"white\")\n",
    "ax.set(xlabel='Log Total phytoplankton biovolume ($ \\mu m^3 / mL$)', ylabel=f'Number of observations (n={len(bt)})')\n",
    "\n",
    "plt.savefig(\"../8 total biovolume_dis_log\", bbox_inches = 'tight');"
   ]
  },
  {
   "cell_type": "code",
   "execution_count": null,
   "metadata": {},
   "outputs": [],
   "source": []
  },
  {
   "cell_type": "markdown",
   "metadata": {},
   "source": [
    "# Cell count (cyanobacteria)"
   ]
  },
  {
   "cell_type": "code",
   "execution_count": 143,
   "metadata": {},
   "outputs": [],
   "source": [
    "# Select date and depth columns\n",
    "ccc = df2.iloc[:,[0,1]]"
   ]
  },
  {
   "cell_type": "code",
   "execution_count": 144,
   "metadata": {},
   "outputs": [],
   "source": [
    "# Drop null values\n",
    "ccc = ccc.dropna(axis=0)"
   ]
  },
  {
   "cell_type": "code",
   "execution_count": 145,
   "metadata": {},
   "outputs": [
    {
     "data": {
      "text/html": [
       "<div>\n",
       "<style scoped>\n",
       "    .dataframe tbody tr th:only-of-type {\n",
       "        vertical-align: middle;\n",
       "    }\n",
       "\n",
       "    .dataframe tbody tr th {\n",
       "        vertical-align: top;\n",
       "    }\n",
       "\n",
       "    .dataframe thead th {\n",
       "        text-align: right;\n",
       "    }\n",
       "</style>\n",
       "<table border=\"1\" class=\"dataframe\">\n",
       "  <thead>\n",
       "    <tr style=\"text-align: right;\">\n",
       "      <th></th>\n",
       "      <th>date</th>\n",
       "      <th>cell_count</th>\n",
       "    </tr>\n",
       "  </thead>\n",
       "  <tbody>\n",
       "    <tr>\n",
       "      <th>0</th>\n",
       "      <td>2016-07-13</td>\n",
       "      <td>2.373906e+07</td>\n",
       "    </tr>\n",
       "    <tr>\n",
       "      <th>1</th>\n",
       "      <td>2016-07-14</td>\n",
       "      <td>2.698017e+05</td>\n",
       "    </tr>\n",
       "    <tr>\n",
       "      <th>2</th>\n",
       "      <td>2016-07-15</td>\n",
       "      <td>4.604392e+06</td>\n",
       "    </tr>\n",
       "    <tr>\n",
       "      <th>7</th>\n",
       "      <td>2016-07-20</td>\n",
       "      <td>1.589423e+06</td>\n",
       "    </tr>\n",
       "    <tr>\n",
       "      <th>13</th>\n",
       "      <td>2016-07-26</td>\n",
       "      <td>3.386069e+04</td>\n",
       "    </tr>\n",
       "  </tbody>\n",
       "</table>\n",
       "</div>"
      ],
      "text/plain": [
       "         date    cell_count\n",
       "0  2016-07-13  2.373906e+07\n",
       "1  2016-07-14  2.698017e+05\n",
       "2  2016-07-15  4.604392e+06\n",
       "7  2016-07-20  1.589423e+06\n",
       "13 2016-07-26  3.386069e+04"
      ]
     },
     "execution_count": 145,
     "metadata": {},
     "output_type": "execute_result"
    }
   ],
   "source": [
    "ccc.head()"
   ]
  },
  {
   "cell_type": "code",
   "execution_count": 146,
   "metadata": {},
   "outputs": [
    {
     "data": {
      "text/plain": [
       "(98, 2)"
      ]
     },
     "execution_count": 146,
     "metadata": {},
     "output_type": "execute_result"
    }
   ],
   "source": [
    "# Check number of rows\n",
    "ccc.shape"
   ]
  },
  {
   "cell_type": "code",
   "execution_count": 147,
   "metadata": {},
   "outputs": [],
   "source": [
    "#plt.hist(depth.iloc[:,1], bins=30);"
   ]
  },
  {
   "cell_type": "code",
   "execution_count": 148,
   "metadata": {},
   "outputs": [
    {
     "data": {
      "image/png": "[encoded data removed]",
      "text/plain": [
       "<Figure size 936x360 with 1 Axes>"
      ]
     },
     "metadata": {
      "needs_background": "light"
     },
     "output_type": "display_data"
    }
   ],
   "source": [
    "fig, ax = plt.subplots(figsize=(13, 5))\n",
    "ax.scatter(ccc.iloc[:,0], ccc.iloc[:,1], color='sandybrown', alpha=0.5, s=100)\n",
    "#ax.plot(ccc.iloc[:,0], ccc.iloc[:,1], color='sandybrown', alpha=0.7)\n",
    "ax.set(xlabel='Date', ylabel='Cyanobacteria cell count (cells/mL)')\n",
    "\n",
    "plt.savefig(\"../9 cyano cell count_ts\", bbox_inches = 'tight');"
   ]
  },
  {
   "cell_type": "code",
   "execution_count": 149,
   "metadata": {},
   "outputs": [
    {
     "data": {
      "image/png": "[encoded data removed]",
      "text/plain": [
       "<Figure size 576x360 with 1 Axes>"
      ]
     },
     "metadata": {
      "needs_background": "light"
     },
     "output_type": "display_data"
    }
   ],
   "source": [
    "# Plot histogram of distribution\n",
    "fig, ax = plt.subplots(figsize=(8, 5))\n",
    "ax.hist(ccc.iloc[:,1], bins=25, color='lightskyblue', linewidth=1, edgecolor=\"white\")\n",
    "ax.set(xlabel='Cyanobacteria cell count (cells/mL)', ylabel=f'Number of observations (n={len(ccc)})')\n",
    "\n",
    "plt.savefig(\"../9 cyano cell count_dis\", bbox_inches = 'tight');"
   ]
  },
  {
   "cell_type": "code",
   "execution_count": 150,
   "metadata": {},
   "outputs": [
    {
     "data": {
      "image/png": "[encoded data removed]",
      "text/plain": [
       "<Figure size 576x360 with 1 Axes>"
      ]
     },
     "metadata": {
      "needs_background": "light"
     },
     "output_type": "display_data"
    }
   ],
   "source": [
    "# Plot logged histogram of distribution\n",
    "fig, ax = plt.subplots(figsize=(8, 5))\n",
    "ax.hist(np.log(ccc.iloc[:,1]), bins=25, color='lightskyblue', linewidth=1, edgecolor=\"white\")\n",
    "ax.set(xlabel='Log Cyanobacteria cell count (cells/mL)', ylabel=f'Number of observations (n={len(ccc)})')\n",
    "\n",
    "plt.savefig(\"../9 cyano cell count_dis_log\", bbox_inches = 'tight');"
   ]
  },
  {
   "cell_type": "code",
   "execution_count": null,
   "metadata": {},
   "outputs": [],
   "source": []
  },
  {
   "cell_type": "markdown",
   "metadata": {},
   "source": [
    "# Biovolume (cyanobacteria)"
   ]
  },
  {
   "cell_type": "code",
   "execution_count": 151,
   "metadata": {},
   "outputs": [],
   "source": [
    "# Select date and depth columns\n",
    "bc = df2.iloc[:,[0,2]]"
   ]
  },
  {
   "cell_type": "code",
   "execution_count": 152,
   "metadata": {},
   "outputs": [],
   "source": [
    "# Drop null values\n",
    "bc = bc.dropna(axis=0)"
   ]
  },
  {
   "cell_type": "code",
   "execution_count": 153,
   "metadata": {},
   "outputs": [
    {
     "data": {
      "text/html": [
       "<div>\n",
       "<style scoped>\n",
       "    .dataframe tbody tr th:only-of-type {\n",
       "        vertical-align: middle;\n",
       "    }\n",
       "\n",
       "    .dataframe tbody tr th {\n",
       "        vertical-align: top;\n",
       "    }\n",
       "\n",
       "    .dataframe thead th {\n",
       "        text-align: right;\n",
       "    }\n",
       "</style>\n",
       "<table border=\"1\" class=\"dataframe\">\n",
       "  <thead>\n",
       "    <tr style=\"text-align: right;\">\n",
       "      <th></th>\n",
       "      <th>date</th>\n",
       "      <th>biovolume</th>\n",
       "    </tr>\n",
       "  </thead>\n",
       "  <tbody>\n",
       "    <tr>\n",
       "      <th>672</th>\n",
       "      <td>2018-05-16</td>\n",
       "      <td>2.344648e+05</td>\n",
       "    </tr>\n",
       "    <tr>\n",
       "      <th>679</th>\n",
       "      <td>2018-05-23</td>\n",
       "      <td>4.411497e+03</td>\n",
       "    </tr>\n",
       "    <tr>\n",
       "      <th>687</th>\n",
       "      <td>2018-05-31</td>\n",
       "      <td>5.812660e+05</td>\n",
       "    </tr>\n",
       "    <tr>\n",
       "      <th>693</th>\n",
       "      <td>2018-06-06</td>\n",
       "      <td>3.145746e+09</td>\n",
       "    </tr>\n",
       "    <tr>\n",
       "      <th>699</th>\n",
       "      <td>2018-06-12</td>\n",
       "      <td>2.787249e+06</td>\n",
       "    </tr>\n",
       "  </tbody>\n",
       "</table>\n",
       "</div>"
      ],
      "text/plain": [
       "          date     biovolume\n",
       "672 2018-05-16  2.344648e+05\n",
       "679 2018-05-23  4.411497e+03\n",
       "687 2018-05-31  5.812660e+05\n",
       "693 2018-06-06  3.145746e+09\n",
       "699 2018-06-12  2.787249e+06"
      ]
     },
     "execution_count": 153,
     "metadata": {},
     "output_type": "execute_result"
    }
   ],
   "source": [
    "bc.head()"
   ]
  },
  {
   "cell_type": "code",
   "execution_count": 154,
   "metadata": {},
   "outputs": [
    {
     "data": {
      "text/plain": [
       "(69, 2)"
      ]
     },
     "execution_count": 154,
     "metadata": {},
     "output_type": "execute_result"
    }
   ],
   "source": [
    "# Check number of rows\n",
    "bc.shape"
   ]
  },
  {
   "cell_type": "code",
   "execution_count": 155,
   "metadata": {},
   "outputs": [],
   "source": [
    "#plt.hist(depth.iloc[:,1], bins=30);"
   ]
  },
  {
   "cell_type": "code",
   "execution_count": 156,
   "metadata": {},
   "outputs": [
    {
     "data": {
      "image/png": "[encoded data removed]",
      "text/plain": [
       "<Figure size 936x360 with 1 Axes>"
      ]
     },
     "metadata": {
      "needs_background": "light"
     },
     "output_type": "display_data"
    }
   ],
   "source": [
    "fig, ax = plt.subplots(figsize=(13, 5))\n",
    "ax.scatter(bc.iloc[:,0], bc.iloc[:,1], color='sandybrown', alpha=0.5, s=100)\n",
    "#ax.plot(bc.iloc[:,0], bc.iloc[:,1], color='sandybrown', alpha=0.7)\n",
    "\n",
    "ax.set(xlabel='Date', ylabel='Cyanobacteria biovolume ($ \\mu m^3 / mL$)')\n",
    "\n",
    "plt.savefig(\"../9 cyano biovolume_ts\", bbox_inches = 'tight');"
   ]
  },
  {
   "cell_type": "code",
   "execution_count": 157,
   "metadata": {},
   "outputs": [
    {
     "data": {
      "image/png": "[encoded data removed]",
      "text/plain": [
       "<Figure size 576x360 with 1 Axes>"
      ]
     },
     "metadata": {
      "needs_background": "light"
     },
     "output_type": "display_data"
    }
   ],
   "source": [
    "# Plot histogram of distribution\n",
    "fig, ax = plt.subplots(figsize=(8, 5))\n",
    "ax.hist(bc.iloc[:,1], bins=25, color='lightskyblue', linewidth=1, edgecolor=\"white\")\n",
    "ax.set(xlabel='Cyanobacteria biovolume ($ \\mu m^3 / mL$)', ylabel=f'Number of observations (n={len(bc)})')\n",
    "\n",
    "plt.savefig(\"../9 cyano biovolume_dis\", bbox_inches = 'tight');"
   ]
  },
  {
   "cell_type": "code",
   "execution_count": 158,
   "metadata": {},
   "outputs": [
    {
     "data": {
      "image/png": "[encoded data removed]",
      "text/plain": [
       "<Figure size 576x360 with 1 Axes>"
      ]
     },
     "metadata": {
      "needs_background": "light"
     },
     "output_type": "display_data"
    }
   ],
   "source": [
    "# Plot histogram of distribution\n",
    "fig, ax = plt.subplots(figsize=(8, 5))\n",
    "ax.hist(np.log(bc.iloc[:,1]), bins=25, color='lightskyblue', linewidth=1, edgecolor=\"white\")\n",
    "ax.set(xlabel='Log Cyanobacteria biovolume ($ \\mu m^3 / mL$)', ylabel=f'Number of observations (n={len(bc)})')\n",
    "\n",
    "plt.savefig(\"../9 cyano biovolume_dis_log\", bbox_inches = 'tight');"
   ]
  },
  {
   "cell_type": "markdown",
   "metadata": {},
   "source": [
    "#### I didn't think about composite or surface samples\n",
    "##### May be we can add it separately in th regression model"
   ]
  },
  {
   "cell_type": "code",
   "execution_count": null,
   "metadata": {},
   "outputs": [],
   "source": []
  },
  {
   "cell_type": "code",
   "execution_count": null,
   "metadata": {},
   "outputs": [],
   "source": []
  }
 ],
 "metadata": {
  "kernelspec": {
   "display_name": "Python 3",
   "language": "python",
   "name": "python3"
  },
  "language_info": {
   "codemirror_mode": {
    "name": "ipython",
    "version": 3
   },
   "file_extension": ".py",
   "mimetype": "text/x-python",
   "name": "python",
   "nbconvert_exporter": "python",
   "pygments_lexer": "ipython3",
   "version": "3.8.5"
  }
 },
 "nbformat": 4,
 "nbformat_minor": 2
}
