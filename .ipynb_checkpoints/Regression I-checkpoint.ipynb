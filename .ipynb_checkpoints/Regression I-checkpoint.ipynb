{
 "cells": [
  {
   "cell_type": "code",
   "execution_count": 12,
   "metadata": {},
   "outputs": [],
   "source": [
    "# Import libraries\n",
    "import pandas as pd\n",
    "import numpy as np\n",
    "import datetime as dt\n",
    "import os"
   ]
  },
  {
   "cell_type": "markdown",
   "metadata": {},
   "source": [
    "Naming convention for dataframes:\n",
    "\n",
    "* sd - Secchi disk depth\n",
    "\n",
    "* t - turbidity\n",
    "\n",
    "* tss - total suspended solids\n",
    "\n",
    "* c - chlorophyll\n",
    "\n",
    "* tcc - total cell count\n",
    "\n",
    "* tb - total biovolume\n",
    "\n",
    "* ccc - cyano cell count\n",
    "\n",
    "* cb - cyano biovolume"
   ]
  },
  {
   "cell_type": "code",
   "execution_count": 35,
   "metadata": {},
   "outputs": [],
   "source": [
    "# Locate folder with csv for each variable\n",
    "data_folder = \"../../data/processed/regression/\"\n",
    "files = os.listdir(data_folder)"
   ]
  },
  {
   "cell_type": "code",
   "execution_count": 37,
   "metadata": {},
   "outputs": [
    {
     "data": {
      "text/plain": [
       "['chlorophyll_final.csv',\n",
       " 'cyano_biovolume_final.csv',\n",
       " 'cyano_cell_count_final.csv',\n",
       " 'secchi_depth_final.csv',\n",
       " 'total_biovolume_final.csv',\n",
       " 'total_cell_count_final.csv',\n",
       " 'total_suspended_solids_final.csv',\n",
       " 'turbidity_final.csv',\n",
       " 'tweets_daily_final.csv']"
      ]
     },
     "execution_count": 37,
     "metadata": {},
     "output_type": "execute_result"
    }
   ],
   "source": [
    "# Check CSV files\n",
    "files"
   ]
  },
  {
   "cell_type": "code",
   "execution_count": 40,
   "metadata": {},
   "outputs": [],
   "source": [
    "# Create a dictionary to hold all the dataframes\n",
    "df = {}\n",
    "\n",
    "# Name of dataframe indices - align with the order of files\n",
    "names = [\"c\", \"cb\", \"ccc\", \"sd\", \"tb\", \"tcc\", \"tss\", \"t\", \"tweets\"]"
   ]
  },
  {
   "cell_type": "code",
   "execution_count": null,
   "metadata": {},
   "outputs": [],
   "source": [
    "# Import data\n",
    "for name, file in zip(names, files):\n",
    "        df[name] = pd.read_csv(f'{data_folder}{file}')"
   ]
  },
  {
   "cell_type": "code",
   "execution_count": 70,
   "metadata": {},
   "outputs": [],
   "source": [
    "# Convert date column to datetime object\n",
    "for file in df.keys():\n",
    "    # seaprate if statement for tweets dataframe because its date column has a different name\n",
    "    if file == \"tweets\":\n",
    "        df[file]['time'] = pd.to_datetime(df[file]['time'])\n",
    "    else:\n",
    "        df[file][\"OBJECTID_1\"] = pd.to_datetime(df[file][\"OBJECTID_1\"])\n",
    "    "
   ]
  },
  {
   "cell_type": "code",
   "execution_count": null,
   "metadata": {},
   "outputs": [],
   "source": []
  },
  {
   "cell_type": "code",
   "execution_count": null,
   "metadata": {},
   "outputs": [],
   "source": []
  },
  {
   "cell_type": "code",
   "execution_count": null,
   "metadata": {},
   "outputs": [],
   "source": []
  },
  {
   "cell_type": "code",
   "execution_count": null,
   "metadata": {},
   "outputs": [],
   "source": [
    "# Import explanatory and response variables data\n",
    "tweets = pd.read_csv(\"../../data/processed/regression/tweets_daily_final.csv\")\n",
    "sd = pd.read_csv(\"../../data/processed/regression/secchi_depth_final.csv\")\n",
    "t = pd.read_csv(\"../../data/processed/regression/turbidity_final.csv\")\n",
    "tss = pd.read_csv(\"../../data/processed/regression/total_suspended_solids_final.csv\")\n",
    "c = pd.read_csv(\"../../data/processed/regression/chlorophyll_final.csv\")\n",
    "tcc = pd.read_csv(\"../../data/processed/regression/total_cell_count_final.csv\")\n",
    "tb = pd.read_csv(\"../../data/processed/regression/total_biovolume_final.csv\")\n",
    "ccc = pd.read_csv(\"../../data/processed/regression/cyano_cell_count_final.csv\")\n",
    "cb = pd.read_csv(\"../../data/processed/regression/cyano_biovolume_final.csv\")\n"
   ]
  },
  {
   "cell_type": "code",
   "execution_count": null,
   "metadata": {},
   "outputs": [],
   "source": [
    "# convert date column to datetime object\n",
    "tweets['time'] = pd.to_datetime(tweets['time'])\n",
    "sd['OBJECTID_1'] = pd.to_datetime(sd['OBJECTID_1'])\n",
    "t['OBJECTID_1'] = pd.to_datetime(t['OBJECTID_1'])\n",
    "tss['OBJECTID_1'] = pd.to_datetime(tss['OBJECTID_1'])\n",
    "c['OBJECTID_1'] = pd.to_datetime(c['OBJECTID_1'])\n",
    "tcc['OBJECTID_1'] = pd.to_datetime(tcc['OBJECTID_1'])\n",
    "tb['OBJECTID_1'] = pd.to_datetime(tb['OBJECTID_1'])\n",
    "ccc['OBJECTID_1'] = pd.to_datetime(ccc['OBJECTID_1'])\n",
    "cb['OBJECTID_1'] = pd.to_datetime(cb['OBJECTID_1'])"
   ]
  },
  {
   "cell_type": "code",
   "execution_count": null,
   "metadata": {},
   "outputs": [],
   "source": [
    "# Import explanatory variables\n",
    "sd = pd.read_csv(\"../../data/processed/regression/secchi_depth_final.csv\")\n"
   ]
  },
  {
   "cell_type": "code",
   "execution_count": 9,
   "metadata": {},
   "outputs": [],
   "source": [
    "def process_dataframe(df_name):\n",
    "    #df_name = lis[0]\n",
    "    df_name = pd.read_csv(\"../../data/processed/regression/tweets_daily_final.csv\")\n",
    "    return df_name.head()"
   ]
  },
  {
   "cell_type": "code",
   "execution_count": null,
   "metadata": {},
   "outputs": [],
   "source": []
  },
  {
   "cell_type": "code",
   "execution_count": 11,
   "metadata": {},
   "outputs": [
    {
     "ename": "NameError",
     "evalue": "name 'pd' is not defined",
     "output_type": "error",
     "traceback": [
      "\u001b[1;31m---------------------------------------------------------------------------\u001b[0m",
      "\u001b[1;31mNameError\u001b[0m                                 Traceback (most recent call last)",
      "\u001b[1;32m<ipython-input-11-c3402ee7f894>\u001b[0m in \u001b[0;36m<module>\u001b[1;34m\u001b[0m\n\u001b[1;32m----> 1\u001b[1;33m \u001b[0mprocess_dataframe\u001b[0m\u001b[1;33m(\u001b[0m\u001b[1;34m\"sd\"\u001b[0m\u001b[1;33m)\u001b[0m\u001b[1;33m\u001b[0m\u001b[1;33m\u001b[0m\u001b[0m\n\u001b[0m",
      "\u001b[1;32m<ipython-input-9-892fdac7d470>\u001b[0m in \u001b[0;36mprocess_dataframe\u001b[1;34m(df_name)\u001b[0m\n\u001b[0;32m      1\u001b[0m \u001b[1;32mdef\u001b[0m \u001b[0mprocess_dataframe\u001b[0m\u001b[1;33m(\u001b[0m\u001b[0mdf_name\u001b[0m\u001b[1;33m)\u001b[0m\u001b[1;33m:\u001b[0m\u001b[1;33m\u001b[0m\u001b[1;33m\u001b[0m\u001b[0m\n\u001b[0;32m      2\u001b[0m     \u001b[1;31m#df_name = lis[0]\u001b[0m\u001b[1;33m\u001b[0m\u001b[1;33m\u001b[0m\u001b[1;33m\u001b[0m\u001b[0m\n\u001b[1;32m----> 3\u001b[1;33m     \u001b[0mdf_name\u001b[0m \u001b[1;33m=\u001b[0m \u001b[0mpd\u001b[0m\u001b[1;33m.\u001b[0m\u001b[0mread_csv\u001b[0m\u001b[1;33m(\u001b[0m\u001b[1;34m\"../../data/processed/regression/tweets_daily_final.csv\"\u001b[0m\u001b[1;33m)\u001b[0m\u001b[1;33m\u001b[0m\u001b[1;33m\u001b[0m\u001b[0m\n\u001b[0m\u001b[0;32m      4\u001b[0m     \u001b[1;32mreturn\u001b[0m \u001b[0mdf_name\u001b[0m\u001b[1;33m.\u001b[0m\u001b[0mhead\u001b[0m\u001b[1;33m(\u001b[0m\u001b[1;33m)\u001b[0m\u001b[1;33m\u001b[0m\u001b[1;33m\u001b[0m\u001b[0m\n",
      "\u001b[1;31mNameError\u001b[0m: name 'pd' is not defined"
     ]
    }
   ],
   "source": [
    "process_dataframe(\"sd\")"
   ]
  },
  {
   "cell_type": "code",
   "execution_count": 2,
   "metadata": {},
   "outputs": [],
   "source": [
    "lis = [\"sd\"]"
   ]
  },
  {
   "cell_type": "code",
   "execution_count": 3,
   "metadata": {},
   "outputs": [
    {
     "data": {
      "text/plain": [
       "'sd'"
      ]
     },
     "execution_count": 3,
     "metadata": {},
     "output_type": "execute_result"
    }
   ],
   "source": [
    "lis[0]"
   ]
  },
  {
   "cell_type": "code",
   "execution_count": null,
   "metadata": {},
   "outputs": [],
   "source": []
  },
  {
   "cell_type": "code",
   "execution_count": null,
   "metadata": {},
   "outputs": [],
   "source": []
  },
  {
   "cell_type": "code",
   "execution_count": null,
   "metadata": {},
   "outputs": [],
   "source": []
  },
  {
   "cell_type": "code",
   "execution_count": null,
   "metadata": {},
   "outputs": [],
   "source": []
  },
  {
   "cell_type": "code",
   "execution_count": null,
   "metadata": {},
   "outputs": [],
   "source": [
    "sd['OBJECTID_1'] = pd.to_datetime(sd['OBJECTID_1'])"
   ]
  },
  {
   "cell_type": "code",
   "execution_count": null,
   "metadata": {},
   "outputs": [],
   "source": [
    "sd['OBJECTID_1'][0] "
   ]
  },
  {
   "cell_type": "code",
   "execution_count": null,
   "metadata": {},
   "outputs": [],
   "source": [
    "idx = tweets['time'].eq(sd['OBJECTID_1'][0]).idxmax()\n",
    "res = tweets.iloc[idx-3: idx+1]\n",
    "\n",
    "print(res)"
   ]
  },
  {
   "cell_type": "code",
   "execution_count": null,
   "metadata": {},
   "outputs": [],
   "source": [
    "# create new columns to store tweet counts data\n",
    "\n",
    "sd[index, 'tweets_neg_3_both'] = np.nan\n",
    "sd[index, 'tweets_pos_3_both'] = np.nan\n",
    "sd[index, 'tweets_wq_3_both']  = np.nan \n",
    "\n",
    "sd[index, 'tweets_neg_3_before'] = np.nan\n",
    "sd[index, 'tweets_pos_3_before'] = np.nan\n",
    "sd[index, 'tweets_wq_3_before']  = np.nan \n",
    "\n",
    "sd[index, 'tweets_neg_3_after'] = np.nan\n",
    "sd[index, 'tweets_pos_3_after'] = np.nan\n",
    "sd[index, 'tweets_wq_3_after']  = np.nan\n",
    "\n",
    "\n",
    "sd[index, 'tweets_neg_7_both'] = np.nan\n",
    "sd[index, 'tweets_pos_7_both'] = np.nan\n",
    "sd[index, 'tweets_wq_7_both']  = np.nan\n",
    "\n",
    "sd.loc[index, 'tweets_neg_7_before'] = np.nan\n",
    "sd.loc[index, 'tweets_pos_7_before'] = np.nan\n",
    "sd.loc[index, 'tweets_wq_7_before']  = np.nan\n",
    "\n",
    "sd.loc[index, 'tweets_neg_7_after'] = np.nan\n",
    "sd.loc[index, 'tweets_pos_7_after'] = np.nan\n",
    "sd.loc[index, 'tweets_wq_7_after']  = np.nan\n",
    "\n",
    "\n",
    "# Iterate over each row in wq variable\n",
    "for index, row in sd.iterrows():\n",
    "    \n",
    "    # get dates for which we have water quality measurements\n",
    "    date_wq = row['OBJECTID_1']\n",
    "    \n",
    "    # get index of the row with same date in the tweets data\n",
    "    tweets_index = tweets['time'].eq(date_wq).idxmax()\n",
    "    \n",
    "    # get tweets info from 3 & 7 days before and after the date on which water quality was measured\n",
    "    tweets_result_3_both = tweets.iloc[tweets_index-3: tweets_index+4]\n",
    "    tweets_result_3_before = tweets.iloc[tweets_index-3: tweets_index+1]\n",
    "    tweets_result_3_after = tweets.iloc[tweets_index: tweets_index+4]\n",
    "    \n",
    "    tweets_result_7_both = tweets.iloc[tweets_index-7: tweets_index+8]\n",
    "    tweets_result_7_before = tweets.iloc[tweets_index-7: tweets_index+1]\n",
    "    tweets_result_7_after = tweets.iloc[tweets_index: tweets_index+8]\n",
    "    \n",
    "    # assign the sum of negative tweets\n",
    "    sd.loc[index, 'tweets_neg_3_both'] = tweets_result_3_both['neg'].sum() \n",
    "    sd.loc[index, 'tweets_pos_3_both'] = tweets_result_3_both['pos'].sum()\n",
    "    sd.loc[index, 'tweets_wq_3_both'] = tweets_result_3_both['water quality?'].sum()\n",
    "    \n",
    "    sd.loc[index, 'tweets_neg_3_before'] = tweets_result_3_before['neg'].sum() \n",
    "    sd.loc[index, 'tweets_pos_3_before'] = tweets_result_3_before['pos'].sum()\n",
    "    sd.loc[index, 'tweets_wq_3_before'] = tweets_result_3_before['water quality?'].sum()\n",
    "    \n",
    "    sd.loc[index, 'tweets_neg_3_after'] = tweets_result_3_after['neg'].sum() \n",
    "    sd.loc[index, 'tweets_pos_3_after'] = tweets_result_3_after['pos'].sum()\n",
    "    sd.loc[index, 'tweets_wq_3_after'] = tweets_result_3_after['water quality?'].sum()\n",
    "    \n",
    "    sd.loc[index, 'tweets_neg_7_both'] = tweets_result_7_both['neg'].sum() \n",
    "    sd.loc[index, 'tweets_pos_7_both'] = tweets_result_7_both['pos'].sum()\n",
    "    sd.loc[index, 'tweets_wq_7_both'] = tweets_result_7_both['water quality?'].sum()\n",
    "    \n",
    "    sd.loc[index, 'tweets_neg_7_before'] = tweets_result_7_before['neg'].sum() \n",
    "    sd.loc[index, 'tweets_pos_7_before'] = tweets_result_7_before['pos'].sum()\n",
    "    sd.loc[index, 'tweets_wq_7_before'] = tweets_result_7_before['water quality?'].sum()\n",
    "    \n",
    "    sd.loc[index, 'tweets_neg_7_after'] = tweets_result_7_after['neg'].sum() \n",
    "    sd.loc[index, 'tweets_pos_7_after'] = tweets_result_7_after['pos'].sum()\n",
    "    sd.loc[index, 'tweets_wq_7_after'] = tweets_result_7_after['water quality?'].sum()\n",
    "    \n",
    "    \n",
    "#     print(date_wq)\n",
    "#     print(tweets_result)"
   ]
  },
  {
   "cell_type": "code",
   "execution_count": null,
   "metadata": {},
   "outputs": [],
   "source": [
    "sd.head(50)"
   ]
  },
  {
   "cell_type": "code",
   "execution_count": null,
   "metadata": {},
   "outputs": [],
   "source": []
  }
 ],
 "metadata": {
  "kernelspec": {
   "display_name": "Python 3",
   "language": "python",
   "name": "python3"
  },
  "language_info": {
   "codemirror_mode": {
    "name": "ipython",
    "version": 3
   },
   "file_extension": ".py",
   "mimetype": "text/x-python",
   "name": "python",
   "nbconvert_exporter": "python",
   "pygments_lexer": "ipython3",
   "version": "3.7.4"
  }
 },
 "nbformat": 4,
 "nbformat_minor": 2
}
