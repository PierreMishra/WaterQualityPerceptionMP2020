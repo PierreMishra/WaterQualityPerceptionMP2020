{
 "cells": [
  {
   "cell_type": "code",
   "execution_count": 1,
   "metadata": {},
   "outputs": [],
   "source": [
    "# Import libraries\n",
    "import pandas as pd\n",
    "import numpy as np\n",
    "import datetime as dt"
   ]
  },
  {
   "cell_type": "code",
   "execution_count": 15,
   "metadata": {},
   "outputs": [],
   "source": [
    "# Import pre-interpolated data and post-interpolated data\n",
    "pre = pd.read_csv(\"../../data/processed/secchi_depth.csv\")\n",
    "post = pd.read_excel(\"../../data/processed/Secchi_merge.xlsx\")"
   ]
  },
  {
   "cell_type": "code",
   "execution_count": 16,
   "metadata": {},
   "outputs": [],
   "source": [
    "# assign explanatory variables in a list for easy use later"
   ]
  },
  {
   "cell_type": "markdown",
   "metadata": {},
   "source": [
    "# Secchi depth"
   ]
  },
  {
   "cell_type": "code",
   "execution_count": 17,
   "metadata": {},
   "outputs": [
    {
     "data": {
      "text/html": [
       "<div>\n",
       "<style scoped>\n",
       "    .dataframe tbody tr th:only-of-type {\n",
       "        vertical-align: middle;\n",
       "    }\n",
       "\n",
       "    .dataframe tbody tr th {\n",
       "        vertical-align: top;\n",
       "    }\n",
       "\n",
       "    .dataframe thead th {\n",
       "        text-align: right;\n",
       "    }\n",
       "</style>\n",
       "<table border=\"1\" class=\"dataframe\">\n",
       "  <thead>\n",
       "    <tr style=\"text-align: right;\">\n",
       "      <th></th>\n",
       "      <th>mlid</th>\n",
       "      <th>location</th>\n",
       "      <th>datetime</th>\n",
       "      <th>lat</th>\n",
       "      <th>long</th>\n",
       "      <th>secchi_depth_meters</th>\n",
       "    </tr>\n",
       "  </thead>\n",
       "  <tbody>\n",
       "    <tr>\n",
       "      <td>0</td>\n",
       "      <td>USGS-401327111462601</td>\n",
       "      <td>UTAH LAKE HAB STUDY SITE 3</td>\n",
       "      <td>20160810</td>\n",
       "      <td>40.224119</td>\n",
       "      <td>-111.773939</td>\n",
       "      <td>NaN</td>\n",
       "    </tr>\n",
       "    <tr>\n",
       "      <td>1</td>\n",
       "      <td>USGS-401432111454301</td>\n",
       "      <td>UTAH LAKE HAB STUDY SITE 4</td>\n",
       "      <td>20160810</td>\n",
       "      <td>40.242311</td>\n",
       "      <td>-111.761811</td>\n",
       "      <td>NaN</td>\n",
       "    </tr>\n",
       "    <tr>\n",
       "      <td>2</td>\n",
       "      <td>USGS-401613111463301</td>\n",
       "      <td>UTAH LAKE HAB STUDY SITE 1</td>\n",
       "      <td>20160810</td>\n",
       "      <td>40.270319</td>\n",
       "      <td>-111.775881</td>\n",
       "      <td>NaN</td>\n",
       "    </tr>\n",
       "    <tr>\n",
       "      <td>3</td>\n",
       "      <td>USGS-401658111491601</td>\n",
       "      <td>UTAH LAKE HAB STUDY SITE 2</td>\n",
       "      <td>20160810</td>\n",
       "      <td>40.282700</td>\n",
       "      <td>-111.821200</td>\n",
       "      <td>NaN</td>\n",
       "    </tr>\n",
       "    <tr>\n",
       "      <td>4</td>\n",
       "      <td>UTAHDWQ_WQX-4917305</td>\n",
       "      <td>Utah Lake at American Fork Marina near boat ramp</td>\n",
       "      <td>20160926</td>\n",
       "      <td>40.342380</td>\n",
       "      <td>-111.800839</td>\n",
       "      <td>NaN</td>\n",
       "    </tr>\n",
       "  </tbody>\n",
       "</table>\n",
       "</div>"
      ],
      "text/plain": [
       "                   mlid                                          location  \\\n",
       "0  USGS-401327111462601                        UTAH LAKE HAB STUDY SITE 3   \n",
       "1  USGS-401432111454301                        UTAH LAKE HAB STUDY SITE 4   \n",
       "2  USGS-401613111463301                        UTAH LAKE HAB STUDY SITE 1   \n",
       "3  USGS-401658111491601                        UTAH LAKE HAB STUDY SITE 2   \n",
       "4   UTAHDWQ_WQX-4917305  Utah Lake at American Fork Marina near boat ramp   \n",
       "\n",
       "   datetime        lat        long  secchi_depth_meters  \n",
       "0  20160810  40.224119 -111.773939                  NaN  \n",
       "1  20160810  40.242311 -111.761811                  NaN  \n",
       "2  20160810  40.270319 -111.775881                  NaN  \n",
       "3  20160810  40.282700 -111.821200                  NaN  \n",
       "4  20160926  40.342380 -111.800839                  NaN  "
      ]
     },
     "execution_count": 17,
     "metadata": {},
     "output_type": "execute_result"
    }
   ],
   "source": [
    "pre.head()"
   ]
  },
  {
   "cell_type": "code",
   "execution_count": 18,
   "metadata": {},
   "outputs": [
    {
     "data": {
      "text/html": [
       "<div>\n",
       "<style scoped>\n",
       "    .dataframe tbody tr th:only-of-type {\n",
       "        vertical-align: middle;\n",
       "    }\n",
       "\n",
       "    .dataframe tbody tr th {\n",
       "        vertical-align: top;\n",
       "    }\n",
       "\n",
       "    .dataframe thead th {\n",
       "        text-align: right;\n",
       "    }\n",
       "</style>\n",
       "<table border=\"1\" class=\"dataframe\">\n",
       "  <thead>\n",
       "    <tr style=\"text-align: right;\">\n",
       "      <th></th>\n",
       "      <th>OID</th>\n",
       "      <th>OBJECTID_1</th>\n",
       "      <th>COUNT</th>\n",
       "      <th>AREA</th>\n",
       "      <th>MEAN</th>\n",
       "      <th>STD</th>\n",
       "      <th>SUM</th>\n",
       "      <th>X25.</th>\n",
       "      <th>X50.</th>\n",
       "      <th>X75.</th>\n",
       "    </tr>\n",
       "  </thead>\n",
       "  <tbody>\n",
       "    <tr>\n",
       "      <td>0</td>\n",
       "      <td>0</td>\n",
       "      <td>20160420</td>\n",
       "      <td>27254</td>\n",
       "      <td>0.036135</td>\n",
       "      <td>0.326584</td>\n",
       "      <td>0.065224</td>\n",
       "      <td>8900.717586</td>\n",
       "      <td>0.292608</td>\n",
       "      <td>0.326837</td>\n",
       "      <td>0.379791</td>\n",
       "    </tr>\n",
       "    <tr>\n",
       "      <td>1</td>\n",
       "      <td>1</td>\n",
       "      <td>20160525</td>\n",
       "      <td>27254</td>\n",
       "      <td>0.036135</td>\n",
       "      <td>0.200000</td>\n",
       "      <td>0.000000</td>\n",
       "      <td>5450.800081</td>\n",
       "      <td>0.200000</td>\n",
       "      <td>0.200000</td>\n",
       "      <td>0.200000</td>\n",
       "    </tr>\n",
       "    <tr>\n",
       "      <td>2</td>\n",
       "      <td>2</td>\n",
       "      <td>20160630</td>\n",
       "      <td>27254</td>\n",
       "      <td>0.036135</td>\n",
       "      <td>0.200000</td>\n",
       "      <td>0.000000</td>\n",
       "      <td>5450.800081</td>\n",
       "      <td>0.200000</td>\n",
       "      <td>0.200000</td>\n",
       "      <td>0.200000</td>\n",
       "    </tr>\n",
       "    <tr>\n",
       "      <td>3</td>\n",
       "      <td>3</td>\n",
       "      <td>20170510</td>\n",
       "      <td>27254</td>\n",
       "      <td>0.036135</td>\n",
       "      <td>0.266793</td>\n",
       "      <td>0.010521</td>\n",
       "      <td>7271.177156</td>\n",
       "      <td>0.256585</td>\n",
       "      <td>0.267754</td>\n",
       "      <td>0.272464</td>\n",
       "    </tr>\n",
       "    <tr>\n",
       "      <td>4</td>\n",
       "      <td>4</td>\n",
       "      <td>20170511</td>\n",
       "      <td>27254</td>\n",
       "      <td>0.036135</td>\n",
       "      <td>0.271572</td>\n",
       "      <td>0.011862</td>\n",
       "      <td>7401.413938</td>\n",
       "      <td>0.265434</td>\n",
       "      <td>0.269956</td>\n",
       "      <td>0.278423</td>\n",
       "    </tr>\n",
       "  </tbody>\n",
       "</table>\n",
       "</div>"
      ],
      "text/plain": [
       "   OID  OBJECTID_1  COUNT      AREA      MEAN       STD          SUM  \\\n",
       "0    0    20160420  27254  0.036135  0.326584  0.065224  8900.717586   \n",
       "1    1    20160525  27254  0.036135  0.200000  0.000000  5450.800081   \n",
       "2    2    20160630  27254  0.036135  0.200000  0.000000  5450.800081   \n",
       "3    3    20170510  27254  0.036135  0.266793  0.010521  7271.177156   \n",
       "4    4    20170511  27254  0.036135  0.271572  0.011862  7401.413938   \n",
       "\n",
       "       X25.      X50.      X75.  \n",
       "0  0.292608  0.326837  0.379791  \n",
       "1  0.200000  0.200000  0.200000  \n",
       "2  0.200000  0.200000  0.200000  \n",
       "3  0.256585  0.267754  0.272464  \n",
       "4  0.265434  0.269956  0.278423  "
      ]
     },
     "execution_count": 18,
     "metadata": {},
     "output_type": "execute_result"
    }
   ],
   "source": [
    "post.head()"
   ]
  },
  {
   "cell_type": "code",
   "execution_count": 23,
   "metadata": {},
   "outputs": [],
   "source": [
    "# Drop rows with NA values for water quality parameters\n",
    "pre = pre.dropna(subset=['secchi_depth_meters'])"
   ]
  },
  {
   "cell_type": "code",
   "execution_count": 36,
   "metadata": {},
   "outputs": [
    {
     "data": {
      "text/plain": [
       "(230, 6)"
      ]
     },
     "execution_count": 36,
     "metadata": {},
     "output_type": "execute_result"
    }
   ],
   "source": [
    "pre.shape"
   ]
  },
  {
   "cell_type": "code",
   "execution_count": 24,
   "metadata": {},
   "outputs": [
    {
     "data": {
      "text/plain": [
       "38"
      ]
     },
     "execution_count": 24,
     "metadata": {},
     "output_type": "execute_result"
    }
   ],
   "source": [
    "pre.datetime.nunique()"
   ]
  },
  {
   "cell_type": "code",
   "execution_count": 14,
   "metadata": {},
   "outputs": [
    {
     "data": {
      "text/plain": [
       "33"
      ]
     },
     "execution_count": 14,
     "metadata": {},
     "output_type": "execute_result"
    }
   ],
   "source": [
    "post.OBJECTID_1.nunique()"
   ]
  },
  {
   "cell_type": "code",
   "execution_count": 41,
   "metadata": {},
   "outputs": [
    {
     "data": {
      "text/html": [
       "<div>\n",
       "<style scoped>\n",
       "    .dataframe tbody tr th:only-of-type {\n",
       "        vertical-align: middle;\n",
       "    }\n",
       "\n",
       "    .dataframe tbody tr th {\n",
       "        vertical-align: top;\n",
       "    }\n",
       "\n",
       "    .dataframe thead th {\n",
       "        text-align: right;\n",
       "    }\n",
       "</style>\n",
       "<table border=\"1\" class=\"dataframe\">\n",
       "  <thead>\n",
       "    <tr style=\"text-align: right;\">\n",
       "      <th></th>\n",
       "      <th>mlid</th>\n",
       "      <th>location</th>\n",
       "      <th>datetime</th>\n",
       "      <th>lat</th>\n",
       "      <th>long</th>\n",
       "      <th>secchi_depth_meters</th>\n",
       "    </tr>\n",
       "  </thead>\n",
       "  <tbody>\n",
       "    <tr>\n",
       "      <td>257</td>\n",
       "      <td>UTAHDWQ_WQX-4917450</td>\n",
       "      <td>UTAH LAKE AT MIDDLE OF PROVO BAY</td>\n",
       "      <td>20170918</td>\n",
       "      <td>40.189139</td>\n",
       "      <td>-111.699931</td>\n",
       "      <td>0.20</td>\n",
       "    </tr>\n",
       "    <tr>\n",
       "      <td>258</td>\n",
       "      <td>UTAHDWQ_WQX-4917450</td>\n",
       "      <td>UTAH LAKE AT MIDDLE OF PROVO BAY</td>\n",
       "      <td>20171010</td>\n",
       "      <td>40.189139</td>\n",
       "      <td>-111.699931</td>\n",
       "      <td>0.38</td>\n",
       "    </tr>\n",
       "    <tr>\n",
       "      <td>260</td>\n",
       "      <td>UTAHDWQ_WQX-4917450</td>\n",
       "      <td>UTAH LAKE AT MIDDLE OF PROVO BAY</td>\n",
       "      <td>20180517</td>\n",
       "      <td>40.189139</td>\n",
       "      <td>-111.699931</td>\n",
       "      <td>0.25</td>\n",
       "    </tr>\n",
       "    <tr>\n",
       "      <td>261</td>\n",
       "      <td>UTAHDWQ_WQX-4917450</td>\n",
       "      <td>UTAH LAKE AT MIDDLE OF PROVO BAY</td>\n",
       "      <td>20180611</td>\n",
       "      <td>40.189139</td>\n",
       "      <td>-111.699931</td>\n",
       "      <td>0.10</td>\n",
       "    </tr>\n",
       "    <tr>\n",
       "      <td>324</td>\n",
       "      <td>UTAHDWQ_WQX-4917600</td>\n",
       "      <td>UTAH LAKE GOSHEN BAY SOUTHWEST END</td>\n",
       "      <td>20171017</td>\n",
       "      <td>40.060235</td>\n",
       "      <td>-111.874384</td>\n",
       "      <td>0.20</td>\n",
       "    </tr>\n",
       "  </tbody>\n",
       "</table>\n",
       "</div>"
      ],
      "text/plain": [
       "                    mlid                            location  datetime  \\\n",
       "257  UTAHDWQ_WQX-4917450    UTAH LAKE AT MIDDLE OF PROVO BAY  20170918   \n",
       "258  UTAHDWQ_WQX-4917450    UTAH LAKE AT MIDDLE OF PROVO BAY  20171010   \n",
       "260  UTAHDWQ_WQX-4917450    UTAH LAKE AT MIDDLE OF PROVO BAY  20180517   \n",
       "261  UTAHDWQ_WQX-4917450    UTAH LAKE AT MIDDLE OF PROVO BAY  20180611   \n",
       "324  UTAHDWQ_WQX-4917600  UTAH LAKE GOSHEN BAY SOUTHWEST END  20171017   \n",
       "\n",
       "           lat        long  secchi_depth_meters  \n",
       "257  40.189139 -111.699931                 0.20  \n",
       "258  40.189139 -111.699931                 0.38  \n",
       "260  40.189139 -111.699931                 0.25  \n",
       "261  40.189139 -111.699931                 0.10  \n",
       "324  40.060235 -111.874384                 0.20  "
      ]
     },
     "execution_count": 41,
     "metadata": {},
     "output_type": "execute_result"
    }
   ],
   "source": [
    "# Dates for which spatial interpolation is not needed because there is only 1 value\n",
    "# good answer https://stackoverflow.com/questions/19960077/how-to-filter-pandas-dataframe-using-in-and-not-in-like-in-sql\n",
    "single = pre[~pre.datetime.isin(post.OBJECTID_1)]\n",
    "single.head()"
   ]
  },
  {
   "cell_type": "code",
   "execution_count": 81,
   "metadata": {},
   "outputs": [
    {
     "name": "stdout",
     "output_type": "stream",
     "text": [
      "[['n', 20171017, '', '', 0.2, '', 0.2, 0.2, 0.2, 0.2]]\n",
      "[['n', 20171017, '', '', 0.2, '', 0.2, 0.2, 0.2, 0.2]]\n",
      "[['n', 20171017, '', '', 0.2, '', 0.2, 0.2, 0.2, 0.2]]\n",
      "[['n', 20171017, '', '', 0.2, '', 0.2, 0.2, 0.2, 0.2]]\n",
      "[['n', 20171017, '', '', 0.2, '', 0.2, 0.2, 0.2, 0.2]]\n"
     ]
    }
   ],
   "source": [
    "# Append rows that were not used in interpolation\n",
    "for index, row in single.iterrows():\n",
    "    new_row = [[\"n\", row.datetime, \"\", \"\", row[-1], \"\", row[-1], row[-1], \n",
    "                row[-1], row[-1]]]\n",
    "    df = pd.DataFrame(new_row,columns=['OID','OBJECTID_1','COUNT','AREA','MEAN','STD','SUM','X25.','X50.','X75.'])\n",
    "    post = post.append(df,ignore_index=True)\n",
    "    print (a)"
   ]
  },
  {
   "cell_type": "code",
   "execution_count": 82,
   "metadata": {},
   "outputs": [
    {
     "data": {
      "text/html": [
       "<div>\n",
       "<style scoped>\n",
       "    .dataframe tbody tr th:only-of-type {\n",
       "        vertical-align: middle;\n",
       "    }\n",
       "\n",
       "    .dataframe tbody tr th {\n",
       "        vertical-align: top;\n",
       "    }\n",
       "\n",
       "    .dataframe thead th {\n",
       "        text-align: right;\n",
       "    }\n",
       "</style>\n",
       "<table border=\"1\" class=\"dataframe\">\n",
       "  <thead>\n",
       "    <tr style=\"text-align: right;\">\n",
       "      <th></th>\n",
       "      <th>OID</th>\n",
       "      <th>OBJECTID_1</th>\n",
       "      <th>COUNT</th>\n",
       "      <th>AREA</th>\n",
       "      <th>MEAN</th>\n",
       "      <th>STD</th>\n",
       "      <th>SUM</th>\n",
       "      <th>X25.</th>\n",
       "      <th>X50.</th>\n",
       "      <th>X75.</th>\n",
       "    </tr>\n",
       "  </thead>\n",
       "  <tbody>\n",
       "    <tr>\n",
       "      <td>33</td>\n",
       "      <td>n</td>\n",
       "      <td>20170918</td>\n",
       "      <td></td>\n",
       "      <td></td>\n",
       "      <td>0.20</td>\n",
       "      <td></td>\n",
       "      <td>0.20</td>\n",
       "      <td>0.20</td>\n",
       "      <td>0.20</td>\n",
       "      <td>0.20</td>\n",
       "    </tr>\n",
       "    <tr>\n",
       "      <td>34</td>\n",
       "      <td>n</td>\n",
       "      <td>20171010</td>\n",
       "      <td></td>\n",
       "      <td></td>\n",
       "      <td>0.38</td>\n",
       "      <td></td>\n",
       "      <td>0.38</td>\n",
       "      <td>0.38</td>\n",
       "      <td>0.38</td>\n",
       "      <td>0.38</td>\n",
       "    </tr>\n",
       "    <tr>\n",
       "      <td>35</td>\n",
       "      <td>n</td>\n",
       "      <td>20180517</td>\n",
       "      <td></td>\n",
       "      <td></td>\n",
       "      <td>0.25</td>\n",
       "      <td></td>\n",
       "      <td>0.25</td>\n",
       "      <td>0.25</td>\n",
       "      <td>0.25</td>\n",
       "      <td>0.25</td>\n",
       "    </tr>\n",
       "    <tr>\n",
       "      <td>36</td>\n",
       "      <td>n</td>\n",
       "      <td>20180611</td>\n",
       "      <td></td>\n",
       "      <td></td>\n",
       "      <td>0.10</td>\n",
       "      <td></td>\n",
       "      <td>0.10</td>\n",
       "      <td>0.10</td>\n",
       "      <td>0.10</td>\n",
       "      <td>0.10</td>\n",
       "    </tr>\n",
       "    <tr>\n",
       "      <td>37</td>\n",
       "      <td>n</td>\n",
       "      <td>20171017</td>\n",
       "      <td></td>\n",
       "      <td></td>\n",
       "      <td>0.20</td>\n",
       "      <td></td>\n",
       "      <td>0.20</td>\n",
       "      <td>0.20</td>\n",
       "      <td>0.20</td>\n",
       "      <td>0.20</td>\n",
       "    </tr>\n",
       "  </tbody>\n",
       "</table>\n",
       "</div>"
      ],
      "text/plain": [
       "   OID  OBJECTID_1 COUNT AREA  MEAN STD   SUM  X25.  X50.  X75.\n",
       "33   n    20170918             0.20      0.20  0.20  0.20  0.20\n",
       "34   n    20171010             0.38      0.38  0.38  0.38  0.38\n",
       "35   n    20180517             0.25      0.25  0.25  0.25  0.25\n",
       "36   n    20180611             0.10      0.10  0.10  0.10  0.10\n",
       "37   n    20171017             0.20      0.20  0.20  0.20  0.20"
      ]
     },
     "execution_count": 82,
     "metadata": {},
     "output_type": "execute_result"
    }
   ],
   "source": [
    "post.tail(10)"
   ]
  },
  {
   "cell_type": "code",
   "execution_count": null,
   "metadata": {},
   "outputs": [],
   "source": []
  }
 ],
 "metadata": {
  "kernelspec": {
   "display_name": "Python 3",
   "language": "python",
   "name": "python3"
  },
  "language_info": {
   "codemirror_mode": {
    "name": "ipython",
    "version": 3
   },
   "file_extension": ".py",
   "mimetype": "text/x-python",
   "name": "python",
   "nbconvert_exporter": "python",
   "pygments_lexer": "ipython3",
   "version": "3.7.4"
  }
 },
 "nbformat": 4,
 "nbformat_minor": 2
}
