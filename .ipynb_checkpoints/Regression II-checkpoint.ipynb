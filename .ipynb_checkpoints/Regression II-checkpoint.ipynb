{
 "cells": [
  {
   "cell_type": "code",
   "execution_count": null,
   "metadata": {},
   "outputs": [],
   "source": [
    "# useful links\n",
    "# Betsy - https://stats.idre.ucla.edu/stata/seminars/regression-models-with-count-data/\n",
    "# https://stats.idre.ucla.edu/r/dae/zinb/\n",
    "# https://stats.idre.ucla.edu/stata/output/zero-inflated-negative-binomial-regression/\n",
    "# https://towardsdatascience.com/an-illustrated-guide-to-the-zero-inflated-poisson-model-b22833343057\n",
    "# https://towardsdatascience.com/negative-binomial-regression-f99031bb25b4\n",
    "\n",
    "#https://ipywidgets.readthedocs.io/en/stable/examples/Using%20Interact.html"
   ]
  },
  {
   "cell_type": "code",
   "execution_count": 59,
   "metadata": {},
   "outputs": [],
   "source": [
    "from __future__ import print_function\n",
    "\n",
    "# Import libraries\n",
    "import pandas as pd\n",
    "import numpy as np\n",
    "import datetime as dt\n",
    "import os\n",
    "import matplotlib.pyplot as plt\n",
    "import statsmodels.api as sm\n",
    "import statsmodels.formula.api as smf\n",
    "import scipy.stats\n",
    "from patsy import dmatrices\n",
    "\n",
    "# For interactive widgets\n",
    "from ipywidgets import interact, interactive, fixed, interact_manual\n",
    "import ipywidgets as widgets\n",
    "\n",
    "# turn off top and rigt axis line in matplotlib\n",
    "plt.rcParams[\"axes.spines.right\"] = False\n",
    "plt.rcParams[\"axes.spines.top\"] = False\n",
    "\n",
    "# change font size in matplolib\n",
    "plt.rcParams.update({'font.size': 16})\n",
    "\n",
    "# increasing the deafult DPI to improve resolution\n",
    "#plt.rcParams['figure.dpi']= 50 # for preview\n",
    "plt.rc(\"savefig\", dpi = 300) # for saving"
   ]
  },
  {
   "cell_type": "markdown",
   "metadata": {},
   "source": [
    "Naming convention for dataframes:\n",
    "\n",
    "* sd - Secchi disk depth\n",
    "\n",
    "* t - turbidity\n",
    "\n",
    "* tss - total suspended solids\n",
    "\n",
    "* c - chlorophyll\n",
    "\n",
    "* tcc - total cell count\n",
    "\n",
    "    * tcc_c - total cell count (composite)\n",
    "    \n",
    "    * tcc_s - total cell count (surface)\n",
    "\n",
    "* tb - total biovolume\n",
    "\n",
    "    * tb_c - total biovolume (composite)\n",
    "    \n",
    "    * tb_s - total biovolume (surface)\n",
    "\n",
    "* ccc - cyano cell count\n",
    "\n",
    "    * ccc_c - cyano cell count (composite)\n",
    "    \n",
    "    * ccc_s - cyano cell count (surface)\n",
    "\n",
    "* cb - cyano biovolume\n",
    "\n",
    "    * cb_c - cyano biovolume (composite)\n",
    "    \n",
    "    * cb_s - cyano biovolume (surface)"
   ]
  },
  {
   "cell_type": "code",
   "execution_count": 18,
   "metadata": {},
   "outputs": [],
   "source": [
    "# Locate folder with csv for each variable\n",
    "data_folder = \"../../data/processed/regression/\"\n",
    "files = os.listdir(data_folder)"
   ]
  },
  {
   "cell_type": "code",
   "execution_count": 19,
   "metadata": {},
   "outputs": [
    {
     "data": {
      "text/plain": [
       "['chlorophyll_final.csv',\n",
       " 'cyano_biovolume_composite_final.csv',\n",
       " 'cyano_biovolume_final.csv',\n",
       " 'cyano_biovolume_surface_final.csv',\n",
       " 'cyano_cell_count_composite_final.csv',\n",
       " 'cyano_cell_count_final.csv',\n",
       " 'cyano_cell_count_surface_final.csv',\n",
       " 'secchi_depth_final.csv',\n",
       " 'total_biovolume_composite_final.csv',\n",
       " 'total_biovolume_final.csv',\n",
       " 'total_biovolume_surface_final.csv',\n",
       " 'total_cell_count_composite_final.csv',\n",
       " 'total_cell_count_final.csv',\n",
       " 'total_cell_count_surface_final.csv',\n",
       " 'total_suspended_solids_final.csv',\n",
       " 'turbidity_final.csv',\n",
       " 'tweets_daily_final.csv']"
      ]
     },
     "execution_count": 19,
     "metadata": {},
     "output_type": "execute_result"
    }
   ],
   "source": [
    "# Check CSV files in the folder\n",
    "files"
   ]
  },
  {
   "cell_type": "code",
   "execution_count": 20,
   "metadata": {},
   "outputs": [],
   "source": [
    "# Create a dictionary to hold all the dataframes\n",
    "df = {}\n",
    "\n",
    "# Name of dataframe indices - align with the order of files\n",
    "names = [\"c\", \"cb_c\", \"cb\", \"cb_s\", \"ccc_c\", \"ccc\", \"ccc_s\", \"sd\", \"tb_c\", \n",
    "         \"tb\", \"tb_s\", \"tcc_c\", \"tcc\", \"tcc_s\", \"tss\", \"t\", \"tweets\"]"
   ]
  },
  {
   "cell_type": "code",
   "execution_count": 21,
   "metadata": {},
   "outputs": [],
   "source": [
    "# Import data\n",
    "for name, file in zip(names, files):\n",
    "        df[name] = pd.read_csv(f'{data_folder}{file}')"
   ]
  },
  {
   "cell_type": "code",
   "execution_count": 22,
   "metadata": {},
   "outputs": [],
   "source": [
    "# Convert date column to datetime object\n",
    "for file in df.keys():\n",
    "    # seaprate if statement for tweets dataframe because its date column has a different name\n",
    "    if file == \"tweets\":\n",
    "        df[file]['time'] = pd.to_datetime(df[file]['time'])\n",
    "    else:\n",
    "        df[file][\"OBJECTID_1\"] = pd.to_datetime(df[file][\"OBJECTID_1\"])\n",
    "        df[file].columns = df[file].columns.str.replace(\".\", \"\")\n",
    "    "
   ]
  },
  {
   "cell_type": "code",
   "execution_count": 23,
   "metadata": {},
   "outputs": [],
   "source": [
    "# Merge various tweet count stats with each dataframe\n",
    "\n",
    "for file in df.keys():\n",
    "\n",
    "    # Apply following steps in all the dataframes except the one for tweet counts per day\n",
    "    if file != \"tweets\":\n",
    "    \n",
    "        # create new columns to store tweet counts data\n",
    "\n",
    "        df[file]['tweets_neg_3_both'] = np.nan\n",
    "        df[file]['tweets_neg_3_after'] = np.nan\n",
    "        df[file]['tweets_neg_7_both'] = np.nan\n",
    "        df[file]['tweets_neg_7_after'] = np.nan\n",
    "\n",
    "\n",
    "        # Iterate over each row in wq variable\n",
    "        for index, row in df[file].iterrows():\n",
    "\n",
    "            # get dates for which we have water quality measurements\n",
    "            date_wq = row['OBJECTID_1']\n",
    "\n",
    "            # get index of the row with same date in the tweets data\n",
    "            tweets_index = df[\"tweets\"]['time'].eq(date_wq).idxmax()\n",
    "\n",
    "            # get tweets info from 3 & 7 days before and after the date on which water quality was measured\n",
    "            tweets_result_3_both = df[\"tweets\"].iloc[tweets_index-3: tweets_index+4]\n",
    "            tweets_result_3_after = df[\"tweets\"].iloc[tweets_index: tweets_index+4]\n",
    "\n",
    "            tweets_result_7_both = df[\"tweets\"].iloc[tweets_index-7: tweets_index+8]\n",
    "            tweets_result_7_after = df[\"tweets\"].iloc[tweets_index: tweets_index+8]\n",
    "\n",
    "            # assign the sum of negative tweets\n",
    "            df[file].loc[index, 'tweets_neg_3_both'] = tweets_result_3_both['neg'].sum() \n",
    "            df[file].loc[index, 'tweets_neg_3_after'] = tweets_result_3_after['neg'].sum() \n",
    "            df[file].loc[index, 'tweets_neg_7_both'] = tweets_result_7_both['neg'].sum() \n",
    "            df[file].loc[index, 'tweets_neg_7_after'] = tweets_result_7_after['neg'].sum()"
   ]
  },
  {
   "cell_type": "markdown",
   "metadata": {},
   "source": [
    "# Statistical Analysis"
   ]
  },
  {
   "cell_type": "markdown",
   "metadata": {},
   "source": [
    "Lets create functions to apply similar processes for all of our explanatory water qauality variables"
   ]
  },
  {
   "cell_type": "code",
   "execution_count": 24,
   "metadata": {},
   "outputs": [],
   "source": [
    "# Creat histogram of tweet counts for all water quality variables to see if they are zero-inflated\n",
    "# separate functions for 3 days and 7 days rolling windows\n",
    " \n",
    "# 7 days rolling window\n",
    "def histogram_7days(variable, plot_title):\n",
    "    fig = plt.figure(figsize=(15,12))\n",
    "    i = -1\n",
    "\n",
    "    for num in range(1,10):\n",
    "\n",
    "        ax1 = fig.add_subplot(3,3,num)\n",
    "        ax1.hist(variable.iloc[:,i], color='lightskyblue', linewidth=1, edgecolor=\"white\", bins=40)\n",
    "        ax1.set(xlabel = variable.columns[i], ylabel=f'Number of observations')\n",
    "        i-=1\n",
    "\n",
    "    fig.suptitle(f\"Distribution of total tweets in 7-day rolling window for {plot_title}, n={len(variable)}\")\n",
    "    #fig.tight_layout()\n",
    "    plt.subplots_adjust(hspace=0.5, wspace=0.3)\n",
    "    plt.savefig(f\"../../output/distribution/{plot_title}_7d_histogram.png\", bbox_inches = 'tight')\n",
    "    \n",
    "# 3 days rolling window\n",
    "def histogram_3days(variable, plot_title):\n",
    "    fig = plt.figure(figsize=(15,12))\n",
    "    i = -10\n",
    "\n",
    "    for num in range(1,10):\n",
    "\n",
    "        ax1 = fig.add_subplot(3,3,num)\n",
    "        ax1.hist(variable.iloc[:,i], color='pink', linewidth=1, edgecolor=\"white\", bins=40)\n",
    "        ax1.set(xlabel = variable.columns[i], ylabel=f'Number of observations')\n",
    "        i-=1\n",
    "\n",
    "    fig.suptitle(f\"Distribution of total tweets in 3-day rolling window for {plot_title}, n={len(variable)}\")\n",
    "    #fig.tight_layout()\n",
    "    plt.subplots_adjust(hspace=0.5, wspace=0.3)\n",
    "    plt.savefig(f\"../../output/distribution/{plot_title}_3d_histogram.png\", bbox_inches = 'tight')\n",
    "    \n"
   ]
  },
  {
   "cell_type": "code",
   "execution_count": 25,
   "metadata": {},
   "outputs": [],
   "source": [
    "# Perform poisson regresion\n",
    "def poisson(wq, x, y):\n",
    "    \n",
    "    temp = df[wq]\n",
    "    \n",
    "    # Model formula\n",
    "    formula = f\"{y} ~ {x}\"\n",
    "    \n",
    "    # Use Patsy package to carve out the x and y matrices for the ZIP model \n",
    "    Y, X = dmatrices(formula, temp, return_type='dataframe')\n",
    "    \n",
    "    # Fit the model\n",
    "    model_p = sm.GLM(Y, X, family=sm.families.Poisson()).fit() #Fit the model using maximum likelihood\n",
    "    \n",
    "    return model_p.summary()\n",
    "\n",
    "#-----------------------------------------------------------------------\n",
    "\n",
    "# Perform negative binomial\n",
    "# following poisson results will feed into negative binomial\n",
    "def poisson_for_nb(wq, x, y):\n",
    "    \n",
    "    temp = df[wq]\n",
    "    \n",
    "    # Model formula\n",
    "    formula = f\"{y} ~ {x}\"\n",
    "    \n",
    "    # Use Patsy package to carve out the x and y matrices for the ZIP model \n",
    "    Y, X = dmatrices(formula, temp, return_type='dataframe')\n",
    "    \n",
    "    # Fit the model\n",
    "    model_p = sm.GLM(Y, X, family=sm.families.Poisson()).fit() #Fit the model using maximum likelihood\n",
    "    \n",
    "    return model_p, Y, X, temp\n",
    "\n",
    "def negative_binomial(wq, x, y):\n",
    "    \n",
    "    model_p, Y, X, temp = poisson_for_nb(wq, x, y)\n",
    "    \n",
    "    # Obtain rate vector from Poisson model\n",
    "    temp2 = temp.copy()\n",
    "    temp2['rate_lambda'] = model_p.mu\n",
    "    \n",
    "    # Auxiliary OLS regression to find α for the NB2 model\n",
    "    # Calculate the dependent variable\n",
    "    temp2['aux_ols_dependent'] = temp2.apply(lambda t: ((t[y] - t['rate_lambda'])**2 - t['rate_lambda']) / t['rate_lambda'], axis=1)\n",
    "    \n",
    "    # Using the α as dependent variable in an OLS regression model\n",
    "    ols_formula = \"\"\"aux_ols_dependent ~ rate_lambda - 1\"\"\"\n",
    "    \n",
    "    # Fitting the OLS regression model\n",
    "    model_aux_olsr = smf.ols(ols_formula, temp2).fit()\n",
    "    \n",
    "    # The model coefficient is the alpha parameter for our negative binomial\n",
    "    alpha = model_aux_olsr.params[0]\n",
    "    \n",
    "    # Get the associate t-value to determine significance\n",
    "    t_value = model_aux_olsr.tvalues[0]\n",
    "    \n",
    "    # Caluclate degrees of freedom (number of observations - regression variables - dispersion variable)\n",
    "    deg_freedom = len(temp2) - 1 - 1\n",
    "    \n",
    "    # Determine t critical value at 95% significance value\n",
    "    t_critical = scipy.stats.t.ppf(q=1-.05,df=deg_freedom)\n",
    "    \n",
    "    # If the alpha is significant, negative binomial can be a better fit than poisson\n",
    "    if (t_value > t_critical):\n",
    "        alpha_sig = \"Alpha parameter of negative binomial regression is significant\"\n",
    "    else:\n",
    "        alpha_sig = \"Alpha parameter of negative binomial regression is not significant\"\n",
    "        \n",
    "    # Fit negative binomial regression model\n",
    "    model_nb = sm.GLM(Y, X,family=sm.families.NegativeBinomial(alpha=alpha)).fit()\n",
    "    \n",
    "#     # Export model as img\n",
    "#     plt.rc('figure', figsize=(7,3))\n",
    "#     plt.text(0.01, 0.05, str(nb2_training_results.summary()),\n",
    "#     {'fontsize':22}, fontproperties =  'monospace')\n",
    "#     plt.axis('off')\n",
    "#     plt.tight_layout()\n",
    "#     plt.savefig(f'../../output/regression/{wq}_{y}_summary.png')\n",
    "    \n",
    "    return alpha_sig, model_nb.summary(), model_nb\n",
    "\n",
    "#-------------------------------------------------------\n",
    "\n",
    "# Perform zero inflated poisson regression (ZIP)\n",
    "def zero_inflated_poisson(water_quality_parameter, alias, independent_var, dependent_var):\n",
    "    \n",
    "    display(alias)\n",
    "    \n",
    "    # Model formula\n",
    "    formula = f\"{dependent_var} ~ {independent_var}\"\n",
    "    \n",
    "    # Use Patsy package to carve out the x and y matrices for the ZIP model \n",
    "    y, x = dmatrices(formula, water_quality_parameter, return_type='dataframe')\n",
    "    \n",
    "    # Fit the model\n",
    "    model_zip = sm.ZeroInflatedPoisson(endog=y, exog=x, exog_infl=x, inflation='logit').fit(maxiter=500, method='bfgs') #Fit the model using maximum likelihood\n",
    "    \n",
    "    return model_zip.summary()"
   ]
  },
  {
   "cell_type": "code",
   "execution_count": 26,
   "metadata": {},
   "outputs": [],
   "source": [
    "# Run either poisson or negative binmoial using widgets\n",
    "def regression_choice (Model, wq, x, y):\n",
    "    print(f\"{Model} - {y}\")\n",
    "    if Model == \"Negative Binomial\":\n",
    "        return negative_binomial(wq, x, y)\n",
    "    elif Model == \"Poisson\":\n",
    "        return poisson(wq, x, y)\n",
    "    \n",
    "\n",
    "# Exploratory model widget - Create interactive UI to run the statistical model\n",
    "def explore_models(): #FOR NOW THIS WORKS WITH THE POISSON FUNCTION BELOW\n",
    "\n",
    "    interact_manual(regression_choice, Model = [(\"Negative Binomial\", 'Negative Binomial'), (\"Poisson\", 'Poisson')],\n",
    "                    wq = [(\"Secchi disk depth\", 'sd'), (\"Chlorophyll a\", 'c'), \n",
    "                          (\"Total suspended solids\", 'tss'),(\"Turbidity\", 't'),\n",
    "                          (\"Phytoplankton cell count\", 'tcc'), (\"Phytoplankton biovolume\", 'tb'),\n",
    "                          (\"Phytoplankton cell count (Composite)\", 'tcc_c'), (\"Phytoplankton cell count (Surface)\", 'tcc_s'), \n",
    "                          (\"Phytoplankton biovolume (Composite)\", 'tb_c'), (\"Phytoplankton biovolume (Surface)\", 'tb_s'),\n",
    "                          (\"Cyanobacteria cell count\", 'ccc'), (\"Cyanobacteria biovolume\", 'cb'),\n",
    "                          (\"Cyanobacteria cell count (Composite)\", 'ccc_c'), (\"Cyanobacteria cell count (Surface)\", 'ccc_s'),\n",
    "                          (\"Cyanobacteria biovolume (Composite)\", 'cb_c'), (\"Cyanobacteria biovolume (Surface)\", 'cb_s')],\n",
    "                x = [(\"75th percentile\", 'X75'),(\"Median\", 'X50'),\n",
    "                    (\"Mean\", 'MEAN'), (\"25th percentile\", 'X25')], \n",
    "                     \n",
    "                 y = [(\"Negative tweet counts in 3 prior days\", 'tweets_neg_3_before'),\n",
    "                      (\"Negative tweet counts in 3 following days\", 'tweets_neg_3_after'),\n",
    "                      (\"Negative tweet counts in 3 days rolling window\", 'tweets_neg_3_both'),\n",
    "                      (\"Negative tweet counts in 7 prior days\", 'tweets_neg_7_before'),\n",
    "                      (\"Negative tweet counts in 7 following days\", 'tweets_neg_7_after'),\n",
    "                      (\"Negative tweet counts in 7 days rolling window\", 'tweets_neg_7_both'),\n",
    "                      (\"---------------------------------------------\", ''),\n",
    "                      (\"Total tweet counts in 3 prior days\", 'tweets_wq_3_before'),\n",
    "                      (\"Total tweet counts in 3 following days\", 'tweets_wq_3_after'),\n",
    "                      (\"Total tweet counts in 3 days rolling window\", 'tweets_wq_3_both'),\n",
    "                      (\"Total tweet counts in 7 prior days\", 'tweets_wq_7_before'),\n",
    "                      (\"Total tweet counts in 7 following days\", 'tweets_wq_7_after'),\n",
    "                      (\"Total tweet counts in 7 days rolling window\", 'tweets_wq_7_both'),\n",
    "                      (\"---------------------------------------------\", ''),\n",
    "                      (\"Positive tweet counts in 3 prior days\", 'tweets_pos_3_before'),\n",
    "                      (\"Positive tweet counts in 3 following days\", 'tweets_pos_3_after'),\n",
    "                      (\"Positive tweet counts in 3 days rolling window\", 'tweets_pos_3_both'),\n",
    "                      (\"Positive tweet counts in 7 prior days\", 'tweets_pos_7_before'),\n",
    "                      (\"Positive tweet counts in 7 following days\", 'tweets_pos_7_after'),\n",
    "                      (\"Positive tweet counts in 7 days rolling window\", 'tweets_pos_7_both'),\n",
    "                                  ]);"
   ]
  },
  {
   "cell_type": "code",
   "execution_count": 11,
   "metadata": {},
   "outputs": [],
   "source": [
    "# Run negative binmoial for all possible dependent variables (negative and total sentiment for now)\n",
    "def mass_regression (wq):\n",
    "    \n",
    "    # 75th percentile\n",
    "    x = 'X75'\n",
    "    \n",
    "    y = [(\"Negative tweet counts in 3 prior days\", 'tweets_neg_3_before'),\n",
    "          (\"Negative tweet counts in 3 following days\", 'tweets_neg_3_after'),\n",
    "          (\"Negative tweet counts in 3 days rolling window\", 'tweets_neg_3_both'),\n",
    "          (\"Negative tweet counts in 7 prior days\", 'tweets_neg_7_before'),\n",
    "          (\"Negative tweet counts in 7 following days\", 'tweets_neg_7_after'),\n",
    "          (\"Negative tweet counts in 7 days rolling window\", 'tweets_neg_7_both'),\n",
    "          (\"Total tweet counts in 3 prior days\", 'tweets_wq_3_before'),\n",
    "          (\"Total tweet counts in 3 following days\", 'tweets_wq_3_after'),\n",
    "          (\"Total tweet counts in 3 days rolling window\", 'tweets_wq_3_both'),\n",
    "          (\"Total tweet counts in 7 prior days\", 'tweets_wq_7_before'),\n",
    "          (\"Total tweet counts in 7 following days\", 'tweets_wq_7_after'),\n",
    "          (\"Total tweet counts in 7 days rolling window\", 'tweets_wq_7_both') #,\n",
    "#           (\"Positive tweet counts in 3 prior days\", 'tweets_pos_3_before'),\n",
    "#           (\"Positive tweet counts in 3 following days\", 'tweets_pos_3_after'),\n",
    "#           (\"Positive tweet counts in 3 days rolling window\", 'tweets_pos_3_both'),\n",
    "#           (\"Positive tweet counts in 7 prior days\", 'tweets_pos_7_before'),\n",
    "#           (\"Positive tweet counts in 7 following days\", 'tweets_pos_7_after'),\n",
    "#           (\"Positive tweet counts in 7 days rolling window\", 'tweets_pos_7_both'),\n",
    "        ]\n",
    "    \n",
    "    y1 = negative_binomial(wq, x, 'tweets_neg_3_before')\n",
    "    y1_name = f\"Negative Binomial - {y[0][0]}\"\n",
    "    \n",
    "    y2 = negative_binomial(wq, x, 'tweets_neg_3_after')\n",
    "    y2_name = f\"Negative Binomial - {y[1][0]}\"\n",
    "    \n",
    "    y3 = negative_binomial(wq, x, 'tweets_neg_3_both')\n",
    "    y3_name = f\"Negative Binomial - {y[2][0]}\"\n",
    "    \n",
    "    y4 = negative_binomial(wq, x, 'tweets_neg_7_before')\n",
    "    y4_name = f\"Negative Binomial - {y[3][0]}\"\n",
    "    \n",
    "    y5 = negative_binomial(wq, x, 'tweets_neg_7_after')\n",
    "    y5_name = f\"Negative Binomial - {y[4][0]}\"\n",
    "    \n",
    "    y6 = negative_binomial(wq, x, 'tweets_neg_7_both')\n",
    "    y6_name = f\"Negative Binomial - {y[5][0]}\"\n",
    "    \n",
    "    y7 = negative_binomial(wq, x, 'tweets_neg_3_before')\n",
    "    y7_name = f\"Negative Binomial - {y[6][0]}\"\n",
    "    \n",
    "    y8 = negative_binomial(wq, x, 'tweets_neg_3_after')\n",
    "    y8_name = f\"Negative Binomial - {y[7][0]}\"\n",
    "    \n",
    "    y9 = negative_binomial(wq, x, 'tweets_neg_3_both')\n",
    "    y9_name = f\"Negative Binomial - {y[8][0]}\"\n",
    "    \n",
    "    y10 = negative_binomial(wq, x, 'tweets_neg_7_before')\n",
    "    y10_name = f\"Negative Binomial - {y[9][0]}\"\n",
    "    \n",
    "    y11 = negative_binomial(wq, x, 'tweets_neg_7_after')\n",
    "    y11_name = f\"Negative Binomial - {y[10][0]}\"\n",
    "    \n",
    "    y12 = negative_binomial(wq, x, 'tweets_neg_7_both')\n",
    "    y12_name = f\"Negative Binomial - {y[11][0]}\"\n",
    "    \n",
    "    \n",
    "    \n",
    "    return display(y1_name, y1[0], y1[1]), display(y2_name, y2[0], y2[1]), display(y3_name, y3[0], y3[1]), display(y4_name, y4[0], y4[1]), display(y5_name, y5[0], y5[1]), display(y6_name, y6[0], y6[1]), display(y7_name, y7[0], y7[1]), display(y8_name, y8[0], y8[1]), display(y9_name, y9[0], y9[1]), display(y10_name, y10[0], y10[1]), display(y11_name, y11[0], y11[1]), display(y12_name, y12[0], y12[1])   "
   ]
  },
  {
   "cell_type": "code",
   "execution_count": 12,
   "metadata": {},
   "outputs": [],
   "source": [
    "# Automate mass-run model widget - Create interactive UI to run the statistical model\n",
    "def run_models(): #FOR NOW THIS WORKS WITH THE POISSON FUNCTION BELOW\n",
    "\n",
    "    interact_manual(mass_regression, wq = [(\"Secchi disk depth\", 'sd'), (\"Chlorophyll a\", 'c'), \n",
    "                          (\"Total suspended solids\", 'tss'),(\"Turbidity\", 't'),\n",
    "                          (\"Phytoplankton cell count\", 'tcc'), (\"Phytoplankton biovolume\", 'tb'),\n",
    "                          (\"Phytoplankton cell count (Composite)\", 'tcc_c'), (\"Phytoplankton cell count (Surface)\", 'tcc_s'), \n",
    "                          (\"Phytoplankton biovolume (Composite)\", 'tb_c'), (\"Phytoplankton biovolume (Surface)\", 'tb_s'),\n",
    "                          (\"Cyanobacteria cell count\", 'ccc'), (\"Cyanobacteria biovolume\", 'cb'),\n",
    "                          (\"Cyanobacteria cell count (Composite)\", 'ccc_c'), (\"Cyanobacteria cell count (Surface)\", 'ccc_s'),\n",
    "                          (\"Cyanobacteria biovolume (Composite)\", 'cb_c'), (\"Cyanobacteria biovolume (Surface)\", 'cb_s')]) #,\n",
    "#                 x = [(\"75th percentile\", 'X75'),(\"Median\", 'X50'),\n",
    "#                     (\"Mean\", 'MEAN'), (\"25th percentile\", 'X25')], \n",
    "                     \n",
    "                 "
   ]
  },
  {
   "cell_type": "code",
   "execution_count": 13,
   "metadata": {},
   "outputs": [],
   "source": [
    "# Get p-values for each model\n",
    "def get_pvalues():\n",
    "    \n",
    "    # Create an empty dictionary to hold p-value\n",
    "    pvalues = {}\n",
    "    \n",
    "    wq = [\"c\", \"cb_c\", \"cb\", \"cb_s\", \"ccc_c\", \"ccc\", \"ccc_s\", \"sd\", \"tb_c\", \n",
    "         \"tb\", \"tb_s\", \"tcc_c\", \"tcc\", \"tcc_s\", \"tss\", \"t\"]\n",
    "    \n",
    "    x = 'X75'\n",
    "    \n",
    "    y =  ['tweets_neg_3_after',\n",
    "          'tweets_neg_3_both',\n",
    "          'tweets_neg_7_after',\n",
    "          'tweets_neg_7_both',\n",
    "        ]\n",
    "    \n",
    "    # Iterate through each water quality parameter\n",
    "    for i in wq:\n",
    "        \n",
    "        # Iterate through each possible independent variable\n",
    "        for j in y:\n",
    "            \n",
    "            # Calculate pvalue using the third return object[model.fit() NOT model.fit().summary()] from negative binomial function\n",
    "            # 3 decimal places only\n",
    "            pvalues[f\"{i}_{j}\"] = negative_binomial(i, x, j)[2].pvalues[1]\n",
    "                      \n",
    "    return pvalues\n",
    "            \n",
    "# Store pvalue dictionary to a new variable \n",
    "pvalues = get_pvalues()"
   ]
  },
  {
   "cell_type": "code",
   "execution_count": 14,
   "metadata": {},
   "outputs": [],
   "source": [
    "# Round p-values to 3 decimal places\n",
    "for key in pvalues:\n",
    "    pvalues[key] = round(pvalues[key], 3) "
   ]
  },
  {
   "cell_type": "code",
   "execution_count": 15,
   "metadata": {},
   "outputs": [],
   "source": [
    "# Make a list of p-values to make a dataframe that can be exported\n",
    "sd = [pvalues['sd_tweets_neg_3_after'], pvalues['sd_tweets_neg_3_both'], \n",
    "      pvalues['sd_tweets_neg_7_after'], pvalues['sd_tweets_neg_7_both']]\n",
    "\n",
    "t  = [pvalues['t_tweets_neg_3_after'], pvalues['t_tweets_neg_3_both'], \n",
    "      pvalues['t_tweets_neg_7_after'], pvalues['t_tweets_neg_7_both']]\n",
    "\n",
    "c  = [pvalues['c_tweets_neg_3_after'], pvalues['c_tweets_neg_3_both'], \n",
    "      pvalues['c_tweets_neg_7_after'], pvalues['c_tweets_neg_7_both']]\n",
    "\n",
    "tss =[pvalues['tss_tweets_neg_3_after'], pvalues['tss_tweets_neg_3_both'], \n",
    "      pvalues['tss_tweets_neg_7_after'], pvalues['tss_tweets_neg_7_both']]\n",
    "\n",
    "tcc = [pvalues['tcc_tweets_neg_3_after'], pvalues['tcc_tweets_neg_3_both'], \n",
    "       pvalues['tcc_tweets_neg_7_after'], pvalues['tcc_tweets_neg_7_both']]\n",
    "\n",
    "tcc_c = [pvalues['tcc_c_tweets_neg_3_after'], pvalues['tcc_c_tweets_neg_3_both'], \n",
    "         pvalues['tcc_c_tweets_neg_7_after'], pvalues['tcc_c_tweets_neg_7_both']]\n",
    "\n",
    "tcc_s = [pvalues['tcc_s_tweets_neg_3_after'], pvalues['tcc_s_tweets_neg_3_both'], \n",
    "         pvalues['tcc_s_tweets_neg_7_after'], pvalues['tcc_s_tweets_neg_7_both']]\n",
    "\n",
    "tb  = [pvalues['tb_tweets_neg_3_after'], pvalues['tb_tweets_neg_3_both'], \n",
    "       pvalues['tb_tweets_neg_7_after'], pvalues['tb_tweets_neg_7_both']]\n",
    "\n",
    "tb_c =  [pvalues['tb_c_tweets_neg_3_after'], pvalues['tb_c_tweets_neg_3_both'], \n",
    "         pvalues['tb_c_tweets_neg_7_after'], pvalues['tb_c_tweets_neg_7_both']]\n",
    "\n",
    "tb_s =  [pvalues['tb_s_tweets_neg_3_after'], pvalues['tb_s_tweets_neg_3_both'], \n",
    "         pvalues['tb_s_tweets_neg_7_after'], pvalues['tb_s_tweets_neg_7_both']]\n",
    "  \n",
    "ccc = [pvalues['ccc_tweets_neg_3_after'], pvalues['ccc_tweets_neg_3_both'], \n",
    "       pvalues['ccc_tweets_neg_7_after'], pvalues['ccc_tweets_neg_7_both']]\n",
    "\n",
    "ccc_c = [pvalues['ccc_c_tweets_neg_3_after'], pvalues['ccc_c_tweets_neg_3_both'], \n",
    "         pvalues['ccc_c_tweets_neg_7_after'], pvalues['ccc_c_tweets_neg_7_both']]\n",
    "\n",
    "ccc_s = [pvalues['ccc_s_tweets_neg_3_after'], pvalues['ccc_s_tweets_neg_3_both'], \n",
    "         pvalues['ccc_s_tweets_neg_7_after'], pvalues['ccc_s_tweets_neg_7_both']]\n",
    "\n",
    "cb  = [pvalues['cb_tweets_neg_3_after'], pvalues['cb_tweets_neg_3_both'], \n",
    "       pvalues['cb_tweets_neg_7_after'], pvalues['cb_tweets_neg_7_both']]\n",
    "\n",
    "cb_c =  [pvalues['cb_c_tweets_neg_3_after'], pvalues['cb_c_tweets_neg_3_both'], \n",
    "         pvalues['cb_c_tweets_neg_7_after'], pvalues['cb_c_tweets_neg_7_both']]\n",
    "\n",
    "cb_s =  [pvalues['cb_s_tweets_neg_3_after'], pvalues['cb_s_tweets_neg_3_both'], \n",
    "         pvalues['cb_s_tweets_neg_7_after'], pvalues['cb_s_tweets_neg_7_both']]"
   ]
  },
  {
   "cell_type": "code",
   "execution_count": null,
   "metadata": {},
   "outputs": [],
   "source": [
    "# Create a dataframe of p-values from the lists above\n",
    "df_pvalues = pd.DataFrame([sd, t, c, tss, tcc, tcc_c, tcc_s, tb, tb_c, tb_s, ccc, ccc_c, ccc_s, cb, cb_c, cb_s],\n",
    "                          index = ['Secchi disk depth', 'Turbidity', 'Chlorophyll', 'Total suspended solids',\n",
    "                          'Phytoplankton cell count', 'Phytoplankton cell count (Composite)', \n",
    "                          'Phytoplankton cell count (Surface)', 'Phytoplankton biovolume', \n",
    "                          'Phytoplankton biovolume (Composite)', 'Phytoplankton biovolume (Surface)',\n",
    "                          'Cyanobacteria cell count', 'Cyanobacteria cell count (Composite)', \n",
    "                          'Cyanobacteria cell count (Surface)', 'Cyanobacteria biovolume', \n",
    "                          'Cyanobacteria biovolume (Composite)', 'Cyanobacteria biovolume (Surface)'],\n",
    "                          columns = ['tweets_neg_3_after', 'tweets_neg_3_both',\n",
    "                                    'tweets_neg_7_after', 'tweets_neg_7_both']\n",
    "                         )\n",
    "\n",
    "# Export\n",
    "#df_pvalues.to_csv(\"../../output/regression/pvalues.csv\")"
   ]
  },
  {
   "cell_type": "markdown",
   "metadata": {},
   "source": [
    "# Bivariate plots"
   ]
  },
  {
   "cell_type": "code",
   "execution_count": 101,
   "metadata": {},
   "outputs": [],
   "source": [
    "# Create a function to make bivariate plots\n",
    "def bivariate_plot(variable, name, unit, col):\n",
    "    fig = plt.figure(figsize=(12,11))\n",
    "\n",
    "    ax1 = fig.add_subplot(2, 2, 1)\n",
    "    ax1.scatter(df[variable]['X75'], df[variable]['tweets_neg_3_after'], color=col, \n",
    "               alpha=0.5, s=100, edgecolor='black')\n",
    "    ax1.set(xlabel=f\"{name} ({unit})\", ylabel='Tweet counts',\n",
    "           title=\"3 days after\")\n",
    "\n",
    "    ax1 = fig.add_subplot(2, 2, 2)\n",
    "    ax1.scatter(df[variable]['X75'], df[variable]['tweets_neg_3_both'], color=col, \n",
    "               alpha=0.5, s=100, edgecolor='black')\n",
    "    ax1.set(xlabel=f\"{name} ({unit})\", ylabel='Tweet counts', \n",
    "            title=\"3 days before and after\")\n",
    "\n",
    "    ax1 = fig.add_subplot(2, 2, 3)\n",
    "    ax1.scatter(df[variable]['X75'], df[variable]['tweets_neg_7_after'], color=col, \n",
    "               alpha=0.5, s=100, edgecolor='black')\n",
    "    ax1.set(xlabel=f\"{name} ({unit})\", ylabel='Tweet counts',\n",
    "           title=\"7 days after\")\n",
    "\n",
    "    ax1 = fig.add_subplot(2, 2, 4)\n",
    "    ax1.scatter(df[variable]['X75'], df[variable]['tweets_neg_7_both'], color=col, \n",
    "               alpha=0.5, s=100, edgecolor='black')\n",
    "    ax1.set(xlabel=f\"{name} ({unit})\", ylabel='Tweet counts',\n",
    "           title=\"7 days before and after\")\n",
    "\n",
    "\n",
    "    fig.suptitle(f\"Rolling sum of tweets for {name} (n={len(df[variable])}) measurements\")\n",
    "    #fig.tight_layout()\n",
    "    plt.subplots_adjust(hspace=0.4, wspace=0.2)\n",
    "    plt.savefig(f\"../../output/bivariate plots/{variable}_plot.png\", bbox_inches = 'tight')\n",
    "    plt.show();"
   ]
  },
  {
   "cell_type": "markdown",
   "metadata": {},
   "source": [
    "## Secchi disk depth"
   ]
  },
  {
   "cell_type": "code",
   "execution_count": 93,
   "metadata": {},
   "outputs": [
    {
     "data": {
      "image/png": "[encoded data removed]",
      "text/plain": [
       "<Figure size 864x792 with 4 Axes>"
      ]
     },
     "metadata": {
      "needs_background": "light"
     },
     "output_type": "display_data"
    }
   ],
   "source": [
    "bivariate_plot('sd', 'Secchi disk depth', 'm', 'tomato')"
   ]
  },
  {
   "cell_type": "markdown",
   "metadata": {},
   "source": [
    "# Turbidity"
   ]
  },
  {
   "cell_type": "code",
   "execution_count": 94,
   "metadata": {},
   "outputs": [
    {
     "data": {
      "image/png": "[encoded data removed]",
      "text/plain": [
       "<Figure size 864x792 with 4 Axes>"
      ]
     },
     "metadata": {
      "needs_background": "light"
     },
     "output_type": "display_data"
    }
   ],
   "source": [
    "bivariate_plot('t', 'Turbidity', 'NTRU', 'orange')"
   ]
  },
  {
   "cell_type": "markdown",
   "metadata": {},
   "source": [
    "# Chlorophyll"
   ]
  },
  {
   "cell_type": "code",
   "execution_count": 95,
   "metadata": {},
   "outputs": [
    {
     "data": {
      "image/png": "[encoded data removed]",
      "text/plain": [
       "<Figure size 864x792 with 4 Axes>"
      ]
     },
     "metadata": {
      "needs_background": "light"
     },
     "output_type": "display_data"
    }
   ],
   "source": [
    "bivariate_plot('c', 'Chlorophyll', '$ \\mu g / L$', 'deepskyblue')"
   ]
  },
  {
   "cell_type": "markdown",
   "metadata": {},
   "source": [
    "# Total Suspended Solids"
   ]
  },
  {
   "cell_type": "code",
   "execution_count": 96,
   "metadata": {
    "scrolled": false
   },
   "outputs": [
    {
     "data": {
      "image/png": "[encoded data removed]",
      "text/plain": [
       "<Figure size 864x792 with 4 Axes>"
      ]
     },
     "metadata": {
      "needs_background": "light"
     },
     "output_type": "display_data"
    }
   ],
   "source": [
    "bivariate_plot('tss', 'Total Suspended Solids', 'mg/L', 'yellowgreen')"
   ]
  },
  {
   "cell_type": "markdown",
   "metadata": {},
   "source": [
    "# Total Cell Count (composite)"
   ]
  },
  {
   "cell_type": "markdown",
   "metadata": {},
   "source": [
    "## Change x-axis \"le7\" thing... "
   ]
  },
  {
   "cell_type": "code",
   "execution_count": 105,
   "metadata": {},
   "outputs": [
    {
     "data": {
      "image/png": "[encoded data removed]",
      "text/plain": [
       "<Figure size 864x792 with 4 Axes>"
      ]
     },
     "metadata": {
      "needs_background": "light"
     },
     "output_type": "display_data"
    }
   ],
   "source": [
    "bivariate_plot('tb_s', 'Phytoplankton cell count', 'cells/mL', 'darkorange')"
   ]
  },
  {
   "cell_type": "code",
   "execution_count": null,
   "metadata": {},
   "outputs": [],
   "source": []
  },
  {
   "cell_type": "code",
   "execution_count": null,
   "metadata": {},
   "outputs": [],
   "source": []
  },
  {
   "cell_type": "code",
   "execution_count": null,
   "metadata": {},
   "outputs": [],
   "source": []
  },
  {
   "cell_type": "code",
   "execution_count": null,
   "metadata": {},
   "outputs": [],
   "source": []
  },
  {
   "cell_type": "code",
   "execution_count": null,
   "metadata": {},
   "outputs": [],
   "source": []
  },
  {
   "cell_type": "code",
   "execution_count": null,
   "metadata": {},
   "outputs": [],
   "source": []
  },
  {
   "cell_type": "code",
   "execution_count": null,
   "metadata": {},
   "outputs": [],
   "source": []
  },
  {
   "cell_type": "code",
   "execution_count": 28,
   "metadata": {},
   "outputs": [
    {
     "data": {
      "text/html": [
       "<div>\n",
       "<style scoped>\n",
       "    .dataframe tbody tr th:only-of-type {\n",
       "        vertical-align: middle;\n",
       "    }\n",
       "\n",
       "    .dataframe tbody tr th {\n",
       "        vertical-align: top;\n",
       "    }\n",
       "\n",
       "    .dataframe thead th {\n",
       "        text-align: right;\n",
       "    }\n",
       "</style>\n",
       "<table border=\"1\" class=\"dataframe\">\n",
       "  <thead>\n",
       "    <tr style=\"text-align: right;\">\n",
       "      <th></th>\n",
       "      <th>OID</th>\n",
       "      <th>OBJECTID_1</th>\n",
       "      <th>COUNT</th>\n",
       "      <th>AREA</th>\n",
       "      <th>MEAN</th>\n",
       "      <th>STD</th>\n",
       "      <th>SUM</th>\n",
       "      <th>X25</th>\n",
       "      <th>X50</th>\n",
       "      <th>X75</th>\n",
       "      <th>tweets_neg_3_both</th>\n",
       "      <th>tweets_neg_3_after</th>\n",
       "      <th>tweets_neg_7_both</th>\n",
       "      <th>tweets_neg_7_after</th>\n",
       "    </tr>\n",
       "  </thead>\n",
       "  <tbody>\n",
       "    <tr>\n",
       "      <td>0</td>\n",
       "      <td>0</td>\n",
       "      <td>2016-04-20</td>\n",
       "      <td>27254.0</td>\n",
       "      <td>0.036135</td>\n",
       "      <td>0.326584</td>\n",
       "      <td>0.065224</td>\n",
       "      <td>8900.717586</td>\n",
       "      <td>0.292608</td>\n",
       "      <td>0.326837</td>\n",
       "      <td>0.379791</td>\n",
       "      <td>1.0</td>\n",
       "      <td>1.0</td>\n",
       "      <td>3.0</td>\n",
       "      <td>1.0</td>\n",
       "    </tr>\n",
       "    <tr>\n",
       "      <td>1</td>\n",
       "      <td>1</td>\n",
       "      <td>2016-05-25</td>\n",
       "      <td>27254.0</td>\n",
       "      <td>0.036135</td>\n",
       "      <td>0.200000</td>\n",
       "      <td>0.000000</td>\n",
       "      <td>5450.800081</td>\n",
       "      <td>0.200000</td>\n",
       "      <td>0.200000</td>\n",
       "      <td>0.200000</td>\n",
       "      <td>1.0</td>\n",
       "      <td>0.0</td>\n",
       "      <td>2.0</td>\n",
       "      <td>1.0</td>\n",
       "    </tr>\n",
       "    <tr>\n",
       "      <td>2</td>\n",
       "      <td>2</td>\n",
       "      <td>2016-06-30</td>\n",
       "      <td>27254.0</td>\n",
       "      <td>0.036135</td>\n",
       "      <td>0.200000</td>\n",
       "      <td>0.000000</td>\n",
       "      <td>5450.800081</td>\n",
       "      <td>0.200000</td>\n",
       "      <td>0.200000</td>\n",
       "      <td>0.200000</td>\n",
       "      <td>0.0</td>\n",
       "      <td>0.0</td>\n",
       "      <td>2.0</td>\n",
       "      <td>2.0</td>\n",
       "    </tr>\n",
       "    <tr>\n",
       "      <td>3</td>\n",
       "      <td>3</td>\n",
       "      <td>2017-05-10</td>\n",
       "      <td>27254.0</td>\n",
       "      <td>0.036135</td>\n",
       "      <td>0.266793</td>\n",
       "      <td>0.010521</td>\n",
       "      <td>7271.177156</td>\n",
       "      <td>0.256585</td>\n",
       "      <td>0.267754</td>\n",
       "      <td>0.272464</td>\n",
       "      <td>0.0</td>\n",
       "      <td>0.0</td>\n",
       "      <td>1.0</td>\n",
       "      <td>1.0</td>\n",
       "    </tr>\n",
       "    <tr>\n",
       "      <td>4</td>\n",
       "      <td>4</td>\n",
       "      <td>2017-05-11</td>\n",
       "      <td>27254.0</td>\n",
       "      <td>0.036135</td>\n",
       "      <td>0.271572</td>\n",
       "      <td>0.011862</td>\n",
       "      <td>7401.413938</td>\n",
       "      <td>0.265434</td>\n",
       "      <td>0.269956</td>\n",
       "      <td>0.278423</td>\n",
       "      <td>0.0</td>\n",
       "      <td>0.0</td>\n",
       "      <td>1.0</td>\n",
       "      <td>1.0</td>\n",
       "    </tr>\n",
       "  </tbody>\n",
       "</table>\n",
       "</div>"
      ],
      "text/plain": [
       "  OID OBJECTID_1    COUNT      AREA      MEAN       STD          SUM  \\\n",
       "0   0 2016-04-20  27254.0  0.036135  0.326584  0.065224  8900.717586   \n",
       "1   1 2016-05-25  27254.0  0.036135  0.200000  0.000000  5450.800081   \n",
       "2   2 2016-06-30  27254.0  0.036135  0.200000  0.000000  5450.800081   \n",
       "3   3 2017-05-10  27254.0  0.036135  0.266793  0.010521  7271.177156   \n",
       "4   4 2017-05-11  27254.0  0.036135  0.271572  0.011862  7401.413938   \n",
       "\n",
       "        X25       X50       X75  tweets_neg_3_both  tweets_neg_3_after  \\\n",
       "0  0.292608  0.326837  0.379791                1.0                 1.0   \n",
       "1  0.200000  0.200000  0.200000                1.0                 0.0   \n",
       "2  0.200000  0.200000  0.200000                0.0                 0.0   \n",
       "3  0.256585  0.267754  0.272464                0.0                 0.0   \n",
       "4  0.265434  0.269956  0.278423                0.0                 0.0   \n",
       "\n",
       "   tweets_neg_7_both  tweets_neg_7_after  \n",
       "0                3.0                 1.0  \n",
       "1                2.0                 1.0  \n",
       "2                2.0                 2.0  \n",
       "3                1.0                 1.0  \n",
       "4                1.0                 1.0  "
      ]
     },
     "execution_count": 28,
     "metadata": {},
     "output_type": "execute_result"
    }
   ],
   "source": [
    "def histogram_3days(variable, plot_title):\n",
    "    fig = plt.figure(figsize=(15,12))\n",
    "    i = -10\n",
    "\n",
    "    for num in range(1,10):\n",
    "\n",
    "        ax1 = fig.add_subplot(3,3,num)\n",
    "        ax1.hist(variable.iloc[:,i], color='pink', linewidth=1, edgecolor=\"white\", bins=40)\n",
    "        ax1.set(xlabel = variable.columns[i], ylabel=f'Number of observations')\n",
    "        i-=1\n",
    "\n",
    "    fig.suptitle(f\"Distribution of total tweets in 3-day rolling window for {plot_title}, n={len(variable)}\")\n",
    "    #fig.tight_layout()\n",
    "    plt.subplots_adjust(hspace=0.5, wspace=0.3)"
   ]
  },
  {
   "cell_type": "markdown",
   "metadata": {},
   "source": [
    "\n",
    "## For some parameters zero-inflated poisson is not working...\n",
    "## for same reason zero-inflated negative binomial wasn't working"
   ]
  },
  {
   "cell_type": "markdown",
   "metadata": {},
   "source": [
    "# I. Secchi disk depth"
   ]
  },
  {
   "cell_type": "markdown",
   "metadata": {},
   "source": [
    "## Tweet distributions"
   ]
  },
  {
   "cell_type": "code",
   "execution_count": null,
   "metadata": {
    "scrolled": true
   },
   "outputs": [],
   "source": [
    "display(histogram_3days(df[\"sd\"], \"Secchi disk depth\"));\n",
    "display(histogram_7days(df[\"sd\"], \"Secchi disk depth\"));"
   ]
  },
  {
   "cell_type": "markdown",
   "metadata": {},
   "source": [
    "## Models"
   ]
  },
  {
   "cell_type": "code",
   "execution_count": 14,
   "metadata": {
    "scrolled": false
   },
   "outputs": [
    {
     "data": {
      "application/vnd.jupyter.widget-view+json": {
       "model_id": "5084179da4214dd09926caf4975d22ae",
       "version_major": 2,
       "version_minor": 0
      },
      "text/plain": [
       "interactive(children=(Dropdown(description='wq', options=(('Secchi disk depth', 'sd'), ('Chlorophyll a', 'c'),…"
      ]
     },
     "metadata": {},
     "output_type": "display_data"
    },
    {
     "data": {
      "image/png": "[encoded data removed]",
      "text/plain": [
       "<Figure size 864x504 with 1 Axes>"
      ]
     },
     "metadata": {
      "needs_background": "light"
     },
     "output_type": "display_data"
    }
   ],
   "source": [
    "run_models()"
   ]
  },
  {
   "cell_type": "code",
   "execution_count": null,
   "metadata": {},
   "outputs": [],
   "source": []
  },
  {
   "cell_type": "markdown",
   "metadata": {},
   "source": [
    "# II. Turbidity"
   ]
  },
  {
   "cell_type": "markdown",
   "metadata": {},
   "source": [
    "## Tweet distributions"
   ]
  },
  {
   "cell_type": "code",
   "execution_count": 15,
   "metadata": {
    "scrolled": true
   },
   "outputs": [
    {
     "data": {
      "text/plain": [
       "None"
      ]
     },
     "metadata": {},
     "output_type": "display_data"
    },
    {
     "data": {
      "text/plain": [
       "None"
      ]
     },
     "metadata": {},
     "output_type": "display_data"
    },
    {
     "data": {
      "image/png": "[encoded data removed]",
      "text/plain": [
       "<Figure size 1080x864 with 9 Axes>"
      ]
     },
     "metadata": {
      "needs_background": "light"
     },
     "output_type": "display_data"
    },
    {
     "data": {
      "image/png": "[encoded data removed]",
      "text/plain": [
       "<Figure size 1080x864 with 9 Axes>"
      ]
     },
     "metadata": {
      "needs_background": "light"
     },
     "output_type": "display_data"
    }
   ],
   "source": [
    "display(histogram_3days(df[\"t\"], \"Turbidity\"));\n",
    "display(histogram_7days(df[\"t\"], \"Turbidity\"));"
   ]
  },
  {
   "cell_type": "markdown",
   "metadata": {},
   "source": [
    "## Models "
   ]
  },
  {
   "cell_type": "code",
   "execution_count": null,
   "metadata": {},
   "outputs": [],
   "source": [
    "run_models()"
   ]
  },
  {
   "cell_type": "markdown",
   "metadata": {},
   "source": [
    "# III. Chlorophyll a - Corrected for pheophytin"
   ]
  },
  {
   "cell_type": "markdown",
   "metadata": {},
   "source": [
    "## Tweet distributions"
   ]
  },
  {
   "cell_type": "code",
   "execution_count": null,
   "metadata": {
    "scrolled": true
   },
   "outputs": [],
   "source": [
    "display(histogram_3days(df[\"c\"], \"Chlorophyll\"));\n",
    "display(histogram_7days(df[\"c\"], \"Chlorophyll\"));"
   ]
  },
  {
   "cell_type": "markdown",
   "metadata": {},
   "source": [
    "## Models "
   ]
  },
  {
   "cell_type": "code",
   "execution_count": null,
   "metadata": {},
   "outputs": [],
   "source": [
    "run_models()"
   ]
  },
  {
   "cell_type": "markdown",
   "metadata": {},
   "source": [
    "# IV. Total Suspended Solids"
   ]
  },
  {
   "cell_type": "markdown",
   "metadata": {},
   "source": [
    "## Tweet distributions"
   ]
  },
  {
   "cell_type": "code",
   "execution_count": null,
   "metadata": {
    "scrolled": true
   },
   "outputs": [],
   "source": [
    "display(histogram_3days(df[\"tss\"], \"Total suspended solids\"));\n",
    "display(histogram_7days(df[\"tss\"], \"Total suspended solids\"));"
   ]
  },
  {
   "cell_type": "markdown",
   "metadata": {},
   "source": [
    "## Models "
   ]
  },
  {
   "cell_type": "code",
   "execution_count": null,
   "metadata": {},
   "outputs": [],
   "source": [
    "run_models()"
   ]
  },
  {
   "cell_type": "code",
   "execution_count": null,
   "metadata": {},
   "outputs": [],
   "source": []
  },
  {
   "cell_type": "markdown",
   "metadata": {},
   "source": [
    "# V. Phytoplankton cell count"
   ]
  },
  {
   "cell_type": "markdown",
   "metadata": {},
   "source": [
    "## Tweet distributions"
   ]
  },
  {
   "cell_type": "code",
   "execution_count": null,
   "metadata": {
    "scrolled": true
   },
   "outputs": [],
   "source": [
    "display(histogram_3days(df[\"tcc\"], \"Phytoplankton cell count\"));\n",
    "display(histogram_7days(df[\"tcc\"], \"Phytoplankton cell count\"));"
   ]
  },
  {
   "cell_type": "markdown",
   "metadata": {},
   "source": [
    "## Models "
   ]
  },
  {
   "cell_type": "code",
   "execution_count": null,
   "metadata": {},
   "outputs": [],
   "source": [
    "run_models()"
   ]
  },
  {
   "cell_type": "code",
   "execution_count": null,
   "metadata": {},
   "outputs": [],
   "source": []
  },
  {
   "cell_type": "markdown",
   "metadata": {},
   "source": [
    "# VI. Phytoplankton cell count (composite)"
   ]
  },
  {
   "cell_type": "markdown",
   "metadata": {},
   "source": [
    "## Tweet distributions"
   ]
  },
  {
   "cell_type": "code",
   "execution_count": null,
   "metadata": {
    "scrolled": true
   },
   "outputs": [],
   "source": [
    "display(histogram_3days(df[\"tcc_c\"], \"Phytoplankton cell count (composite)\"));\n",
    "display(histogram_7days(df[\"tcc_c\"], \"Phytoplankton cell count (composite)\"));"
   ]
  },
  {
   "cell_type": "markdown",
   "metadata": {},
   "source": [
    "## Models "
   ]
  },
  {
   "cell_type": "code",
   "execution_count": null,
   "metadata": {},
   "outputs": [],
   "source": [
    "run_models()"
   ]
  },
  {
   "cell_type": "code",
   "execution_count": null,
   "metadata": {},
   "outputs": [],
   "source": []
  },
  {
   "cell_type": "markdown",
   "metadata": {},
   "source": [
    "# VII. Phytoplankton cell count (surface)"
   ]
  },
  {
   "cell_type": "markdown",
   "metadata": {},
   "source": [
    "## Tweet distributions"
   ]
  },
  {
   "cell_type": "code",
   "execution_count": null,
   "metadata": {
    "scrolled": true
   },
   "outputs": [],
   "source": [
    "display(histogram_3days(df[\"tcc_s\"], \"Phytoplankton cell count (surface)\"));\n",
    "display(histogram_7days(df[\"tcc_s\"], \"Phytoplankton cell count (surface)\"));"
   ]
  },
  {
   "cell_type": "markdown",
   "metadata": {},
   "source": [
    "## Models "
   ]
  },
  {
   "cell_type": "code",
   "execution_count": null,
   "metadata": {},
   "outputs": [],
   "source": [
    "run_models()"
   ]
  },
  {
   "cell_type": "code",
   "execution_count": null,
   "metadata": {},
   "outputs": [],
   "source": []
  },
  {
   "cell_type": "markdown",
   "metadata": {},
   "source": [
    "# VIII. Phytoplankton biovolume "
   ]
  },
  {
   "cell_type": "markdown",
   "metadata": {},
   "source": [
    "## Tweet distributions"
   ]
  },
  {
   "cell_type": "code",
   "execution_count": null,
   "metadata": {
    "scrolled": true
   },
   "outputs": [],
   "source": [
    "display(histogram_3days(df[\"tb\"], \"Phytoplankton biovolume\"));\n",
    "display(histogram_7days(df[\"tb\"], \"Phytoplankton biovolume\"));"
   ]
  },
  {
   "cell_type": "markdown",
   "metadata": {},
   "source": [
    "## Models "
   ]
  },
  {
   "cell_type": "code",
   "execution_count": null,
   "metadata": {},
   "outputs": [],
   "source": [
    "run_models()"
   ]
  },
  {
   "cell_type": "markdown",
   "metadata": {},
   "source": [
    "# IX. Phytoplankton biovolume (composite) "
   ]
  },
  {
   "cell_type": "markdown",
   "metadata": {},
   "source": [
    "## Tweet distributions"
   ]
  },
  {
   "cell_type": "code",
   "execution_count": null,
   "metadata": {
    "scrolled": true
   },
   "outputs": [],
   "source": [
    "display(histogram_3days(df[\"tb_c\"], \"Phytoplankton biovolume (composite)\"));\n",
    "display(histogram_7days(df[\"tb_c\"], \"Phytoplankton biovolume (composite)\"));"
   ]
  },
  {
   "cell_type": "markdown",
   "metadata": {},
   "source": [
    "## Models "
   ]
  },
  {
   "cell_type": "code",
   "execution_count": null,
   "metadata": {},
   "outputs": [],
   "source": [
    "run_models()"
   ]
  },
  {
   "cell_type": "code",
   "execution_count": null,
   "metadata": {},
   "outputs": [],
   "source": []
  },
  {
   "cell_type": "markdown",
   "metadata": {},
   "source": [
    "# X. Phytoplankton biovolume (surface)"
   ]
  },
  {
   "cell_type": "markdown",
   "metadata": {},
   "source": [
    "## Tweet distributions"
   ]
  },
  {
   "cell_type": "code",
   "execution_count": null,
   "metadata": {
    "scrolled": true
   },
   "outputs": [],
   "source": [
    "display(histogram_3days(df[\"tb_s\"], \"Phytoplankton biovolume (surface)\"));\n",
    "display(histogram_7days(df[\"tb_s\"], \"Phytoplankton biovolume (surface)\"));"
   ]
  },
  {
   "cell_type": "markdown",
   "metadata": {},
   "source": [
    "## Models "
   ]
  },
  {
   "cell_type": "code",
   "execution_count": null,
   "metadata": {},
   "outputs": [],
   "source": [
    "run_models()"
   ]
  },
  {
   "cell_type": "code",
   "execution_count": null,
   "metadata": {},
   "outputs": [],
   "source": []
  },
  {
   "cell_type": "markdown",
   "metadata": {},
   "source": [
    "# XI. Cyanobacteria cell count"
   ]
  },
  {
   "cell_type": "markdown",
   "metadata": {},
   "source": [
    "## Tweet distributions"
   ]
  },
  {
   "cell_type": "code",
   "execution_count": null,
   "metadata": {
    "scrolled": true
   },
   "outputs": [],
   "source": [
    "display(histogram_3days(df[\"ccc\"], \"Cyanobacteria cell count\"));\n",
    "display(histogram_7days(df[\"ccc\"], \"Cyanobacteria cell count\"));"
   ]
  },
  {
   "cell_type": "markdown",
   "metadata": {},
   "source": [
    "## Models "
   ]
  },
  {
   "cell_type": "code",
   "execution_count": null,
   "metadata": {},
   "outputs": [],
   "source": [
    "run_models()"
   ]
  },
  {
   "cell_type": "code",
   "execution_count": null,
   "metadata": {},
   "outputs": [],
   "source": []
  },
  {
   "cell_type": "markdown",
   "metadata": {},
   "source": [
    "# XII. Cyanobacteria cell count (composite)"
   ]
  },
  {
   "cell_type": "markdown",
   "metadata": {},
   "source": [
    "## Tweet distributions"
   ]
  },
  {
   "cell_type": "code",
   "execution_count": null,
   "metadata": {
    "scrolled": true
   },
   "outputs": [],
   "source": [
    "display(histogram_3days(df[\"ccc_c\"], \"Cyanobacteria cell count (composite)\"));\n",
    "display(histogram_7days(df[\"ccc_c\"], \"Cyanobacteria cell count (composite)\"));"
   ]
  },
  {
   "cell_type": "markdown",
   "metadata": {},
   "source": [
    "## Models "
   ]
  },
  {
   "cell_type": "code",
   "execution_count": null,
   "metadata": {},
   "outputs": [],
   "source": [
    "run_models()"
   ]
  },
  {
   "cell_type": "code",
   "execution_count": null,
   "metadata": {},
   "outputs": [],
   "source": []
  },
  {
   "cell_type": "markdown",
   "metadata": {},
   "source": [
    "# XIII. Cyanobacteria cell count (surface)"
   ]
  },
  {
   "cell_type": "markdown",
   "metadata": {},
   "source": [
    "## Tweet distributions"
   ]
  },
  {
   "cell_type": "code",
   "execution_count": null,
   "metadata": {
    "scrolled": true
   },
   "outputs": [],
   "source": [
    "display(histogram_3days(df[\"ccc_s\"], \"Cyanobacteria cell count (surface)\"));\n",
    "display(histogram_7days(df[\"ccc_s\"], \"Cyanobacteria cell count (surface)\"));"
   ]
  },
  {
   "cell_type": "markdown",
   "metadata": {},
   "source": [
    "## Models "
   ]
  },
  {
   "cell_type": "code",
   "execution_count": null,
   "metadata": {},
   "outputs": [],
   "source": [
    "run_models()"
   ]
  },
  {
   "cell_type": "code",
   "execution_count": null,
   "metadata": {},
   "outputs": [],
   "source": []
  },
  {
   "cell_type": "markdown",
   "metadata": {},
   "source": [
    "# XIV. Cyanobacteria biovolume "
   ]
  },
  {
   "cell_type": "markdown",
   "metadata": {},
   "source": [
    "## Tweet distributions"
   ]
  },
  {
   "cell_type": "code",
   "execution_count": null,
   "metadata": {
    "scrolled": true
   },
   "outputs": [],
   "source": [
    "display(histogram_3days(df[\"cb\"], \"Cyanobacteria biovolume\"));\n",
    "display(histogram_7days(df[\"cb\"], \"Cyanobacteria biovolume\"));"
   ]
  },
  {
   "cell_type": "markdown",
   "metadata": {},
   "source": [
    "## Models "
   ]
  },
  {
   "cell_type": "code",
   "execution_count": null,
   "metadata": {},
   "outputs": [],
   "source": [
    "run_models()"
   ]
  },
  {
   "cell_type": "markdown",
   "metadata": {},
   "source": [
    "# XV. Cyanobacteria biovolume (composite) "
   ]
  },
  {
   "cell_type": "markdown",
   "metadata": {},
   "source": [
    "## Tweet distributions"
   ]
  },
  {
   "cell_type": "code",
   "execution_count": null,
   "metadata": {
    "scrolled": true
   },
   "outputs": [],
   "source": [
    "display(histogram_3days(df[\"cb_c\"], \"Cyanobacteria biovolume (composite)\"));\n",
    "display(histogram_7days(df[\"cb_c\"], \"Cyanobacteria biovolume (composite)\"));"
   ]
  },
  {
   "cell_type": "markdown",
   "metadata": {},
   "source": [
    "## Models "
   ]
  },
  {
   "cell_type": "code",
   "execution_count": null,
   "metadata": {},
   "outputs": [],
   "source": [
    "run_models()"
   ]
  },
  {
   "cell_type": "code",
   "execution_count": null,
   "metadata": {},
   "outputs": [],
   "source": []
  },
  {
   "cell_type": "markdown",
   "metadata": {},
   "source": [
    "# XVI. Cyanobacteria biovolume (surface)"
   ]
  },
  {
   "cell_type": "markdown",
   "metadata": {},
   "source": [
    "## Tweet distributions"
   ]
  },
  {
   "cell_type": "code",
   "execution_count": null,
   "metadata": {
    "scrolled": true
   },
   "outputs": [],
   "source": [
    "display(histogram_3days(df[\"cb_s\"], \"Cyanobacteria biovolume (surface)\"));\n",
    "display(histogram_7days(df[\"cb_s\"], \"Cyanobacteria biovolume (surface)\"));"
   ]
  },
  {
   "cell_type": "markdown",
   "metadata": {},
   "source": [
    "## Models "
   ]
  },
  {
   "cell_type": "code",
   "execution_count": null,
   "metadata": {},
   "outputs": [],
   "source": [
    "run_models()"
   ]
  },
  {
   "cell_type": "code",
   "execution_count": null,
   "metadata": {},
   "outputs": [],
   "source": []
  },
  {
   "cell_type": "code",
   "execution_count": null,
   "metadata": {},
   "outputs": [],
   "source": []
  },
  {
   "cell_type": "code",
   "execution_count": null,
   "metadata": {},
   "outputs": [],
   "source": []
  },
  {
   "cell_type": "code",
   "execution_count": null,
   "metadata": {},
   "outputs": [],
   "source": []
  },
  {
   "cell_type": "code",
   "execution_count": null,
   "metadata": {},
   "outputs": [],
   "source": []
  },
  {
   "cell_type": "code",
   "execution_count": null,
   "metadata": {},
   "outputs": [],
   "source": []
  },
  {
   "cell_type": "code",
   "execution_count": null,
   "metadata": {},
   "outputs": [],
   "source": []
  },
  {
   "cell_type": "code",
   "execution_count": null,
   "metadata": {},
   "outputs": [],
   "source": []
  },
  {
   "cell_type": "code",
   "execution_count": null,
   "metadata": {},
   "outputs": [],
   "source": []
  },
  {
   "cell_type": "code",
   "execution_count": null,
   "metadata": {},
   "outputs": [],
   "source": []
  },
  {
   "cell_type": "code",
   "execution_count": null,
   "metadata": {},
   "outputs": [],
   "source": []
  },
  {
   "cell_type": "code",
   "execution_count": null,
   "metadata": {},
   "outputs": [],
   "source": []
  },
  {
   "cell_type": "code",
   "execution_count": null,
   "metadata": {},
   "outputs": [],
   "source": []
  },
  {
   "cell_type": "code",
   "execution_count": null,
   "metadata": {},
   "outputs": [],
   "source": []
  },
  {
   "cell_type": "code",
   "execution_count": null,
   "metadata": {},
   "outputs": [],
   "source": []
  },
  {
   "cell_type": "code",
   "execution_count": null,
   "metadata": {},
   "outputs": [],
   "source": []
  },
  {
   "cell_type": "code",
   "execution_count": null,
   "metadata": {},
   "outputs": [],
   "source": []
  },
  {
   "cell_type": "code",
   "execution_count": null,
   "metadata": {},
   "outputs": [],
   "source": []
  },
  {
   "cell_type": "code",
   "execution_count": null,
   "metadata": {},
   "outputs": [],
   "source": []
  },
  {
   "cell_type": "code",
   "execution_count": null,
   "metadata": {},
   "outputs": [],
   "source": []
  },
  {
   "cell_type": "code",
   "execution_count": null,
   "metadata": {},
   "outputs": [],
   "source": []
  },
  {
   "cell_type": "code",
   "execution_count": null,
   "metadata": {},
   "outputs": [],
   "source": []
  },
  {
   "cell_type": "code",
   "execution_count": null,
   "metadata": {},
   "outputs": [],
   "source": []
  },
  {
   "cell_type": "code",
   "execution_count": null,
   "metadata": {},
   "outputs": [],
   "source": []
  },
  {
   "cell_type": "code",
   "execution_count": null,
   "metadata": {},
   "outputs": [],
   "source": []
  },
  {
   "cell_type": "code",
   "execution_count": null,
   "metadata": {},
   "outputs": [],
   "source": []
  },
  {
   "cell_type": "code",
   "execution_count": null,
   "metadata": {},
   "outputs": [],
   "source": [
    "names = [\"c\", \"cb\", \"ccc\", \"sd\", \"tb\", \"tcc\", \"tss\", \"t\", \"tweets\"]"
   ]
  },
  {
   "cell_type": "code",
   "execution_count": null,
   "metadata": {},
   "outputs": [],
   "source": [
    "def poisson(wq, x, y):\n",
    "    \n",
    "    abc = df[wq]\n",
    "    \n",
    "    # Model formula\n",
    "    formula = f\"{y} ~ {x}\"\n",
    "    \n",
    "    # Use Patsy package to carve out the x and y matrices for the ZIP model \n",
    "    Y, X = dmatrices(formula, abc, return_type='dataframe')\n",
    "    \n",
    "    # Fit the model\n",
    "    model_p = sm.GLM(Y, X, family=sm.families.Poisson()).fit() #Fit the model using maximum likelihood\n",
    "    \n",
    "    return model_p.summary()"
   ]
  },
  {
   "cell_type": "code",
   "execution_count": null,
   "metadata": {},
   "outputs": [],
   "source": []
  },
  {
   "cell_type": "code",
   "execution_count": null,
   "metadata": {},
   "outputs": [],
   "source": []
  },
  {
   "cell_type": "code",
   "execution_count": null,
   "metadata": {},
   "outputs": [],
   "source": [
    "# Create histogram\n",
    "\n",
    "fig = plt.figure(figsize=(12,12))\n",
    "i = -1\n",
    "\n",
    "for num in range(1,10):\n",
    "\n",
    "    ax1 = fig.add_subplot(3,3,num)\n",
    "    ax1.hist(sd.iloc[:,i], color='lightskyblue', linewidth=1, edgecolor=\"white\")\n",
    "    ax1.set(xlabel = sd.columns[i], ylabel=f'Number of observations')\n",
    "    i-=1\n",
    "\n",
    "fig.suptitle(f\"Tweets count distribution for {Secchi disk depth}, n={len(sd)}\")\n",
    "#fig.tight_layout()\n",
    "plt.subplots_adjust(hspace=0.5, wspace=0.3)\n",
    "plt.show()"
   ]
  },
  {
   "cell_type": "code",
   "execution_count": null,
   "metadata": {},
   "outputs": [],
   "source": [
    "# Calculate mean and variance (NOPE DONT DO IT)\n",
    "# Fit zero-inflated poisson regression\n",
    "# Fit negative binomial regression and Zero-inflated binomial regression (see why? in below link)\n",
    "# Create residual vs fitter plots for both"
   ]
  },
  {
   "cell_type": "code",
   "execution_count": null,
   "metadata": {},
   "outputs": [],
   "source": [
    "# example of doing poisson and negative \n",
    "# https://dius.com.au/2017/08/03/using-statsmodels-glms-to-model-beverage-consumption/\n",
    "\n",
    "# we might not always need zero inflated model\n",
    "# https://statisticalhorizons.com/zero-inflated-models"
   ]
  },
  {
   "cell_type": "code",
   "execution_count": null,
   "metadata": {},
   "outputs": [],
   "source": []
  },
  {
   "cell_type": "code",
   "execution_count": null,
   "metadata": {
    "scrolled": true
   },
   "outputs": [],
   "source": [
    "df['sd']"
   ]
  },
  {
   "cell_type": "code",
   "execution_count": null,
   "metadata": {},
   "outputs": [],
   "source": []
  },
  {
   "cell_type": "code",
   "execution_count": null,
   "metadata": {},
   "outputs": [],
   "source": []
  },
  {
   "cell_type": "code",
   "execution_count": null,
   "metadata": {},
   "outputs": [],
   "source": []
  },
  {
   "cell_type": "code",
   "execution_count": null,
   "metadata": {},
   "outputs": [],
   "source": []
  },
  {
   "cell_type": "code",
   "execution_count": null,
   "metadata": {},
   "outputs": [],
   "source": []
  },
  {
   "cell_type": "code",
   "execution_count": null,
   "metadata": {},
   "outputs": [],
   "source": []
  },
  {
   "cell_type": "code",
   "execution_count": null,
   "metadata": {},
   "outputs": [],
   "source": []
  },
  {
   "cell_type": "code",
   "execution_count": null,
   "metadata": {},
   "outputs": [],
   "source": []
  },
  {
   "cell_type": "code",
   "execution_count": null,
   "metadata": {},
   "outputs": [],
   "source": []
  },
  {
   "cell_type": "code",
   "execution_count": null,
   "metadata": {},
   "outputs": [],
   "source": []
  },
  {
   "cell_type": "code",
   "execution_count": null,
   "metadata": {},
   "outputs": [],
   "source": []
  },
  {
   "cell_type": "code",
   "execution_count": null,
   "metadata": {},
   "outputs": [],
   "source": []
  },
  {
   "cell_type": "code",
   "execution_count": null,
   "metadata": {},
   "outputs": [],
   "source": []
  },
  {
   "cell_type": "code",
   "execution_count": null,
   "metadata": {},
   "outputs": [],
   "source": []
  },
  {
   "cell_type": "code",
   "execution_count": null,
   "metadata": {},
   "outputs": [],
   "source": []
  },
  {
   "cell_type": "code",
   "execution_count": null,
   "metadata": {},
   "outputs": [],
   "source": []
  },
  {
   "cell_type": "code",
   "execution_count": null,
   "metadata": {},
   "outputs": [],
   "source": []
  },
  {
   "cell_type": "code",
   "execution_count": null,
   "metadata": {},
   "outputs": [],
   "source": []
  },
  {
   "cell_type": "code",
   "execution_count": 24,
   "metadata": {},
   "outputs": [],
   "source": [
    "# Import explanatory and response variables data\n",
    "tweets = pd.read_csv(\"../../data/processed/regression/tweets_daily_final.csv\")\n",
    "sd = pd.read_csv(\"../../data/processed/regression/secchi_depth_final.csv\")\n",
    "t = pd.read_csv(\"../../data/processed/regression/turbidity_final.csv\")\n",
    "tss = pd.read_csv(\"../../data/processed/regression/total_suspended_solids_final.csv\")\n",
    "c = pd.read_csv(\"../../data/processed/regression/chlorophyll_final.csv\")\n",
    "tcc = pd.read_csv(\"../../data/processed/regression/total_cell_count_final.csv\")\n",
    "tb = pd.read_csv(\"../../data/processed/regression/total_biovolume_final.csv\")\n",
    "ccc = pd.read_csv(\"../../data/processed/regression/cyano_cell_count_final.csv\")\n",
    "cb = pd.read_csv(\"../../data/processed/regression/cyano_biovolume_final.csv\")\n"
   ]
  },
  {
   "cell_type": "code",
   "execution_count": 25,
   "metadata": {},
   "outputs": [],
   "source": [
    "# convert date column to datetime object\n",
    "tweets['time'] = pd.to_datetime(tweets['time'])\n",
    "sd['OBJECTID_1'] = pd.to_datetime(sd['OBJECTID_1'])\n",
    "t['OBJECTID_1'] = pd.to_datetime(t['OBJECTID_1'])\n",
    "tss['OBJECTID_1'] = pd.to_datetime(tss['OBJECTID_1'])\n",
    "c['OBJECTID_1'] = pd.to_datetime(c['OBJECTID_1'])\n",
    "tcc['OBJECTID_1'] = pd.to_datetime(tcc['OBJECTID_1'])\n",
    "tb['OBJECTID_1'] = pd.to_datetime(tb['OBJECTID_1'])\n",
    "ccc['OBJECTID_1'] = pd.to_datetime(ccc['OBJECTID_1'])\n",
    "cb['OBJECTID_1'] = pd.to_datetime(cb['OBJECTID_1'])"
   ]
  },
  {
   "cell_type": "code",
   "execution_count": 26,
   "metadata": {},
   "outputs": [],
   "source": [
    "sd['OBJECTID_1'] = pd.to_datetime(sd['OBJECTID_1'])"
   ]
  },
  {
   "cell_type": "code",
   "execution_count": 27,
   "metadata": {},
   "outputs": [
    {
     "data": {
      "text/plain": [
       "Timestamp('2016-04-20 00:00:00')"
      ]
     },
     "execution_count": 27,
     "metadata": {},
     "output_type": "execute_result"
    }
   ],
   "source": [
    "sd['OBJECTID_1'][0] "
   ]
  },
  {
   "cell_type": "code",
   "execution_count": 28,
   "metadata": {},
   "outputs": [
    {
     "name": "stdout",
     "output_type": "stream",
     "text": [
      "          time  water quality?  neg  pos\n",
      "103 2016-04-13             0.0  0.0  0.0\n",
      "104 2016-04-14             3.0  2.0  1.0\n",
      "105 2016-04-15             0.0  0.0  0.0\n",
      "106 2016-04-16             0.0  0.0  0.0\n",
      "107 2016-04-17             0.0  0.0  0.0\n",
      "108 2016-04-18             0.0  0.0  0.0\n",
      "109 2016-04-19             0.0  0.0  0.0\n",
      "110 2016-04-20             0.0  0.0  0.0\n"
     ]
    }
   ],
   "source": [
    "idx = tweets['time'].eq(sd['OBJECTID_1'][0]).idxmax()\n",
    "res = tweets.iloc[idx-7: idx+1]\n",
    "\n",
    "print(res)"
   ]
  },
  {
   "cell_type": "code",
   "execution_count": 29,
   "metadata": {},
   "outputs": [],
   "source": [
    "# create new columns to store tweet counts data\n",
    "\n",
    "sd['tweets_neg_3_both'] = np.nan\n",
    "sd['tweets_pos_3_both'] = np.nan\n",
    "sd['tweets_wq_3_both']  = np.nan \n",
    "\n",
    "sd['tweets_neg_3_before'] = np.nan\n",
    "sd['tweets_pos_3_before'] = np.nan\n",
    "sd['tweets_wq_3_before']  = np.nan \n",
    "\n",
    "sd['tweets_neg_3_after'] = np.nan\n",
    "sd['tweets_pos_3_after'] = np.nan\n",
    "sd['tweets_wq_3_after']  = np.nan\n",
    "\n",
    "\n",
    "sd['tweets_neg_7_both'] = np.nan\n",
    "sd['tweets_pos_7_both'] = np.nan\n",
    "sd['tweets_wq_7_both']  = np.nan\n",
    "\n",
    "sd['tweets_neg_7_before'] = np.nan\n",
    "sd['tweets_pos_7_before'] = np.nan\n",
    "sd['tweets_wq_7_before']  = np.nan\n",
    "\n",
    "sd['tweets_neg_7_after'] = np.nan\n",
    "sd['tweets_pos_7_after'] = np.nan\n",
    "sd['tweets_wq_7_after']  = np.nan\n",
    "\n",
    "\n",
    "# Iterate over each row in wq variable\n",
    "for index, row in sd.iterrows():\n",
    "    \n",
    "    # get dates for which we have water quality measurements\n",
    "    date_wq = row['OBJECTID_1']\n",
    "    \n",
    "    # get index of the row with same date in the tweets data\n",
    "    tweets_index = tweets['time'].eq(date_wq).idxmax()\n",
    "    \n",
    "    # get tweets info from 3 & 7 days before and after the date on which water quality was measured\n",
    "    tweets_result_3_both = tweets.iloc[tweets_index-3: tweets_index+4]\n",
    "    tweets_result_3_before = tweets.iloc[tweets_index-3: tweets_index+1]\n",
    "    tweets_result_3_after = tweets.iloc[tweets_index: tweets_index+4]\n",
    "    \n",
    "    tweets_result_7_both = tweets.iloc[tweets_index-7: tweets_index+8]\n",
    "    tweets_result_7_before = tweets.iloc[tweets_index-7: tweets_index+1]\n",
    "    tweets_result_7_after = tweets.iloc[tweets_index: tweets_index+8]\n",
    "    \n",
    "    # assign the sum of negative tweets\n",
    "    sd.loc[index, 'tweets_neg_3_both'] = tweets_result_3_both['neg'].sum() \n",
    "    sd.loc[index, 'tweets_pos_3_both'] = tweets_result_3_both['pos'].sum()\n",
    "    sd.loc[index, 'tweets_wq_3_both'] = tweets_result_3_both['water quality?'].sum()\n",
    "    \n",
    "    sd.loc[index, 'tweets_neg_3_before'] = tweets_result_3_before['neg'].sum() \n",
    "    sd.loc[index, 'tweets_pos_3_before'] = tweets_result_3_before['pos'].sum()\n",
    "    sd.loc[index, 'tweets_wq_3_before'] = tweets_result_3_before['water quality?'].sum()\n",
    "    \n",
    "    sd.loc[index, 'tweets_neg_3_after'] = tweets_result_3_after['neg'].sum() \n",
    "    sd.loc[index, 'tweets_pos_3_after'] = tweets_result_3_after['pos'].sum()\n",
    "    sd.loc[index, 'tweets_wq_3_after'] = tweets_result_3_after['water quality?'].sum()\n",
    "    \n",
    "    sd.loc[index, 'tweets_neg_7_both'] = tweets_result_7_both['neg'].sum() \n",
    "    sd.loc[index, 'tweets_pos_7_both'] = tweets_result_7_both['pos'].sum()\n",
    "    sd.loc[index, 'tweets_wq_7_both'] = tweets_result_7_both['water quality?'].sum()\n",
    "    \n",
    "    sd.loc[index, 'tweets_neg_7_before'] = tweets_result_7_before['neg'].sum() \n",
    "    sd.loc[index, 'tweets_pos_7_before'] = tweets_result_7_before['pos'].sum()\n",
    "    sd.loc[index, 'tweets_wq_7_before'] = tweets_result_7_before['water quality?'].sum()\n",
    "    \n",
    "    sd.loc[index, 'tweets_neg_7_after'] = tweets_result_7_after['neg'].sum() \n",
    "    sd.loc[index, 'tweets_pos_7_after'] = tweets_result_7_after['pos'].sum()\n",
    "    sd.loc[index, 'tweets_wq_7_after'] = tweets_result_7_after['water quality?'].sum()\n",
    "    \n",
    "    \n",
    "#     print(date_wq)\n",
    "#     print(tweets_result)"
   ]
  },
  {
   "cell_type": "code",
   "execution_count": 30,
   "metadata": {},
   "outputs": [
    {
     "data": {
      "text/html": [
       "<div>\n",
       "<style scoped>\n",
       "    .dataframe tbody tr th:only-of-type {\n",
       "        vertical-align: middle;\n",
       "    }\n",
       "\n",
       "    .dataframe tbody tr th {\n",
       "        vertical-align: top;\n",
       "    }\n",
       "\n",
       "    .dataframe thead th {\n",
       "        text-align: right;\n",
       "    }\n",
       "</style>\n",
       "<table border=\"1\" class=\"dataframe\">\n",
       "  <thead>\n",
       "    <tr style=\"text-align: right;\">\n",
       "      <th></th>\n",
       "      <th>OID</th>\n",
       "      <th>OBJECTID_1</th>\n",
       "      <th>COUNT</th>\n",
       "      <th>AREA</th>\n",
       "      <th>MEAN</th>\n",
       "      <th>STD</th>\n",
       "      <th>SUM</th>\n",
       "      <th>X25.</th>\n",
       "      <th>X50.</th>\n",
       "      <th>X75.</th>\n",
       "      <th>...</th>\n",
       "      <th>tweets_wq_3_after</th>\n",
       "      <th>tweets_neg_7_both</th>\n",
       "      <th>tweets_pos_7_both</th>\n",
       "      <th>tweets_wq_7_both</th>\n",
       "      <th>tweets_neg_7_before</th>\n",
       "      <th>tweets_pos_7_before</th>\n",
       "      <th>tweets_wq_7_before</th>\n",
       "      <th>tweets_neg_7_after</th>\n",
       "      <th>tweets_pos_7_after</th>\n",
       "      <th>tweets_wq_7_after</th>\n",
       "    </tr>\n",
       "  </thead>\n",
       "  <tbody>\n",
       "    <tr>\n",
       "      <td>0</td>\n",
       "      <td>0</td>\n",
       "      <td>2016-04-20</td>\n",
       "      <td>27254.0</td>\n",
       "      <td>0.036135</td>\n",
       "      <td>0.326584</td>\n",
       "      <td>6.522402e-02</td>\n",
       "      <td>8900.717586</td>\n",
       "      <td>0.292608</td>\n",
       "      <td>0.326837</td>\n",
       "      <td>0.379791</td>\n",
       "      <td>...</td>\n",
       "      <td>1.0</td>\n",
       "      <td>3.0</td>\n",
       "      <td>1.0</td>\n",
       "      <td>4.0</td>\n",
       "      <td>2.0</td>\n",
       "      <td>1.0</td>\n",
       "      <td>3.0</td>\n",
       "      <td>1.0</td>\n",
       "      <td>0.0</td>\n",
       "      <td>1.0</td>\n",
       "    </tr>\n",
       "    <tr>\n",
       "      <td>1</td>\n",
       "      <td>1</td>\n",
       "      <td>2016-05-25</td>\n",
       "      <td>27254.0</td>\n",
       "      <td>0.036135</td>\n",
       "      <td>0.200000</td>\n",
       "      <td>0.000000e+00</td>\n",
       "      <td>5450.800081</td>\n",
       "      <td>0.200000</td>\n",
       "      <td>0.200000</td>\n",
       "      <td>0.200000</td>\n",
       "      <td>...</td>\n",
       "      <td>0.0</td>\n",
       "      <td>2.0</td>\n",
       "      <td>0.0</td>\n",
       "      <td>2.0</td>\n",
       "      <td>1.0</td>\n",
       "      <td>0.0</td>\n",
       "      <td>1.0</td>\n",
       "      <td>1.0</td>\n",
       "      <td>0.0</td>\n",
       "      <td>1.0</td>\n",
       "    </tr>\n",
       "    <tr>\n",
       "      <td>2</td>\n",
       "      <td>2</td>\n",
       "      <td>2016-06-30</td>\n",
       "      <td>27254.0</td>\n",
       "      <td>0.036135</td>\n",
       "      <td>0.200000</td>\n",
       "      <td>0.000000e+00</td>\n",
       "      <td>5450.800081</td>\n",
       "      <td>0.200000</td>\n",
       "      <td>0.200000</td>\n",
       "      <td>0.200000</td>\n",
       "      <td>...</td>\n",
       "      <td>0.0</td>\n",
       "      <td>2.0</td>\n",
       "      <td>0.0</td>\n",
       "      <td>2.0</td>\n",
       "      <td>0.0</td>\n",
       "      <td>0.0</td>\n",
       "      <td>0.0</td>\n",
       "      <td>2.0</td>\n",
       "      <td>0.0</td>\n",
       "      <td>2.0</td>\n",
       "    </tr>\n",
       "    <tr>\n",
       "      <td>3</td>\n",
       "      <td>3</td>\n",
       "      <td>2017-05-10</td>\n",
       "      <td>27254.0</td>\n",
       "      <td>0.036135</td>\n",
       "      <td>0.266793</td>\n",
       "      <td>1.052118e-02</td>\n",
       "      <td>7271.177156</td>\n",
       "      <td>0.256585</td>\n",
       "      <td>0.267754</td>\n",
       "      <td>0.272464</td>\n",
       "      <td>...</td>\n",
       "      <td>0.0</td>\n",
       "      <td>1.0</td>\n",
       "      <td>1.0</td>\n",
       "      <td>3.0</td>\n",
       "      <td>0.0</td>\n",
       "      <td>0.0</td>\n",
       "      <td>0.0</td>\n",
       "      <td>1.0</td>\n",
       "      <td>1.0</td>\n",
       "      <td>3.0</td>\n",
       "    </tr>\n",
       "    <tr>\n",
       "      <td>4</td>\n",
       "      <td>4</td>\n",
       "      <td>2017-05-11</td>\n",
       "      <td>27254.0</td>\n",
       "      <td>0.036135</td>\n",
       "      <td>0.271572</td>\n",
       "      <td>1.186248e-02</td>\n",
       "      <td>7401.413938</td>\n",
       "      <td>0.265434</td>\n",
       "      <td>0.269956</td>\n",
       "      <td>0.278423</td>\n",
       "      <td>...</td>\n",
       "      <td>0.0</td>\n",
       "      <td>1.0</td>\n",
       "      <td>1.0</td>\n",
       "      <td>3.0</td>\n",
       "      <td>0.0</td>\n",
       "      <td>0.0</td>\n",
       "      <td>0.0</td>\n",
       "      <td>1.0</td>\n",
       "      <td>1.0</td>\n",
       "      <td>3.0</td>\n",
       "    </tr>\n",
       "    <tr>\n",
       "      <td>5</td>\n",
       "      <td>5</td>\n",
       "      <td>2017-06-15</td>\n",
       "      <td>27254.0</td>\n",
       "      <td>0.036135</td>\n",
       "      <td>0.321752</td>\n",
       "      <td>4.414198e-02</td>\n",
       "      <td>8769.025205</td>\n",
       "      <td>0.300185</td>\n",
       "      <td>0.308336</td>\n",
       "      <td>0.364803</td>\n",
       "      <td>...</td>\n",
       "      <td>0.0</td>\n",
       "      <td>1.0</td>\n",
       "      <td>1.0</td>\n",
       "      <td>2.0</td>\n",
       "      <td>1.0</td>\n",
       "      <td>1.0</td>\n",
       "      <td>2.0</td>\n",
       "      <td>0.0</td>\n",
       "      <td>0.0</td>\n",
       "      <td>0.0</td>\n",
       "    </tr>\n",
       "    <tr>\n",
       "      <td>6</td>\n",
       "      <td>6</td>\n",
       "      <td>2017-07-11</td>\n",
       "      <td>27254.0</td>\n",
       "      <td>0.036135</td>\n",
       "      <td>0.214709</td>\n",
       "      <td>3.412158e-02</td>\n",
       "      <td>5851.680627</td>\n",
       "      <td>0.201629</td>\n",
       "      <td>0.212833</td>\n",
       "      <td>0.237013</td>\n",
       "      <td>...</td>\n",
       "      <td>27.0</td>\n",
       "      <td>32.0</td>\n",
       "      <td>0.0</td>\n",
       "      <td>34.0</td>\n",
       "      <td>3.0</td>\n",
       "      <td>0.0</td>\n",
       "      <td>5.0</td>\n",
       "      <td>29.0</td>\n",
       "      <td>0.0</td>\n",
       "      <td>30.0</td>\n",
       "    </tr>\n",
       "    <tr>\n",
       "      <td>7</td>\n",
       "      <td>7</td>\n",
       "      <td>2017-08-07</td>\n",
       "      <td>27254.0</td>\n",
       "      <td>0.036135</td>\n",
       "      <td>0.289606</td>\n",
       "      <td>3.882226e-02</td>\n",
       "      <td>7892.927859</td>\n",
       "      <td>0.274076</td>\n",
       "      <td>0.288600</td>\n",
       "      <td>0.306758</td>\n",
       "      <td>...</td>\n",
       "      <td>3.0</td>\n",
       "      <td>6.0</td>\n",
       "      <td>12.0</td>\n",
       "      <td>19.0</td>\n",
       "      <td>4.0</td>\n",
       "      <td>11.0</td>\n",
       "      <td>15.0</td>\n",
       "      <td>2.0</td>\n",
       "      <td>2.0</td>\n",
       "      <td>5.0</td>\n",
       "    </tr>\n",
       "    <tr>\n",
       "      <td>8</td>\n",
       "      <td>8</td>\n",
       "      <td>2017-08-08</td>\n",
       "      <td>27254.0</td>\n",
       "      <td>0.036135</td>\n",
       "      <td>0.265372</td>\n",
       "      <td>3.149683e-02</td>\n",
       "      <td>7232.436012</td>\n",
       "      <td>0.249463</td>\n",
       "      <td>0.263379</td>\n",
       "      <td>0.284706</td>\n",
       "      <td>...</td>\n",
       "      <td>4.0</td>\n",
       "      <td>6.0</td>\n",
       "      <td>12.0</td>\n",
       "      <td>19.0</td>\n",
       "      <td>4.0</td>\n",
       "      <td>11.0</td>\n",
       "      <td>15.0</td>\n",
       "      <td>2.0</td>\n",
       "      <td>1.0</td>\n",
       "      <td>4.0</td>\n",
       "    </tr>\n",
       "    <tr>\n",
       "      <td>9</td>\n",
       "      <td>9</td>\n",
       "      <td>2017-09-11</td>\n",
       "      <td>27254.0</td>\n",
       "      <td>0.036135</td>\n",
       "      <td>0.290509</td>\n",
       "      <td>3.197386e-02</td>\n",
       "      <td>7917.524259</td>\n",
       "      <td>0.275228</td>\n",
       "      <td>0.296750</td>\n",
       "      <td>0.305719</td>\n",
       "      <td>...</td>\n",
       "      <td>1.0</td>\n",
       "      <td>3.0</td>\n",
       "      <td>0.0</td>\n",
       "      <td>3.0</td>\n",
       "      <td>1.0</td>\n",
       "      <td>0.0</td>\n",
       "      <td>1.0</td>\n",
       "      <td>2.0</td>\n",
       "      <td>0.0</td>\n",
       "      <td>2.0</td>\n",
       "    </tr>\n",
       "    <tr>\n",
       "      <td>10</td>\n",
       "      <td>10</td>\n",
       "      <td>2017-10-16</td>\n",
       "      <td>27254.0</td>\n",
       "      <td>0.036135</td>\n",
       "      <td>0.222053</td>\n",
       "      <td>1.437806e-02</td>\n",
       "      <td>6051.831780</td>\n",
       "      <td>0.208695</td>\n",
       "      <td>0.221674</td>\n",
       "      <td>0.232169</td>\n",
       "      <td>...</td>\n",
       "      <td>0.0</td>\n",
       "      <td>1.0</td>\n",
       "      <td>0.0</td>\n",
       "      <td>1.0</td>\n",
       "      <td>0.0</td>\n",
       "      <td>0.0</td>\n",
       "      <td>0.0</td>\n",
       "      <td>1.0</td>\n",
       "      <td>0.0</td>\n",
       "      <td>1.0</td>\n",
       "    </tr>\n",
       "    <tr>\n",
       "      <td>11</td>\n",
       "      <td>11</td>\n",
       "      <td>2017-11-08</td>\n",
       "      <td>27254.0</td>\n",
       "      <td>0.036135</td>\n",
       "      <td>0.187326</td>\n",
       "      <td>1.481442e-02</td>\n",
       "      <td>5105.376725</td>\n",
       "      <td>0.179688</td>\n",
       "      <td>0.187071</td>\n",
       "      <td>0.197722</td>\n",
       "      <td>...</td>\n",
       "      <td>2.0</td>\n",
       "      <td>0.0</td>\n",
       "      <td>2.0</td>\n",
       "      <td>2.0</td>\n",
       "      <td>0.0</td>\n",
       "      <td>1.0</td>\n",
       "      <td>1.0</td>\n",
       "      <td>0.0</td>\n",
       "      <td>2.0</td>\n",
       "      <td>2.0</td>\n",
       "    </tr>\n",
       "    <tr>\n",
       "      <td>12</td>\n",
       "      <td>12</td>\n",
       "      <td>2018-05-16</td>\n",
       "      <td>27254.0</td>\n",
       "      <td>0.036135</td>\n",
       "      <td>0.230310</td>\n",
       "      <td>2.569315e-02</td>\n",
       "      <td>6276.871502</td>\n",
       "      <td>0.210846</td>\n",
       "      <td>0.219423</td>\n",
       "      <td>0.245852</td>\n",
       "      <td>...</td>\n",
       "      <td>1.0</td>\n",
       "      <td>2.0</td>\n",
       "      <td>0.0</td>\n",
       "      <td>2.0</td>\n",
       "      <td>1.0</td>\n",
       "      <td>0.0</td>\n",
       "      <td>1.0</td>\n",
       "      <td>2.0</td>\n",
       "      <td>0.0</td>\n",
       "      <td>2.0</td>\n",
       "    </tr>\n",
       "    <tr>\n",
       "      <td>13</td>\n",
       "      <td>13</td>\n",
       "      <td>2018-06-12</td>\n",
       "      <td>27254.0</td>\n",
       "      <td>0.036135</td>\n",
       "      <td>0.179793</td>\n",
       "      <td>2.780947e-02</td>\n",
       "      <td>4900.072911</td>\n",
       "      <td>0.158640</td>\n",
       "      <td>0.181476</td>\n",
       "      <td>0.200908</td>\n",
       "      <td>...</td>\n",
       "      <td>50.0</td>\n",
       "      <td>48.0</td>\n",
       "      <td>3.0</td>\n",
       "      <td>51.0</td>\n",
       "      <td>44.0</td>\n",
       "      <td>3.0</td>\n",
       "      <td>47.0</td>\n",
       "      <td>47.0</td>\n",
       "      <td>3.0</td>\n",
       "      <td>50.0</td>\n",
       "    </tr>\n",
       "    <tr>\n",
       "      <td>14</td>\n",
       "      <td>14</td>\n",
       "      <td>2018-07-10</td>\n",
       "      <td>27254.0</td>\n",
       "      <td>0.036135</td>\n",
       "      <td>0.100000</td>\n",
       "      <td>0.000000e+00</td>\n",
       "      <td>2725.400041</td>\n",
       "      <td>0.100000</td>\n",
       "      <td>0.100000</td>\n",
       "      <td>0.100000</td>\n",
       "      <td>...</td>\n",
       "      <td>3.0</td>\n",
       "      <td>8.0</td>\n",
       "      <td>0.0</td>\n",
       "      <td>8.0</td>\n",
       "      <td>6.0</td>\n",
       "      <td>0.0</td>\n",
       "      <td>6.0</td>\n",
       "      <td>4.0</td>\n",
       "      <td>0.0</td>\n",
       "      <td>4.0</td>\n",
       "    </tr>\n",
       "    <tr>\n",
       "      <td>15</td>\n",
       "      <td>15</td>\n",
       "      <td>2018-07-11</td>\n",
       "      <td>27254.0</td>\n",
       "      <td>0.036135</td>\n",
       "      <td>0.210932</td>\n",
       "      <td>1.114305e-02</td>\n",
       "      <td>5748.739681</td>\n",
       "      <td>0.203553</td>\n",
       "      <td>0.206213</td>\n",
       "      <td>0.214191</td>\n",
       "      <td>...</td>\n",
       "      <td>2.0</td>\n",
       "      <td>8.0</td>\n",
       "      <td>0.0</td>\n",
       "      <td>8.0</td>\n",
       "      <td>7.0</td>\n",
       "      <td>0.0</td>\n",
       "      <td>7.0</td>\n",
       "      <td>2.0</td>\n",
       "      <td>0.0</td>\n",
       "      <td>2.0</td>\n",
       "    </tr>\n",
       "    <tr>\n",
       "      <td>16</td>\n",
       "      <td>16</td>\n",
       "      <td>2018-08-08</td>\n",
       "      <td>27254.0</td>\n",
       "      <td>0.036135</td>\n",
       "      <td>0.122145</td>\n",
       "      <td>1.421988e-02</td>\n",
       "      <td>3328.936692</td>\n",
       "      <td>0.111724</td>\n",
       "      <td>0.118654</td>\n",
       "      <td>0.133594</td>\n",
       "      <td>...</td>\n",
       "      <td>20.0</td>\n",
       "      <td>23.0</td>\n",
       "      <td>0.0</td>\n",
       "      <td>23.0</td>\n",
       "      <td>13.0</td>\n",
       "      <td>0.0</td>\n",
       "      <td>13.0</td>\n",
       "      <td>20.0</td>\n",
       "      <td>0.0</td>\n",
       "      <td>20.0</td>\n",
       "    </tr>\n",
       "    <tr>\n",
       "      <td>17</td>\n",
       "      <td>17</td>\n",
       "      <td>2018-08-09</td>\n",
       "      <td>27254.0</td>\n",
       "      <td>0.036135</td>\n",
       "      <td>0.240836</td>\n",
       "      <td>1.957718e-02</td>\n",
       "      <td>6563.733094</td>\n",
       "      <td>0.227789</td>\n",
       "      <td>0.243867</td>\n",
       "      <td>0.248700</td>\n",
       "      <td>...</td>\n",
       "      <td>10.0</td>\n",
       "      <td>22.0</td>\n",
       "      <td>0.0</td>\n",
       "      <td>22.0</td>\n",
       "      <td>22.0</td>\n",
       "      <td>0.0</td>\n",
       "      <td>22.0</td>\n",
       "      <td>10.0</td>\n",
       "      <td>0.0</td>\n",
       "      <td>10.0</td>\n",
       "    </tr>\n",
       "    <tr>\n",
       "      <td>18</td>\n",
       "      <td>18</td>\n",
       "      <td>2018-09-18</td>\n",
       "      <td>27254.0</td>\n",
       "      <td>0.036135</td>\n",
       "      <td>0.162168</td>\n",
       "      <td>2.914137e-02</td>\n",
       "      <td>4419.719715</td>\n",
       "      <td>0.142752</td>\n",
       "      <td>0.170347</td>\n",
       "      <td>0.183651</td>\n",
       "      <td>...</td>\n",
       "      <td>0.0</td>\n",
       "      <td>4.0</td>\n",
       "      <td>1.0</td>\n",
       "      <td>5.0</td>\n",
       "      <td>3.0</td>\n",
       "      <td>1.0</td>\n",
       "      <td>4.0</td>\n",
       "      <td>1.0</td>\n",
       "      <td>0.0</td>\n",
       "      <td>1.0</td>\n",
       "    </tr>\n",
       "    <tr>\n",
       "      <td>19</td>\n",
       "      <td>19</td>\n",
       "      <td>2018-10-10</td>\n",
       "      <td>27254.0</td>\n",
       "      <td>0.036135</td>\n",
       "      <td>0.300000</td>\n",
       "      <td>6.017275e-08</td>\n",
       "      <td>8176.200325</td>\n",
       "      <td>0.300000</td>\n",
       "      <td>0.300000</td>\n",
       "      <td>0.300000</td>\n",
       "      <td>...</td>\n",
       "      <td>0.0</td>\n",
       "      <td>0.0</td>\n",
       "      <td>0.0</td>\n",
       "      <td>0.0</td>\n",
       "      <td>0.0</td>\n",
       "      <td>0.0</td>\n",
       "      <td>0.0</td>\n",
       "      <td>0.0</td>\n",
       "      <td>0.0</td>\n",
       "      <td>0.0</td>\n",
       "    </tr>\n",
       "    <tr>\n",
       "      <td>20</td>\n",
       "      <td>20</td>\n",
       "      <td>2018-10-15</td>\n",
       "      <td>27254.0</td>\n",
       "      <td>0.036135</td>\n",
       "      <td>0.144290</td>\n",
       "      <td>2.843975e-02</td>\n",
       "      <td>3932.473382</td>\n",
       "      <td>0.123448</td>\n",
       "      <td>0.137309</td>\n",
       "      <td>0.167187</td>\n",
       "      <td>...</td>\n",
       "      <td>0.0</td>\n",
       "      <td>1.0</td>\n",
       "      <td>1.0</td>\n",
       "      <td>2.0</td>\n",
       "      <td>0.0</td>\n",
       "      <td>0.0</td>\n",
       "      <td>0.0</td>\n",
       "      <td>1.0</td>\n",
       "      <td>1.0</td>\n",
       "      <td>2.0</td>\n",
       "    </tr>\n",
       "    <tr>\n",
       "      <td>21</td>\n",
       "      <td>21</td>\n",
       "      <td>2018-11-14</td>\n",
       "      <td>27254.0</td>\n",
       "      <td>0.036135</td>\n",
       "      <td>0.189269</td>\n",
       "      <td>4.911653e-03</td>\n",
       "      <td>5158.350897</td>\n",
       "      <td>0.186047</td>\n",
       "      <td>0.188394</td>\n",
       "      <td>0.190016</td>\n",
       "      <td>...</td>\n",
       "      <td>0.0</td>\n",
       "      <td>0.0</td>\n",
       "      <td>0.0</td>\n",
       "      <td>0.0</td>\n",
       "      <td>0.0</td>\n",
       "      <td>0.0</td>\n",
       "      <td>0.0</td>\n",
       "      <td>0.0</td>\n",
       "      <td>0.0</td>\n",
       "      <td>0.0</td>\n",
       "    </tr>\n",
       "    <tr>\n",
       "      <td>22</td>\n",
       "      <td>22</td>\n",
       "      <td>2018-11-20</td>\n",
       "      <td>27254.0</td>\n",
       "      <td>0.036135</td>\n",
       "      <td>0.200000</td>\n",
       "      <td>0.000000e+00</td>\n",
       "      <td>5450.800081</td>\n",
       "      <td>0.200000</td>\n",
       "      <td>0.200000</td>\n",
       "      <td>0.200000</td>\n",
       "      <td>...</td>\n",
       "      <td>0.0</td>\n",
       "      <td>0.0</td>\n",
       "      <td>0.0</td>\n",
       "      <td>0.0</td>\n",
       "      <td>0.0</td>\n",
       "      <td>0.0</td>\n",
       "      <td>0.0</td>\n",
       "      <td>0.0</td>\n",
       "      <td>0.0</td>\n",
       "      <td>0.0</td>\n",
       "    </tr>\n",
       "    <tr>\n",
       "      <td>23</td>\n",
       "      <td>23</td>\n",
       "      <td>2019-04-01</td>\n",
       "      <td>27254.0</td>\n",
       "      <td>0.036135</td>\n",
       "      <td>0.220947</td>\n",
       "      <td>1.017087e-02</td>\n",
       "      <td>6021.676409</td>\n",
       "      <td>0.214301</td>\n",
       "      <td>0.222866</td>\n",
       "      <td>0.226751</td>\n",
       "      <td>...</td>\n",
       "      <td>0.0</td>\n",
       "      <td>0.0</td>\n",
       "      <td>0.0</td>\n",
       "      <td>0.0</td>\n",
       "      <td>0.0</td>\n",
       "      <td>0.0</td>\n",
       "      <td>0.0</td>\n",
       "      <td>0.0</td>\n",
       "      <td>0.0</td>\n",
       "      <td>0.0</td>\n",
       "    </tr>\n",
       "    <tr>\n",
       "      <td>24</td>\n",
       "      <td>24</td>\n",
       "      <td>2019-04-18</td>\n",
       "      <td>27254.0</td>\n",
       "      <td>0.036135</td>\n",
       "      <td>0.132176</td>\n",
       "      <td>2.866739e-02</td>\n",
       "      <td>3602.329773</td>\n",
       "      <td>0.110320</td>\n",
       "      <td>0.119297</td>\n",
       "      <td>0.147678</td>\n",
       "      <td>...</td>\n",
       "      <td>2.0</td>\n",
       "      <td>3.0</td>\n",
       "      <td>0.0</td>\n",
       "      <td>3.0</td>\n",
       "      <td>2.0</td>\n",
       "      <td>0.0</td>\n",
       "      <td>2.0</td>\n",
       "      <td>2.0</td>\n",
       "      <td>0.0</td>\n",
       "      <td>2.0</td>\n",
       "    </tr>\n",
       "    <tr>\n",
       "      <td>25</td>\n",
       "      <td>25</td>\n",
       "      <td>2019-04-19</td>\n",
       "      <td>27254.0</td>\n",
       "      <td>0.036135</td>\n",
       "      <td>0.309654</td>\n",
       "      <td>5.019248e-02</td>\n",
       "      <td>8439.321746</td>\n",
       "      <td>0.300221</td>\n",
       "      <td>0.307089</td>\n",
       "      <td>0.323987</td>\n",
       "      <td>...</td>\n",
       "      <td>1.0</td>\n",
       "      <td>3.0</td>\n",
       "      <td>0.0</td>\n",
       "      <td>3.0</td>\n",
       "      <td>3.0</td>\n",
       "      <td>0.0</td>\n",
       "      <td>3.0</td>\n",
       "      <td>1.0</td>\n",
       "      <td>0.0</td>\n",
       "      <td>1.0</td>\n",
       "    </tr>\n",
       "    <tr>\n",
       "      <td>26</td>\n",
       "      <td>26</td>\n",
       "      <td>2019-05-13</td>\n",
       "      <td>27254.0</td>\n",
       "      <td>0.036135</td>\n",
       "      <td>0.744782</td>\n",
       "      <td>1.403072e-01</td>\n",
       "      <td>20298.278685</td>\n",
       "      <td>0.634801</td>\n",
       "      <td>0.813544</td>\n",
       "      <td>0.854711</td>\n",
       "      <td>...</td>\n",
       "      <td>2.0</td>\n",
       "      <td>4.0</td>\n",
       "      <td>0.0</td>\n",
       "      <td>4.0</td>\n",
       "      <td>2.0</td>\n",
       "      <td>0.0</td>\n",
       "      <td>2.0</td>\n",
       "      <td>2.0</td>\n",
       "      <td>0.0</td>\n",
       "      <td>2.0</td>\n",
       "    </tr>\n",
       "    <tr>\n",
       "      <td>27</td>\n",
       "      <td>27</td>\n",
       "      <td>2019-05-14</td>\n",
       "      <td>27254.0</td>\n",
       "      <td>0.036135</td>\n",
       "      <td>0.390685</td>\n",
       "      <td>5.908853e-02</td>\n",
       "      <td>10647.730687</td>\n",
       "      <td>0.361929</td>\n",
       "      <td>0.408451</td>\n",
       "      <td>0.428506</td>\n",
       "      <td>...</td>\n",
       "      <td>2.0</td>\n",
       "      <td>4.0</td>\n",
       "      <td>2.0</td>\n",
       "      <td>6.0</td>\n",
       "      <td>2.0</td>\n",
       "      <td>0.0</td>\n",
       "      <td>2.0</td>\n",
       "      <td>2.0</td>\n",
       "      <td>2.0</td>\n",
       "      <td>4.0</td>\n",
       "    </tr>\n",
       "    <tr>\n",
       "      <td>28</td>\n",
       "      <td>28</td>\n",
       "      <td>2019-06-17</td>\n",
       "      <td>27254.0</td>\n",
       "      <td>0.036135</td>\n",
       "      <td>0.650252</td>\n",
       "      <td>1.520273e-01</td>\n",
       "      <td>17721.959504</td>\n",
       "      <td>0.549797</td>\n",
       "      <td>0.630033</td>\n",
       "      <td>0.737957</td>\n",
       "      <td>...</td>\n",
       "      <td>0.0</td>\n",
       "      <td>3.0</td>\n",
       "      <td>0.0</td>\n",
       "      <td>3.0</td>\n",
       "      <td>2.0</td>\n",
       "      <td>0.0</td>\n",
       "      <td>2.0</td>\n",
       "      <td>1.0</td>\n",
       "      <td>0.0</td>\n",
       "      <td>1.0</td>\n",
       "    </tr>\n",
       "    <tr>\n",
       "      <td>29</td>\n",
       "      <td>29</td>\n",
       "      <td>2019-06-18</td>\n",
       "      <td>27254.0</td>\n",
       "      <td>0.036135</td>\n",
       "      <td>0.345823</td>\n",
       "      <td>4.323796e-02</td>\n",
       "      <td>9425.064244</td>\n",
       "      <td>0.305284</td>\n",
       "      <td>0.348735</td>\n",
       "      <td>0.389007</td>\n",
       "      <td>...</td>\n",
       "      <td>0.0</td>\n",
       "      <td>3.0</td>\n",
       "      <td>0.0</td>\n",
       "      <td>3.0</td>\n",
       "      <td>2.0</td>\n",
       "      <td>0.0</td>\n",
       "      <td>2.0</td>\n",
       "      <td>1.0</td>\n",
       "      <td>0.0</td>\n",
       "      <td>1.0</td>\n",
       "    </tr>\n",
       "    <tr>\n",
       "      <td>30</td>\n",
       "      <td>30</td>\n",
       "      <td>2019-07-08</td>\n",
       "      <td>27254.0</td>\n",
       "      <td>0.036135</td>\n",
       "      <td>0.294211</td>\n",
       "      <td>3.620819e-02</td>\n",
       "      <td>8018.421409</td>\n",
       "      <td>0.270048</td>\n",
       "      <td>0.298638</td>\n",
       "      <td>0.304595</td>\n",
       "      <td>...</td>\n",
       "      <td>5.0</td>\n",
       "      <td>10.0</td>\n",
       "      <td>2.0</td>\n",
       "      <td>12.0</td>\n",
       "      <td>1.0</td>\n",
       "      <td>0.0</td>\n",
       "      <td>1.0</td>\n",
       "      <td>10.0</td>\n",
       "      <td>2.0</td>\n",
       "      <td>12.0</td>\n",
       "    </tr>\n",
       "    <tr>\n",
       "      <td>31</td>\n",
       "      <td>31</td>\n",
       "      <td>2019-08-12</td>\n",
       "      <td>27254.0</td>\n",
       "      <td>0.036135</td>\n",
       "      <td>0.291811</td>\n",
       "      <td>5.371077e-02</td>\n",
       "      <td>7953.004422</td>\n",
       "      <td>0.273472</td>\n",
       "      <td>0.278827</td>\n",
       "      <td>0.290563</td>\n",
       "      <td>...</td>\n",
       "      <td>3.0</td>\n",
       "      <td>13.0</td>\n",
       "      <td>0.0</td>\n",
       "      <td>13.0</td>\n",
       "      <td>10.0</td>\n",
       "      <td>0.0</td>\n",
       "      <td>10.0</td>\n",
       "      <td>3.0</td>\n",
       "      <td>0.0</td>\n",
       "      <td>3.0</td>\n",
       "    </tr>\n",
       "    <tr>\n",
       "      <td>32</td>\n",
       "      <td>32</td>\n",
       "      <td>2019-09-23</td>\n",
       "      <td>27254.0</td>\n",
       "      <td>0.036135</td>\n",
       "      <td>0.256210</td>\n",
       "      <td>4.708155e-02</td>\n",
       "      <td>6982.756469</td>\n",
       "      <td>0.220447</td>\n",
       "      <td>0.251533</td>\n",
       "      <td>0.270792</td>\n",
       "      <td>...</td>\n",
       "      <td>0.0</td>\n",
       "      <td>0.0</td>\n",
       "      <td>0.0</td>\n",
       "      <td>0.0</td>\n",
       "      <td>0.0</td>\n",
       "      <td>0.0</td>\n",
       "      <td>0.0</td>\n",
       "      <td>0.0</td>\n",
       "      <td>0.0</td>\n",
       "      <td>0.0</td>\n",
       "    </tr>\n",
       "    <tr>\n",
       "      <td>33</td>\n",
       "      <td>n</td>\n",
       "      <td>2017-09-18</td>\n",
       "      <td>NaN</td>\n",
       "      <td>NaN</td>\n",
       "      <td>0.200000</td>\n",
       "      <td>NaN</td>\n",
       "      <td>0.200000</td>\n",
       "      <td>0.200000</td>\n",
       "      <td>0.200000</td>\n",
       "      <td>0.200000</td>\n",
       "      <td>...</td>\n",
       "      <td>7.0</td>\n",
       "      <td>8.0</td>\n",
       "      <td>0.0</td>\n",
       "      <td>8.0</td>\n",
       "      <td>2.0</td>\n",
       "      <td>0.0</td>\n",
       "      <td>2.0</td>\n",
       "      <td>7.0</td>\n",
       "      <td>0.0</td>\n",
       "      <td>7.0</td>\n",
       "    </tr>\n",
       "    <tr>\n",
       "      <td>34</td>\n",
       "      <td>n</td>\n",
       "      <td>2017-10-10</td>\n",
       "      <td>NaN</td>\n",
       "      <td>NaN</td>\n",
       "      <td>0.380000</td>\n",
       "      <td>NaN</td>\n",
       "      <td>0.380000</td>\n",
       "      <td>0.380000</td>\n",
       "      <td>0.380000</td>\n",
       "      <td>0.380000</td>\n",
       "      <td>...</td>\n",
       "      <td>0.0</td>\n",
       "      <td>6.0</td>\n",
       "      <td>0.0</td>\n",
       "      <td>6.0</td>\n",
       "      <td>6.0</td>\n",
       "      <td>0.0</td>\n",
       "      <td>6.0</td>\n",
       "      <td>0.0</td>\n",
       "      <td>0.0</td>\n",
       "      <td>0.0</td>\n",
       "    </tr>\n",
       "    <tr>\n",
       "      <td>35</td>\n",
       "      <td>n</td>\n",
       "      <td>2018-05-17</td>\n",
       "      <td>NaN</td>\n",
       "      <td>NaN</td>\n",
       "      <td>0.250000</td>\n",
       "      <td>NaN</td>\n",
       "      <td>0.250000</td>\n",
       "      <td>0.250000</td>\n",
       "      <td>0.250000</td>\n",
       "      <td>0.250000</td>\n",
       "      <td>...</td>\n",
       "      <td>0.0</td>\n",
       "      <td>2.0</td>\n",
       "      <td>0.0</td>\n",
       "      <td>2.0</td>\n",
       "      <td>1.0</td>\n",
       "      <td>0.0</td>\n",
       "      <td>1.0</td>\n",
       "      <td>1.0</td>\n",
       "      <td>0.0</td>\n",
       "      <td>1.0</td>\n",
       "    </tr>\n",
       "    <tr>\n",
       "      <td>36</td>\n",
       "      <td>n</td>\n",
       "      <td>2018-06-11</td>\n",
       "      <td>NaN</td>\n",
       "      <td>NaN</td>\n",
       "      <td>0.100000</td>\n",
       "      <td>NaN</td>\n",
       "      <td>0.100000</td>\n",
       "      <td>0.100000</td>\n",
       "      <td>0.100000</td>\n",
       "      <td>0.100000</td>\n",
       "      <td>...</td>\n",
       "      <td>50.0</td>\n",
       "      <td>48.0</td>\n",
       "      <td>3.0</td>\n",
       "      <td>51.0</td>\n",
       "      <td>1.0</td>\n",
       "      <td>0.0</td>\n",
       "      <td>1.0</td>\n",
       "      <td>47.0</td>\n",
       "      <td>3.0</td>\n",
       "      <td>50.0</td>\n",
       "    </tr>\n",
       "    <tr>\n",
       "      <td>37</td>\n",
       "      <td>n</td>\n",
       "      <td>2017-10-17</td>\n",
       "      <td>NaN</td>\n",
       "      <td>NaN</td>\n",
       "      <td>0.200000</td>\n",
       "      <td>NaN</td>\n",
       "      <td>0.200000</td>\n",
       "      <td>0.200000</td>\n",
       "      <td>0.200000</td>\n",
       "      <td>0.200000</td>\n",
       "      <td>...</td>\n",
       "      <td>1.0</td>\n",
       "      <td>1.0</td>\n",
       "      <td>0.0</td>\n",
       "      <td>1.0</td>\n",
       "      <td>0.0</td>\n",
       "      <td>0.0</td>\n",
       "      <td>0.0</td>\n",
       "      <td>1.0</td>\n",
       "      <td>0.0</td>\n",
       "      <td>1.0</td>\n",
       "    </tr>\n",
       "  </tbody>\n",
       "</table>\n",
       "<p>38 rows × 28 columns</p>\n",
       "</div>"
      ],
      "text/plain": [
       "   OID OBJECTID_1    COUNT      AREA      MEAN           STD           SUM  \\\n",
       "0    0 2016-04-20  27254.0  0.036135  0.326584  6.522402e-02   8900.717586   \n",
       "1    1 2016-05-25  27254.0  0.036135  0.200000  0.000000e+00   5450.800081   \n",
       "2    2 2016-06-30  27254.0  0.036135  0.200000  0.000000e+00   5450.800081   \n",
       "3    3 2017-05-10  27254.0  0.036135  0.266793  1.052118e-02   7271.177156   \n",
       "4    4 2017-05-11  27254.0  0.036135  0.271572  1.186248e-02   7401.413938   \n",
       "5    5 2017-06-15  27254.0  0.036135  0.321752  4.414198e-02   8769.025205   \n",
       "6    6 2017-07-11  27254.0  0.036135  0.214709  3.412158e-02   5851.680627   \n",
       "7    7 2017-08-07  27254.0  0.036135  0.289606  3.882226e-02   7892.927859   \n",
       "8    8 2017-08-08  27254.0  0.036135  0.265372  3.149683e-02   7232.436012   \n",
       "9    9 2017-09-11  27254.0  0.036135  0.290509  3.197386e-02   7917.524259   \n",
       "10  10 2017-10-16  27254.0  0.036135  0.222053  1.437806e-02   6051.831780   \n",
       "11  11 2017-11-08  27254.0  0.036135  0.187326  1.481442e-02   5105.376725   \n",
       "12  12 2018-05-16  27254.0  0.036135  0.230310  2.569315e-02   6276.871502   \n",
       "13  13 2018-06-12  27254.0  0.036135  0.179793  2.780947e-02   4900.072911   \n",
       "14  14 2018-07-10  27254.0  0.036135  0.100000  0.000000e+00   2725.400041   \n",
       "15  15 2018-07-11  27254.0  0.036135  0.210932  1.114305e-02   5748.739681   \n",
       "16  16 2018-08-08  27254.0  0.036135  0.122145  1.421988e-02   3328.936692   \n",
       "17  17 2018-08-09  27254.0  0.036135  0.240836  1.957718e-02   6563.733094   \n",
       "18  18 2018-09-18  27254.0  0.036135  0.162168  2.914137e-02   4419.719715   \n",
       "19  19 2018-10-10  27254.0  0.036135  0.300000  6.017275e-08   8176.200325   \n",
       "20  20 2018-10-15  27254.0  0.036135  0.144290  2.843975e-02   3932.473382   \n",
       "21  21 2018-11-14  27254.0  0.036135  0.189269  4.911653e-03   5158.350897   \n",
       "22  22 2018-11-20  27254.0  0.036135  0.200000  0.000000e+00   5450.800081   \n",
       "23  23 2019-04-01  27254.0  0.036135  0.220947  1.017087e-02   6021.676409   \n",
       "24  24 2019-04-18  27254.0  0.036135  0.132176  2.866739e-02   3602.329773   \n",
       "25  25 2019-04-19  27254.0  0.036135  0.309654  5.019248e-02   8439.321746   \n",
       "26  26 2019-05-13  27254.0  0.036135  0.744782  1.403072e-01  20298.278685   \n",
       "27  27 2019-05-14  27254.0  0.036135  0.390685  5.908853e-02  10647.730687   \n",
       "28  28 2019-06-17  27254.0  0.036135  0.650252  1.520273e-01  17721.959504   \n",
       "29  29 2019-06-18  27254.0  0.036135  0.345823  4.323796e-02   9425.064244   \n",
       "30  30 2019-07-08  27254.0  0.036135  0.294211  3.620819e-02   8018.421409   \n",
       "31  31 2019-08-12  27254.0  0.036135  0.291811  5.371077e-02   7953.004422   \n",
       "32  32 2019-09-23  27254.0  0.036135  0.256210  4.708155e-02   6982.756469   \n",
       "33   n 2017-09-18      NaN       NaN  0.200000           NaN      0.200000   \n",
       "34   n 2017-10-10      NaN       NaN  0.380000           NaN      0.380000   \n",
       "35   n 2018-05-17      NaN       NaN  0.250000           NaN      0.250000   \n",
       "36   n 2018-06-11      NaN       NaN  0.100000           NaN      0.100000   \n",
       "37   n 2017-10-17      NaN       NaN  0.200000           NaN      0.200000   \n",
       "\n",
       "        X25.      X50.      X75.  ...  tweets_wq_3_after  tweets_neg_7_both  \\\n",
       "0   0.292608  0.326837  0.379791  ...                1.0                3.0   \n",
       "1   0.200000  0.200000  0.200000  ...                0.0                2.0   \n",
       "2   0.200000  0.200000  0.200000  ...                0.0                2.0   \n",
       "3   0.256585  0.267754  0.272464  ...                0.0                1.0   \n",
       "4   0.265434  0.269956  0.278423  ...                0.0                1.0   \n",
       "5   0.300185  0.308336  0.364803  ...                0.0                1.0   \n",
       "6   0.201629  0.212833  0.237013  ...               27.0               32.0   \n",
       "7   0.274076  0.288600  0.306758  ...                3.0                6.0   \n",
       "8   0.249463  0.263379  0.284706  ...                4.0                6.0   \n",
       "9   0.275228  0.296750  0.305719  ...                1.0                3.0   \n",
       "10  0.208695  0.221674  0.232169  ...                0.0                1.0   \n",
       "11  0.179688  0.187071  0.197722  ...                2.0                0.0   \n",
       "12  0.210846  0.219423  0.245852  ...                1.0                2.0   \n",
       "13  0.158640  0.181476  0.200908  ...               50.0               48.0   \n",
       "14  0.100000  0.100000  0.100000  ...                3.0                8.0   \n",
       "15  0.203553  0.206213  0.214191  ...                2.0                8.0   \n",
       "16  0.111724  0.118654  0.133594  ...               20.0               23.0   \n",
       "17  0.227789  0.243867  0.248700  ...               10.0               22.0   \n",
       "18  0.142752  0.170347  0.183651  ...                0.0                4.0   \n",
       "19  0.300000  0.300000  0.300000  ...                0.0                0.0   \n",
       "20  0.123448  0.137309  0.167187  ...                0.0                1.0   \n",
       "21  0.186047  0.188394  0.190016  ...                0.0                0.0   \n",
       "22  0.200000  0.200000  0.200000  ...                0.0                0.0   \n",
       "23  0.214301  0.222866  0.226751  ...                0.0                0.0   \n",
       "24  0.110320  0.119297  0.147678  ...                2.0                3.0   \n",
       "25  0.300221  0.307089  0.323987  ...                1.0                3.0   \n",
       "26  0.634801  0.813544  0.854711  ...                2.0                4.0   \n",
       "27  0.361929  0.408451  0.428506  ...                2.0                4.0   \n",
       "28  0.549797  0.630033  0.737957  ...                0.0                3.0   \n",
       "29  0.305284  0.348735  0.389007  ...                0.0                3.0   \n",
       "30  0.270048  0.298638  0.304595  ...                5.0               10.0   \n",
       "31  0.273472  0.278827  0.290563  ...                3.0               13.0   \n",
       "32  0.220447  0.251533  0.270792  ...                0.0                0.0   \n",
       "33  0.200000  0.200000  0.200000  ...                7.0                8.0   \n",
       "34  0.380000  0.380000  0.380000  ...                0.0                6.0   \n",
       "35  0.250000  0.250000  0.250000  ...                0.0                2.0   \n",
       "36  0.100000  0.100000  0.100000  ...               50.0               48.0   \n",
       "37  0.200000  0.200000  0.200000  ...                1.0                1.0   \n",
       "\n",
       "    tweets_pos_7_both  tweets_wq_7_both  tweets_neg_7_before  \\\n",
       "0                 1.0               4.0                  2.0   \n",
       "1                 0.0               2.0                  1.0   \n",
       "2                 0.0               2.0                  0.0   \n",
       "3                 1.0               3.0                  0.0   \n",
       "4                 1.0               3.0                  0.0   \n",
       "5                 1.0               2.0                  1.0   \n",
       "6                 0.0              34.0                  3.0   \n",
       "7                12.0              19.0                  4.0   \n",
       "8                12.0              19.0                  4.0   \n",
       "9                 0.0               3.0                  1.0   \n",
       "10                0.0               1.0                  0.0   \n",
       "11                2.0               2.0                  0.0   \n",
       "12                0.0               2.0                  1.0   \n",
       "13                3.0              51.0                 44.0   \n",
       "14                0.0               8.0                  6.0   \n",
       "15                0.0               8.0                  7.0   \n",
       "16                0.0              23.0                 13.0   \n",
       "17                0.0              22.0                 22.0   \n",
       "18                1.0               5.0                  3.0   \n",
       "19                0.0               0.0                  0.0   \n",
       "20                1.0               2.0                  0.0   \n",
       "21                0.0               0.0                  0.0   \n",
       "22                0.0               0.0                  0.0   \n",
       "23                0.0               0.0                  0.0   \n",
       "24                0.0               3.0                  2.0   \n",
       "25                0.0               3.0                  3.0   \n",
       "26                0.0               4.0                  2.0   \n",
       "27                2.0               6.0                  2.0   \n",
       "28                0.0               3.0                  2.0   \n",
       "29                0.0               3.0                  2.0   \n",
       "30                2.0              12.0                  1.0   \n",
       "31                0.0              13.0                 10.0   \n",
       "32                0.0               0.0                  0.0   \n",
       "33                0.0               8.0                  2.0   \n",
       "34                0.0               6.0                  6.0   \n",
       "35                0.0               2.0                  1.0   \n",
       "36                3.0              51.0                  1.0   \n",
       "37                0.0               1.0                  0.0   \n",
       "\n",
       "    tweets_pos_7_before  tweets_wq_7_before  tweets_neg_7_after  \\\n",
       "0                   1.0                 3.0                 1.0   \n",
       "1                   0.0                 1.0                 1.0   \n",
       "2                   0.0                 0.0                 2.0   \n",
       "3                   0.0                 0.0                 1.0   \n",
       "4                   0.0                 0.0                 1.0   \n",
       "5                   1.0                 2.0                 0.0   \n",
       "6                   0.0                 5.0                29.0   \n",
       "7                  11.0                15.0                 2.0   \n",
       "8                  11.0                15.0                 2.0   \n",
       "9                   0.0                 1.0                 2.0   \n",
       "10                  0.0                 0.0                 1.0   \n",
       "11                  1.0                 1.0                 0.0   \n",
       "12                  0.0                 1.0                 2.0   \n",
       "13                  3.0                47.0                47.0   \n",
       "14                  0.0                 6.0                 4.0   \n",
       "15                  0.0                 7.0                 2.0   \n",
       "16                  0.0                13.0                20.0   \n",
       "17                  0.0                22.0                10.0   \n",
       "18                  1.0                 4.0                 1.0   \n",
       "19                  0.0                 0.0                 0.0   \n",
       "20                  0.0                 0.0                 1.0   \n",
       "21                  0.0                 0.0                 0.0   \n",
       "22                  0.0                 0.0                 0.0   \n",
       "23                  0.0                 0.0                 0.0   \n",
       "24                  0.0                 2.0                 2.0   \n",
       "25                  0.0                 3.0                 1.0   \n",
       "26                  0.0                 2.0                 2.0   \n",
       "27                  0.0                 2.0                 2.0   \n",
       "28                  0.0                 2.0                 1.0   \n",
       "29                  0.0                 2.0                 1.0   \n",
       "30                  0.0                 1.0                10.0   \n",
       "31                  0.0                10.0                 3.0   \n",
       "32                  0.0                 0.0                 0.0   \n",
       "33                  0.0                 2.0                 7.0   \n",
       "34                  0.0                 6.0                 0.0   \n",
       "35                  0.0                 1.0                 1.0   \n",
       "36                  0.0                 1.0                47.0   \n",
       "37                  0.0                 0.0                 1.0   \n",
       "\n",
       "    tweets_pos_7_after  tweets_wq_7_after  \n",
       "0                  0.0                1.0  \n",
       "1                  0.0                1.0  \n",
       "2                  0.0                2.0  \n",
       "3                  1.0                3.0  \n",
       "4                  1.0                3.0  \n",
       "5                  0.0                0.0  \n",
       "6                  0.0               30.0  \n",
       "7                  2.0                5.0  \n",
       "8                  1.0                4.0  \n",
       "9                  0.0                2.0  \n",
       "10                 0.0                1.0  \n",
       "11                 2.0                2.0  \n",
       "12                 0.0                2.0  \n",
       "13                 3.0               50.0  \n",
       "14                 0.0                4.0  \n",
       "15                 0.0                2.0  \n",
       "16                 0.0               20.0  \n",
       "17                 0.0               10.0  \n",
       "18                 0.0                1.0  \n",
       "19                 0.0                0.0  \n",
       "20                 1.0                2.0  \n",
       "21                 0.0                0.0  \n",
       "22                 0.0                0.0  \n",
       "23                 0.0                0.0  \n",
       "24                 0.0                2.0  \n",
       "25                 0.0                1.0  \n",
       "26                 0.0                2.0  \n",
       "27                 2.0                4.0  \n",
       "28                 0.0                1.0  \n",
       "29                 0.0                1.0  \n",
       "30                 2.0               12.0  \n",
       "31                 0.0                3.0  \n",
       "32                 0.0                0.0  \n",
       "33                 0.0                7.0  \n",
       "34                 0.0                0.0  \n",
       "35                 0.0                1.0  \n",
       "36                 3.0               50.0  \n",
       "37                 0.0                1.0  \n",
       "\n",
       "[38 rows x 28 columns]"
      ]
     },
     "execution_count": 30,
     "metadata": {},
     "output_type": "execute_result"
    }
   ],
   "source": [
    "sd.head(50)"
   ]
  },
  {
   "cell_type": "code",
   "execution_count": 31,
   "metadata": {},
   "outputs": [],
   "source": [
    "sd.columns = sd.columns.str.replace(\".\", \"\")"
   ]
  },
  {
   "cell_type": "code",
   "execution_count": 32,
   "metadata": {},
   "outputs": [],
   "source": [
    "# Regression - Zero inflated poisson regression (zip)\n",
    "formula = \"tweets_neg_3_both ~ X75\"\n",
    "\n",
    "# Use Patsy package to carve out the X and y matrices for ZIP model \n",
    "y, x = dmatrices(formula, sd, return_type='dataframe')"
   ]
  },
  {
   "cell_type": "code",
   "execution_count": null,
   "metadata": {},
   "outputs": [],
   "source": [
    "# https://towardsdatascience.com/an-illustrated-guide-to-the-zero-inflated-poisson-model-b22833343057\n",
    "model_zip = sm.ZeroInflatedPoisson(endog=y, exog=x, exog_infl=x, inflation='logit').fit(method='newton') #Fit the model using maximum likelihood\n",
    "model_zip.summary()"
   ]
  },
  {
   "cell_type": "code",
   "execution_count": null,
   "metadata": {},
   "outputs": [],
   "source": [
    "model.params"
   ]
  },
  {
   "cell_type": "code",
   "execution_count": null,
   "metadata": {
    "scrolled": false
   },
   "outputs": [],
   "source": [
    "# Regression - Zero Inflated Negative Binomial\n",
    "# explantion abt zero inflation https://stats.stackexchange.com/questions/77745/zero-inflated-negative-binomial/257900\n",
    "model_zinb = sm.ZeroInflatedNegativeBinomialP(endog=y, exog=x, exog_infl=x, inflation='logit').fit(method='ncg')\n",
    "model_zinb.summary()"
   ]
  },
  {
   "cell_type": "code",
   "execution_count": 23,
   "metadata": {},
   "outputs": [
    {
     "ename": "AttributeError",
     "evalue": "'list' object has no attribute 'head'",
     "output_type": "error",
     "traceback": [
      "\u001b[1;31m---------------------------------------------------------------------------\u001b[0m",
      "\u001b[1;31mAttributeError\u001b[0m                            Traceback (most recent call last)",
      "\u001b[1;32m<ipython-input-23-b187cf5f5d99>\u001b[0m in \u001b[0;36m<module>\u001b[1;34m\u001b[0m\n\u001b[1;32m----> 1\u001b[1;33m \u001b[0msd\u001b[0m\u001b[1;33m.\u001b[0m\u001b[0mhead\u001b[0m\u001b[1;33m(\u001b[0m\u001b[1;33m)\u001b[0m\u001b[1;33m\u001b[0m\u001b[1;33m\u001b[0m\u001b[0m\n\u001b[0m",
      "\u001b[1;31mAttributeError\u001b[0m: 'list' object has no attribute 'head'"
     ]
    }
   ],
   "source": [
    "sd.head()"
   ]
  },
  {
   "cell_type": "code",
   "execution_count": 34,
   "metadata": {},
   "outputs": [
    {
     "data": {
      "text/html": [
       "<table class=\"simpletable\">\n",
       "<caption>Generalized Linear Model Regression Results</caption>\n",
       "<tr>\n",
       "  <th>Dep. Variable:</th>   <td>tweets_neg_3_both</td> <th>  No. Observations:  </th>  <td>    38</td> \n",
       "</tr>\n",
       "<tr>\n",
       "  <th>Model:</th>                  <td>GLM</td>        <th>  Df Residuals:      </th>  <td>    36</td> \n",
       "</tr>\n",
       "<tr>\n",
       "  <th>Model Family:</th>         <td>Poisson</td>      <th>  Df Model:          </th>  <td>     1</td> \n",
       "</tr>\n",
       "<tr>\n",
       "  <th>Link Function:</th>          <td>log</td>        <th>  Scale:             </th> <td>  1.0000</td>\n",
       "</tr>\n",
       "<tr>\n",
       "  <th>Method:</th>                <td>IRLS</td>        <th>  Log-Likelihood:    </th> <td> -260.25</td>\n",
       "</tr>\n",
       "<tr>\n",
       "  <th>Date:</th>            <td>Sun, 07 Feb 2021</td>  <th>  Deviance:          </th> <td>  441.59</td>\n",
       "</tr>\n",
       "<tr>\n",
       "  <th>Time:</th>                <td>19:56:20</td>      <th>  Pearson chi2:      </th>  <td>  720.</td> \n",
       "</tr>\n",
       "<tr>\n",
       "  <th>No. Iterations:</th>          <td>6</td>         <th>                     </th>     <td> </td>   \n",
       "</tr>\n",
       "<tr>\n",
       "  <th>Covariance Type:</th>     <td>nonrobust</td>     <th>                     </th>     <td> </td>   \n",
       "</tr>\n",
       "</table>\n",
       "<table class=\"simpletable\">\n",
       "<tr>\n",
       "      <td></td>         <th>coef</th>     <th>std err</th>      <th>z</th>      <th>P>|z|</th>  <th>[0.025</th>    <th>0.975]</th>  \n",
       "</tr>\n",
       "<tr>\n",
       "  <th>Intercept</th> <td>    3.5721</td> <td>    0.204</td> <td>   17.550</td> <td> 0.000</td> <td>    3.173</td> <td>    3.971</td>\n",
       "</tr>\n",
       "<tr>\n",
       "  <th>X75</th>       <td>   -7.7967</td> <td>    0.935</td> <td>   -8.341</td> <td> 0.000</td> <td>   -9.629</td> <td>   -5.965</td>\n",
       "</tr>\n",
       "</table>"
      ],
      "text/plain": [
       "<class 'statsmodels.iolib.summary.Summary'>\n",
       "\"\"\"\n",
       "                 Generalized Linear Model Regression Results                  \n",
       "==============================================================================\n",
       "Dep. Variable:      tweets_neg_3_both   No. Observations:                   38\n",
       "Model:                            GLM   Df Residuals:                       36\n",
       "Model Family:                 Poisson   Df Model:                            1\n",
       "Link Function:                    log   Scale:                          1.0000\n",
       "Method:                          IRLS   Log-Likelihood:                -260.25\n",
       "Date:                Sun, 07 Feb 2021   Deviance:                       441.59\n",
       "Time:                        19:56:20   Pearson chi2:                     720.\n",
       "No. Iterations:                     6                                         \n",
       "Covariance Type:            nonrobust                                         \n",
       "==============================================================================\n",
       "                 coef    std err          z      P>|z|      [0.025      0.975]\n",
       "------------------------------------------------------------------------------\n",
       "Intercept      3.5721      0.204     17.550      0.000       3.173       3.971\n",
       "X75           -7.7967      0.935     -8.341      0.000      -9.629      -5.965\n",
       "==============================================================================\n",
       "\"\"\""
      ]
     },
     "execution_count": 34,
     "metadata": {},
     "output_type": "execute_result"
    }
   ],
   "source": [
    "# Negative Binomial\n",
    "model_p = sm.GLM(y, x, family=sm.families.Poisson()).fit()\n",
    "model_p.summary()"
   ]
  },
  {
   "cell_type": "code",
   "execution_count": 35,
   "metadata": {},
   "outputs": [
    {
     "name": "stdout",
     "output_type": "stream",
     "text": [
      "[ 1.84218021  7.48376053  7.48376053  4.25354061  4.06044186  2.07053739\n",
      "  5.60776717  3.25558303  3.86631463  3.28207154  5.82362738  7.61787628\n",
      "  5.23431776  7.43097574 16.32029085  6.6998727  12.55963451  5.11937474\n",
      "  8.50120627  3.43171999  9.66553913  8.08956814  7.48376053  6.07489431\n",
      " 11.25345059  2.84635143  0.04541661  1.2600313   0.11286375  1.71446446\n",
      "  3.31094938  3.69373135  4.30936939  7.4837607   1.83918527  5.06775824\n",
      " 16.32029104  7.4837607 ]\n",
      "38\n"
     ]
    }
   ],
   "source": [
    "print(model_p.mu)\n",
    "print(len(model_p.mu))"
   ]
  },
  {
   "cell_type": "code",
   "execution_count": 36,
   "metadata": {},
   "outputs": [],
   "source": [
    "sd_copy = sd.copy()\n",
    "sd_copy['BB_LAMBDA'] = model_p.mu"
   ]
  },
  {
   "cell_type": "code",
   "execution_count": 37,
   "metadata": {},
   "outputs": [],
   "source": [
    "sd_copy['AUX_OLS_DEP'] = sd_copy.apply(lambda x: ((x['tweets_neg_3_both'] - x['BB_LAMBDA'])**2 - x['BB_LAMBDA']) / x['BB_LAMBDA'], axis=1)"
   ]
  },
  {
   "cell_type": "code",
   "execution_count": 38,
   "metadata": {},
   "outputs": [],
   "source": [
    "ols_expr = \"\"\"AUX_OLS_DEP ~ BB_LAMBDA - 1\"\"\""
   ]
  },
  {
   "cell_type": "code",
   "execution_count": 39,
   "metadata": {},
   "outputs": [],
   "source": [
    "aux_olsr_results = smf.ols(ols_expr, sd_copy).fit()"
   ]
  },
  {
   "cell_type": "code",
   "execution_count": 40,
   "metadata": {},
   "outputs": [
    {
     "name": "stdout",
     "output_type": "stream",
     "text": [
      "BB_LAMBDA    2.166812\n",
      "dtype: float64\n"
     ]
    }
   ],
   "source": [
    "print(aux_olsr_results.params)"
   ]
  },
  {
   "cell_type": "code",
   "execution_count": 41,
   "metadata": {},
   "outputs": [
    {
     "data": {
      "text/plain": [
       "BB_LAMBDA    1.945057\n",
       "dtype: float64"
      ]
     },
     "execution_count": 41,
     "metadata": {},
     "output_type": "execute_result"
    }
   ],
   "source": [
    "aux_olsr_results.tvalues #seeing the significant t-value for 95 percentile it is significant"
   ]
  },
  {
   "cell_type": "code",
   "execution_count": 42,
   "metadata": {},
   "outputs": [],
   "source": [
    "nb2_training_results = sm.GLM(y, x,family=sm.families.NegativeBinomial(alpha=aux_olsr_results.params[0])).fit()"
   ]
  },
  {
   "cell_type": "code",
   "execution_count": 43,
   "metadata": {},
   "outputs": [
    {
     "name": "stdout",
     "output_type": "stream",
     "text": [
      "                 Generalized Linear Model Regression Results                  \n",
      "==============================================================================\n",
      "Dep. Variable:      tweets_neg_3_both   No. Observations:                   38\n",
      "Model:                            GLM   Df Residuals:                       36\n",
      "Model Family:        NegativeBinomial   Df Model:                            1\n",
      "Link Function:                    log   Scale:                          1.0000\n",
      "Method:                          IRLS   Log-Likelihood:                -95.137\n",
      "Date:                Sun, 07 Feb 2021   Deviance:                       48.908\n",
      "Time:                        19:57:09   Pearson chi2:                     45.7\n",
      "No. Iterations:                    34                                         \n",
      "Covariance Type:            nonrobust                                         \n",
      "==============================================================================\n",
      "                 coef    std err          z      P>|z|      [0.025      0.975]\n",
      "------------------------------------------------------------------------------\n",
      "Intercept      2.5311      0.573      4.416      0.000       1.408       3.654\n",
      "X75           -3.3140      1.924     -1.723      0.085      -7.084       0.456\n",
      "==============================================================================\n"
     ]
    }
   ],
   "source": [
    "print(nb2_training_results.summary())"
   ]
  },
  {
   "cell_type": "code",
   "execution_count": 61,
   "metadata": {},
   "outputs": [
    {
     "data": {
      "image/png": "[encoded data removed]",
      "text/plain": [
       "<Figure size 504x216 with 1 Axes>"
      ]
     },
     "metadata": {
      "needs_background": "light"
     },
     "output_type": "display_data"
    }
   ],
   "source": [
    "# print out\n",
    "# Export model as img\n",
    "plt.rc('figure', figsize=(7,3))\n",
    "plt.text(0.01, 0.05, str(nb2_training_results.summary()),\n",
    "{'fontsize':22}, fontproperties =  'monospace')\n",
    "plt.axis('off')\n",
    "plt.tight_layout()\n",
    "plt.savefig('../../output/regression/output.png')"
   ]
  },
  {
   "cell_type": "code",
   "execution_count": null,
   "metadata": {},
   "outputs": [],
   "source": []
  },
  {
   "cell_type": "code",
   "execution_count": null,
   "metadata": {},
   "outputs": [],
   "source": []
  },
  {
   "cell_type": "code",
   "execution_count": null,
   "metadata": {},
   "outputs": [],
   "source": []
  },
  {
   "cell_type": "code",
   "execution_count": null,
   "metadata": {},
   "outputs": [],
   "source": []
  },
  {
   "cell_type": "code",
   "execution_count": null,
   "metadata": {},
   "outputs": [],
   "source": []
  },
  {
   "cell_type": "code",
   "execution_count": null,
   "metadata": {},
   "outputs": [],
   "source": []
  },
  {
   "cell_type": "code",
   "execution_count": null,
   "metadata": {},
   "outputs": [],
   "source": []
  },
  {
   "cell_type": "code",
   "execution_count": null,
   "metadata": {},
   "outputs": [],
   "source": [
    "wq='sd'\n",
    "x='X75'\n",
    "y='tweets_neg_3_both'"
   ]
  },
  {
   "cell_type": "code",
   "execution_count": null,
   "metadata": {},
   "outputs": [],
   "source": [
    "temp = df[wq]\n",
    "formula = f\"{y} ~ {x}\"\n",
    "Y, X = dmatrices(formula, temp, return_type='dataframe')\n",
    "model_p = sm.GLM(Y, X, family=sm.families.Poisson()).fit()\n",
    "temp2 = temp.copy()\n",
    "temp2['rate_lambda'] = model_p.mu\n",
    "temp2['aux_ols_dependent'] = temp2.apply(lambda t: ((t[y] - t['rate_lambda'])**2 - t['rate_lambda']) / t['rate_lambda'], axis=1)\n",
    "ols_formula = \"\"\"aux_ols_dependent ~ rate_lambda - 1\"\"\"\n",
    "\n",
    "model_aux_olsr = smf.ols(ols_formula, temp2).fit()"
   ]
  },
  {
   "cell_type": "code",
   "execution_count": null,
   "metadata": {},
   "outputs": [],
   "source": [
    "def poisson(wq, x, y):\n",
    "    \n",
    "    temp = df[wq]\n",
    "    \n",
    "    # Model formula\n",
    "    formula = f\"{y} ~ {x}\"\n",
    "    \n",
    "    # Use Patsy package to carve out the x and y matrices for the ZIP model \n",
    "    Y, X = dmatrices(formula, temp, return_type='dataframe')\n",
    "    \n",
    "    # Fit the model\n",
    "    model_p = sm.GLM(Y, X, family=sm.families.Poisson()).fit() #Fit the model using maximum likelihood\n",
    "    \n",
    "    return model_p, Y, X"
   ]
  },
  {
   "cell_type": "code",
   "execution_count": null,
   "metadata": {},
   "outputs": [],
   "source": [
    "def negative_binomial(wq, x, y):\n",
    "    \n",
    "    poisson(wq, x, y)\n",
    "    \n",
    "#     temp = df[wq]\n",
    "    \n",
    "#     # Model formula\n",
    "#     formula = f\"{y} ~ {x}\"\n",
    "    \n",
    "#     # Use Patsy package to carve out the x and y matrices for the ZIP model \n",
    "#     Y, X = dmatrices(formula, temp, return_type='dataframe')\n",
    "    \n",
    "#     # Fit the model\n",
    "#     model_p = sm.GLM(Y, X, family=sm.families.Poisson()).fit() #Fit the model using maximum likelihood\n",
    "    \n",
    "    # Obtain rate vector from Poisson model\n",
    "    temp2 = temp.copy()\n",
    "    temp2['rate_lambda'] = model_p.mu\n",
    "    \n",
    "    # Auxiliary OLS regression to find α for the NB2 model\n",
    "    # Calculate the dependent variable\n",
    "    temp2['aux_ols_dependent'] = temp2.apply(lambda t: ((t[y] - t['rate_lambda'])**2 - t['rate_lambda']) / t['rate_lambda'], axis=1)\n",
    "    \n",
    "    # Using the α as dependent variable in an OLS regression model\n",
    "    ols_formula = \"\"\"aux_ols_dependent ~ rate_lambda - 1\"\"\"\n",
    "    \n",
    "    # Fitting the OLS regression model\n",
    "    model_aux_olsr = smf.ols(ols_formula, temp2).fit()\n",
    "    \n",
    "    # The model coefficient is the alpha parameter for our negative binomial\n",
    "    alpha = model_aux_olsr.params[0]\n",
    "    \n",
    "    # Get the associate t-value to determine significance\n",
    "    t_value = model_aux_olsr.tvalues[0]\n",
    "    \n",
    "    # Caluclate degrees of freedom (number of observations - regression variables - dispersion variable)\n",
    "    deg_freedom = len(temp2) - 1 - 1\n",
    "    \n",
    "    # Determine t critical value at 95% significance value\n",
    "    t_critical = scipy.stats.t.ppf(q=1-.05,df=deg_freedom)\n",
    "    \n",
    "    # If the alpha is significant, negative binomial can be a better fit than poisson\n",
    "    if (t_value > t_critical):\n",
    "        print (\"Alpha parameter of negative binomial regression is significant\")\n",
    "    else:\n",
    "        print (\"Alpha parameter of negative binomial regression is not significant\")\n",
    "        \n",
    "    # Fit negative binomial regression model\n",
    "    model_nb = sm.GLM(Y, X,family=sm.families.NegativeBinomial(alpha=alpha)).fit()\n",
    "    \n",
    "    return model_nb.summary()"
   ]
  },
  {
   "cell_type": "code",
   "execution_count": null,
   "metadata": {},
   "outputs": [],
   "source": [
    "negative_binomial('sd', 'X75', 'tweets_neg_3_both')"
   ]
  },
  {
   "cell_type": "code",
   "execution_count": null,
   "metadata": {},
   "outputs": [],
   "source": []
  },
  {
   "cell_type": "code",
   "execution_count": null,
   "metadata": {},
   "outputs": [],
   "source": [
    "from __future__ import print_function\n",
    "from ipywidgets import interact, interactive, fixed, interact_manual\n",
    "import ipywidgets as widgets\n",
    "\n"
   ]
  },
  {
   "cell_type": "code",
   "execution_count": null,
   "metadata": {},
   "outputs": [],
   "source": [
    "def f(x):\n",
    "    return x\n",
    "interact(f, x=[('oneeeeeeeeeeeeeeeeeeeeffffffffffddddddddddddddddddddddddd', '10'), ('two', 20)]);"
   ]
  },
  {
   "cell_type": "code",
   "execution_count": null,
   "metadata": {},
   "outputs": [],
   "source": []
  },
  {
   "cell_type": "code",
   "execution_count": 77,
   "metadata": {},
   "outputs": [
    {
     "data": {
      "image/png": "[encoded data removed]",
      "text/plain": [
       "<Figure size 864x792 with 4 Axes>"
      ]
     },
     "metadata": {
      "needs_background": "light"
     },
     "output_type": "display_data"
    }
   ],
   "source": [
    "fig = plt.figure(figsize=(12,11))\n",
    "\n",
    "ax1 = fig.add_subplot(2, 2, 1)\n",
    "ax1.scatter(df['sd']['X75'], df['sd']['tweets_neg_3_after'], color='orange', \n",
    "           alpha=0.5, s=100, edgecolor='black')\n",
    "ax1.set(xlabel=\"Secchi disk depth (m)\", ylabel='Tweet counts',\n",
    "       title=\"3 days after\")\n",
    "\n",
    "ax1 = fig.add_subplot(2, 2, 2)\n",
    "ax1.scatter(df['sd']['X75'], df['sd']['tweets_neg_3_both'], color='red', \n",
    "           alpha=0.5, s=100, edgecolor='black')\n",
    "ax1.set(xlabel=\"Secchi disk depth (m)\", ylabel='Tweet counts', \n",
    "        title=\"3 days before and after\")\n",
    "\n",
    "ax1 = fig.add_subplot(2, 2, 3)\n",
    "ax1.scatter(df['sd']['X75'], df['sd']['tweets_neg_7_after'], color='cyan', \n",
    "           alpha=0.5, s=100, edgecolor='black')\n",
    "ax1.set(xlabel=\"Secchi disk depth (m)\", ylabel='Tweet counts',\n",
    "       title=\"7 days after\")\n",
    "\n",
    "ax1 = fig.add_subplot(2, 2, 4)\n",
    "ax1.scatter(df['sd']['X75'], df['sd']['tweets_neg_7_both'], color='pink', \n",
    "           alpha=0.5, s=100, edgecolor='black')\n",
    "ax1.set(xlabel=\"Secchi disk depth (m)\", ylabel='Tweet counts',\n",
    "       title=\"7 days before and after\")\n",
    "\n",
    "\n",
    "fig.suptitle(f\"Rolling sum of tweets for Secchi disk depth (n={len(df['sd'])}) measurments\")\n",
    "#fig.tight_layout()\n",
    "plt.subplots_adjust(hspace=0.4, wspace=0.2)\n",
    "plt.savefig(\"../../output/bivariate plots/sd_plot.png\", bbox_inches = 'tight')\n",
    "plt.show();"
   ]
  }
 ],
 "metadata": {
  "kernelspec": {
   "display_name": "Python 3",
   "language": "python",
   "name": "python3"
  },
  "language_info": {
   "codemirror_mode": {
    "name": "ipython",
    "version": 3
   },
   "file_extension": ".py",
   "mimetype": "text/x-python",
   "name": "python",
   "nbconvert_exporter": "python",
   "pygments_lexer": "ipython3",
   "version": "3.7.4"
  }
 },
 "nbformat": 4,
 "nbformat_minor": 2
}
